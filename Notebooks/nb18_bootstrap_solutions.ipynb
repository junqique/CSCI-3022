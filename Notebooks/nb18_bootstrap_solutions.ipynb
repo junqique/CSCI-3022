{
 "cells": [
  {
   "cell_type": "markdown",
   "metadata": {},
   "source": [
    "# Notebook 18: The Bootstrap \n",
    "***\n",
    "\n",
    "We'll need Numpy, Matplotlib, Pandas, and scipy.stats for this notebook, so let's load them. "
   ]
  },
  {
   "cell_type": "code",
   "execution_count": 1,
   "metadata": {},
   "outputs": [],
   "source": [
    "import numpy as np \n",
    "from scipy import stats\n",
    "import pandas as pd \n",
    "import matplotlib.pyplot as plt \n",
    "%matplotlib inline"
   ]
  },
  {
   "cell_type": "markdown",
   "metadata": {},
   "source": [
    "### Exercise 1 - Bootstrapped Confidence Intervals for the Mean \n",
    "*** \n",
    "\n",
    "In this exercise you will experiment with empirical bootstrap techniques to compute confidence intervals the mean of the exponential distribution with parameter $\\lambda = 5$.  \n",
    "\n",
    "**Part A**: Write down the expected value, variance, and standard deviation of $X \\sim Exp(5)$.  You can look them up on [Wiki](https://en.wikipedia.org/wiki/Exponential_distribution) if you need to. "
   ]
  },
  {
   "cell_type": "markdown",
   "metadata": {},
   "source": [
    "**Solution**: We have \n",
    "\n",
    "$$\n",
    "E[X] = \\frac{1}{\\lambda} = \\frac{1}{5} = 0.2, \\quad \\textrm{Var}(X) = \\frac{1}{\\lambda^2} = \\frac{1}{25} = 0.04, \\quad \\textrm{SD}(X) = \\frac{1}{\\lambda} = \\frac{1}{5} = 0.2  \n",
    "$$"
   ]
  },
  {
   "cell_type": "markdown",
   "metadata": {},
   "source": [
    "**Part B**: The variable $\\texttt{sample}$ below consists of $500$ samples from $Exp(5)$.  Complete the function bootstrapped_mean below, to draw at least $5000$ bootstrapped resamples (with replacement) from the empirical distribution defined by $\\texttt{sample}$ and compute a bootstrapped confidence interval for the mean at the 95% confidence level.  "
   ]
  },
  {
   "cell_type": "code",
   "execution_count": 2,
   "metadata": {},
   "outputs": [],
   "source": [
    "sample = np.random.exponential(1/5, size=500)"
   ]
  },
  {
   "cell_type": "code",
   "execution_count": 3,
   "metadata": {},
   "outputs": [
    {
     "name": "stderr",
     "output_type": "stream",
     "text": [
      "/Users/rachelcox/anaconda3/lib/python3.7/site-packages/matplotlib/axes/_axes.py:6521: MatplotlibDeprecationWarning: \n",
      "The 'normed' kwarg was deprecated in Matplotlib 2.1 and will be removed in 3.1. Use 'density' instead.\n",
      "  alternative=\"'density'\", removal=\"3.1\")\n"
     ]
    },
    {
     "data": {
      "text/plain": [
       "array([0.192616  , 0.22905077])"
      ]
     },
     "execution_count": 3,
     "metadata": {},
     "output_type": "execute_result"
    },
    {
     "data": {
      "image/png": "[encoded data removed]",
      "text/plain": [
       "<Figure size 864x432 with 1 Axes>"
      ]
     },
     "metadata": {
      "needs_background": "light"
     },
     "output_type": "display_data"
    }
   ],
   "source": [
    "def bootstrapped_mean(sample, num_boots=5000):\n",
    "\n",
    "    b = np.array([np.mean(np.random.choice(sample, replace=True, size=len(sample))) for ii in range(num_boots)])\n",
    "    L, U = np.percentile(b, 2.5), np.percentile(b, 97.5)\n",
    "    CI = np.array([L, U])\n",
    "\n",
    "    fig, ax = plt.subplots(nrows=1, ncols=1, figsize=(12,6))\n",
    "    pd.Series(b).hist(ax=ax, color=\"steelblue\", edgecolor=\"white\", bins=20, normed=False)\n",
    "    ax.grid(alpha=0.25)\n",
    "    ax.set_axisbelow(True)\n",
    "    ax.set_xlabel(\"Bootstrapped Mean Estimates\", fontsize=16)\n",
    "    ax.set_ylabel(\"Frequency\", fontsize=16)\n",
    "    \n",
    "    ax.plot([CI[0], CI[1]], [num_boots/12, num_boots/12], color=\"red\", lw=3)\n",
    "    ax.plot([CI[0], CI[0]], [num_boots/12-10, num_boots/12+10], color=\"red\", lw=3)\n",
    "    ax.plot([CI[1], CI[1]], [num_boots/12-10, num_boots/12+10], color=\"red\", lw=3)\n",
    "    \n",
    "    return CI \n",
    "    \n",
    "bootstrapped_mean(sample)"
   ]
  },
  {
   "cell_type": "markdown",
   "metadata": {},
   "source": [
    "**Part C**: Use the sample mean of $\\texttt{sample}$ and the known standard deviation of the distribution to compute a traditional 95% confidence interval for the mean of the distribution.  Compare your traditional confidence interval to the bootstrapped confidence interval returned by your code. "
   ]
  },
  {
   "cell_type": "markdown",
   "metadata": {},
   "source": [
    "**Solution**: We know that the standard deviation of the population is $\\sigma = 1/\\lambda = 0.2$.  At the 95% confidence level, the traditional confidence interval is "
   ]
  },
  {
   "cell_type": "code",
   "execution_count": 4,
   "metadata": {},
   "outputs": [
    {
     "name": "stdout",
     "output_type": "stream",
     "text": [
      "Traditional 95% Confidence Interval: [0.174, 0.209]\n"
     ]
    }
   ],
   "source": [
    "from scipy.stats import norm \n",
    "z = norm.ppf(0.975)\n",
    "sig = 0.2 \n",
    "CI = [np.mean(sample) + flip*z*sig/np.sqrt(len(sample)) for flip in [-1,1]]\n",
    "print(\"Traditional 95% Confidence Interval: [{:.3f}, {:.3f}]\".format(CI[0], CI[1]))"
   ]
  },
  {
   "cell_type": "markdown",
   "metadata": {},
   "source": [
    "**Part D**: Modify the code you wrote in **Part B** to also plot a histogram of the bootstrapped sample means along with some graphical representation of the calculated confidence interval. "
   ]
  },
  {
   "cell_type": "code",
   "execution_count": null,
   "metadata": {
    "collapsed": true
   },
   "outputs": [],
   "source": []
  },
  {
   "cell_type": "markdown",
   "metadata": {},
   "source": [
    "### Exercise 2 - Bootstrapped Confidence Intervals for the Variance\n",
    "*** \n",
    "\n",
    "In this exercise you will experiment with empirical bootstrap techniques to compute confidence intervals for various statistics of the variance of the exponential distribution with parameter $\\lambda = 5$.  \n",
    "\n",
    "**Part A**: Complete the function bootstrapped_var below, to draw at least $5000$ bootstrapped samples (with replacement) from the empirical distribution defined by $\\texttt{sample}$ and compute a bootstrapped confidence interval for the variance at the 95% confidence level.  You should be able to copy paste your code from Exercise 1. Use your function to find the 95% bootstrapped CI for the data stored in $\\texttt{sample}$ from Exercise 1. "
   ]
  },
  {
   "cell_type": "code",
   "execution_count": 6,
   "metadata": {},
   "outputs": [
    {
     "data": {
      "text/plain": [
       "array([ 0.17789167,  0.21648547])"
      ]
     },
     "execution_count": 6,
     "metadata": {},
     "output_type": "execute_result"
    },
    {
     "data": {
      "image/png": "[encoded data removed]",
      "text/plain": [
       "<matplotlib.figure.Figure at 0x1129c15f8>"
      ]
     },
     "metadata": {},
     "output_type": "display_data"
    }
   ],
   "source": [
    "def bootstrapped_var(sample, num_boots=5000):\n",
    "\n",
    "    b = np.array([np.std(np.random.choice(sample, replace=True, size=len(sample))) for ii in range(num_boots)])\n",
    "    L, U = np.percentile(b, 2.5), np.percentile(b, 97.5)\n",
    "    CI = np.array([L, U])\n",
    "\n",
    "    fig, ax = plt.subplots(nrows=1, ncols=1, figsize=(12,6))\n",
    "    pd.Series(b).hist(ax=ax, color=\"steelblue\", edgecolor=\"white\", bins=20, normed=False)\n",
    "    ax.grid(alpha=0.25)\n",
    "    ax.set_axisbelow(True)\n",
    "    ax.set_xlabel(\"Bootstrapped SD Estimates\", fontsize=16)\n",
    "    ax.set_ylabel(\"Frequency\", fontsize=16)\n",
    "    \n",
    "    ax.plot([CI[0], CI[1]], [num_boots/12, num_boots/12], color=\"red\", lw=3)\n",
    "    ax.plot([CI[0], CI[0]], [num_boots/12-10, num_boots/12+10], color=\"red\", lw=3)\n",
    "    ax.plot([CI[1], CI[1]], [num_boots/12-10, num_boots/12+10], color=\"red\", lw=3)\n",
    "    \n",
    "    return CI \n",
    "    \n",
    "bootstrapped_var(sample)"
   ]
  },
  {
   "cell_type": "markdown",
   "metadata": {},
   "source": [
    "**Part B**: Does your 95% bootstrapped confidence interval cover the true variance of the population? "
   ]
  },
  {
   "cell_type": "code",
   "execution_count": null,
   "metadata": {
    "collapsed": true
   },
   "outputs": [],
   "source": []
  },
  {
   "cell_type": "markdown",
   "metadata": {},
   "source": [
    "### Exercise 3 - Empirical Coverage of Bootstrapped Confidence Intervals  \n",
    "*** \n",
    "\n",
    "Complete the function CI_test below to test the coverage of the bootstrapped confidence intervals at the 95% confidence level for the mean of the population that $\\texttt{sample}$ is drawn from.  Recall that you know that the true sample mean is $1/\\lambda = 0.2$.  "
   ]
  },
  {
   "cell_type": "code",
   "execution_count": 7,
   "metadata": {
    "collapsed": true
   },
   "outputs": [],
   "source": [
    "def CI_test(sample, num_CIs=100, num_boots=5000):\n",
    "    return 1.0 "
   ]
  },
  {
   "cell_type": "markdown",
   "metadata": {},
   "source": [
    "### Exercise 4 - Parametric Bootstrap for the Exponential Parameter \n",
    "*** \n",
    "\n",
    "In this exercise you will experiment with the parametric bootstrap technique to compute confidence intervals for various statistics of the exponential distribution with parameter $\\lambda = 5$.  \n",
    "\n",
    "**Part A**: Complete the function bootstrapped_lam below, to draw at least $5000$ bootstrapped resamples (with replacement) from the empirical distribution defined by $\\texttt{sample}$ and compute a bootstrapped confidence interval for the exponential parameter $\\lambda$.  Recall from class that a good estimator for $\\lambda$ is $1/x$ where $x$ is assumed to come from $Exp(\\lambda)$. "
   ]
  },
  {
   "cell_type": "code",
   "execution_count": null,
   "metadata": {
    "collapsed": true
   },
   "outputs": [],
   "source": []
  },
  {
   "cell_type": "markdown",
   "metadata": {},
   "source": [
    "**Part B**: Complete the function parametric_stdev below, to draw at least $5000$ bootstrapped resamples (with replacement) from the empirical distribution defined by $\\texttt{sample}$.  From each bootstrapped resample, estimate the exponential parameter $\\lambda$, then transform the estimate of $\\lambda$ to the variance of the exponential distribution.  With your bootstrapped estimates of $\\sigma$, compute a 95% confidence interval for the variance.  How does this confidence interval compared to the one computed in Exercise 2? \n"
   ]
  },
  {
   "cell_type": "code",
   "execution_count": null,
   "metadata": {
    "collapsed": true
   },
   "outputs": [],
   "source": [
    "def parametric_stdev(sample, num_boots=5000):\n",
    "    return np.array([0,1])\n",
    "    \n",
    "parametric_stdev(sample)"
   ]
  }
 ],
 "metadata": {
  "kernelspec": {
   "display_name": "Python 3",
   "language": "python",
   "name": "python3"
  },
  "language_info": {
   "codemirror_mode": {
    "name": "ipython",
    "version": 3
   },
   "file_extension": ".py",
   "mimetype": "text/x-python",
   "name": "python",
   "nbconvert_exporter": "python",
   "pygments_lexer": "ipython3",
   "version": "3.7.6"
  }
 },
 "nbformat": 4,
 "nbformat_minor": 2
}
