{
 "cells": [
  {
   "cell_type": "markdown",
   "metadata": {},
   "source": [
    "<a/ id='top'></a>\n",
    "# Homework 4: Confidence intervals, hypothesis testing, and p-values\n",
    "***\n",
    "\n",
    "**Name**: Solutions\n",
    "\n",
    "***\n",
    "\n",
    "This assignment is due on Moodle by **11:59 PM on Friday 3 April**. Your solutions to theoretical questions should be done in Markdown/MathJax directly below the associated question.  Your solutions to computational questions should include any specified Python code and results as well as written commentary on your conclusions.  Remember that you are encouraged to discuss the problems with your instructors and classmates, but **you must write all code and solutions on your own**. \n",
    "\n",
    "**NOTES**: \n",
    "\n",
    "- Any relevant data sets should be available under the **Data** module on Canvas, as well as in the zipped folder in which you obtained this assignment. \n",
    "- Do **NOT** load or use any Python packages that are not available in Anaconda 3.6. \n",
    "- Because you can technically evaluate notebook cells in a non-linear order, it's a good idea to do Kernel $\\rightarrow$ Restart & Run All as a check before submitting your solutions.  That way if we need to run your code you will know that it will work as expected. \n",
    "- It is **bad form** to make your reader interpret numerical output from your code.  If a question asks you to compute some value from the data you should show your code output **AND** write a summary of the results in Markdown directly below your code. \n",
    "- You **MUST** leave all of your notebook cells **evaluated** so the graders do not need to re-evaluate them. For 100+ students, this extra time adds up, and makes the graders' lives unnecessarily more difficult.\n",
    "- This probably goes without saying, but... For any question that asks you to calculate something, you **must show all work and justify your answers to receive credit**. Sparse or nonexistent work will receive sparse or nonexistent credit. \n",
    "- Submit only this Jupyter notebook to Canvas.  Do not compress it using tar, rar, zip, etc. \n",
    "\n",
    "---\n",
    "**Shortcuts:**  [Problem 1](#p1) | [Problem 2](#p2) | [Problem 3](#p3) | [Problem 4](#p4) | [Problem 5](#p5)  \n",
    "\n",
    "---"
   ]
  },
  {
   "cell_type": "code",
   "execution_count": 1,
   "metadata": {
    "scrolled": true
   },
   "outputs": [],
   "source": [
    "import numpy as np\n",
    "import math\n",
    "import scipy.stats as stats\n",
    "import matplotlib.pyplot as plt\n",
    "import pandas as pd\n",
    "%matplotlib inline"
   ]
  },
  {
   "cell_type": "markdown",
   "metadata": {},
   "source": [
    "<br>\n",
    "\n",
    "---\n",
    "<a/ id='p1'></a>\n",
    "[Back to top](#top)\n",
    "### [20 points] Problem 1 - Exploring Confidence Intervals \n",
    "\n",
    "The [Gumbel](https://en.wikipedia.org/wiki/Gumbel_distribution) distribution is one of several distributions frequently used to model environmental extremes (for example, extreme temperatures and sea levels).  It is also fairly asymmetric, and thus interesting for investigating confidence intervals.  It is implemented in scipy.stats as [gumbel_r](https://docs.scipy.org/doc/scipy/reference/generated/scipy.stats.gumbel_r.html), where the appendix \"\\_r\" denotes the right-skewed version of the Gumbel distribution (as opposed to the left-skewed)."
   ]
  },
  {
   "cell_type": "markdown",
   "metadata": {},
   "source": [
    "**Part A**: Complete the following code cell to plot a histogram of 100 realizations from the Gumbel distribution with parameters $\\mu=8$ (location) and $\\beta=2$ (scale).  Be sure to leave this cell executed before turning in your assignment! Make your histogram faces coral with gray edges."
   ]
  },
  {
   "cell_type": "code",
   "execution_count": null,
   "metadata": {
    "collapsed": true
   },
   "outputs": [],
   "source": [
    "# GIVEN CODE:\n",
    "#mu = 8\n",
    "#beta = 2\n",
    "#n_sample = 100\n",
    "#x = stats.gumbel_r.rvs( ??? )\n",
    "\n",
    "#fig, ax = plt.subplots(nrows=1, ncols=1, figsize=(8,4))\n",
    "\n",
    "# Your code goes here!\n"
   ]
  },
  {
   "cell_type": "code",
   "execution_count": 2,
   "metadata": {},
   "outputs": [
    {
     "data": {
      "image/png": "[encoded data removed]",
      "text/plain": [
       "<Figure size 576x288 with 1 Axes>"
      ]
     },
     "metadata": {},
     "output_type": "display_data"
    }
   ],
   "source": [
    "# SOLUTION:\n",
    "\n",
    "mu = 8\n",
    "beta = 2\n",
    "n_sample = 100\n",
    "x = stats.gumbel_r.rvs(loc=mu, scale=beta, size=n_sample)\n",
    "\n",
    "fig, ax = plt.subplots(nrows=1, ncols=1, figsize=(8,4))\n",
    "plt.hist(x, color=\"coral\",edgecolor=\"gray\", bins=20, density=True)\n",
    "ax.grid(alpha=0.25)\n",
    "ax.set_axisbelow(True)\n",
    "ax.set_xlabel('X')\n",
    "ax.set_ylabel('Density')\n",
    "ax.set_title(r'Gumbel($\\mu=${}, $\\beta=${})'.format(mu,beta))\n",
    "plt.xlim([0,25])\n",
    "plt.show()"
   ]
  },
  {
   "cell_type": "markdown",
   "metadata": {},
   "source": [
    "**Part B:** Look up the analytical mean and variance of the Gumbel distribution with parameters $\\mu=8$ and $\\beta=2$ and calculate them here by hand.  Note that the Euler–Mascheroni constant can be accessed via `np.euler_gamma`. Note that the version of the Gumbel we are using is *right-skewed*, and is the version used to model maximal extreme events.\n",
    "\n",
    "Use the empirical mean from your sample in **Part A**, and the true variance of the Gumbel distribution to compute by hand a 95% confidence interval for the mean."
   ]
  },
  {
   "cell_type": "markdown",
   "metadata": {
    "collapsed": true
   },
   "source": [
    "**Solution:**\n",
    "\n",
    "If $X \\sim Gum(\\mu=8, \\beta=2)$ then the theoretical mean and variance are:\n",
    "\n",
    "$$E[X] = \\mu+\\beta \\gamma = 8+2\\cdot 0.5772 = 9.154$$\n",
    "\n",
    "and \n",
    "\n",
    "$$\\textrm{Var}(X) = \\dfrac{\\pi^2}{6}\\beta^2 = \\dfrac{\\pi^2}{6}(2^2) = 6.580$$\n",
    "\n",
    "The empirical mean from **Part A** is $\\bar{X} = 9.314$, and a 95% confidence interval would be $\\bar{X} \\pm z_{0.05/2} \\sqrt{\\dfrac{\\textrm{Var}(X)}{n}}$, where:\n",
    "* $n=100$\n",
    "* $\\textrm{Var}(X)=6.580$\n",
    "* $z_{0.05/2} = $ `stats.norm.ppf(0.975) `$=1.96$\n",
    "\n",
    "This gives:\n",
    "\n",
    "$$\\begin{align}\n",
    "  \\textrm{CI} &= \\left[9.314 - 1.96\\sqrt{\\dfrac{6.580}{100}}, ~~ 9.314+1.96\\sqrt{\\dfrac{6.580}{100}}\\right]\\\\\n",
    "              &= [8.81, ~~ 9.82] \\\\\n",
    "\\end{align}$$"
   ]
  },
  {
   "cell_type": "code",
   "execution_count": 3,
   "metadata": {},
   "outputs": [
    {
     "name": "stdout",
     "output_type": "stream",
     "text": [
      "0.5772156649015329\n"
     ]
    }
   ],
   "source": [
    "print(np.euler_gamma)"
   ]
  },
  {
   "cell_type": "code",
   "execution_count": 4,
   "metadata": {},
   "outputs": [
    {
     "name": "stdout",
     "output_type": "stream",
     "text": [
      "Empirical mean = 9.215, Theoretical mean = 9.154\n",
      "Empirical variance = 5.459, Theoretical variance = 6.580\n"
     ]
    }
   ],
   "source": [
    "xbar_empirical = np.mean(x)\n",
    "xbar_theoretical = mu + beta*np.euler_gamma\n",
    "var_empirical = np.var(x, ddof=1)\n",
    "var_theoretical = (np.pi*beta)**2/6\n",
    "print(\"Empirical mean = {:0.3f}, Theoretical mean = {:0.3f}\".format(xbar_empirical, xbar_theoretical))\n",
    "print(\"Empirical variance = {:0.3f}, Theoretical variance = {:0.3f}\".format(var_empirical, var_theoretical))"
   ]
  },
  {
   "cell_type": "markdown",
   "metadata": {},
   "source": [
    "**Part C:  A theoretical interlude.** When Amy, the famous hedgehog data scientist, ran her solution code for **Part B**, she obtained a 95% confidence interval of $[8.81, 9.82]$ for the mean of the $Gum(\\mu=8, \\beta=2)$ distribution. For each of the following, explain why or why not the situation described is correct, given the technical definition of a 95% confidence interval we went over in class.\n",
    "\n",
    "**(i)** If you had no other evidence regarding true mean of the $Gum(\\mu=8, \\beta=2)$ distribution, you could say there is a 95% chance that its true mean falls between 8.81 and 9.82.\n",
    "\n",
    "**(ii)** If a class of 100 students all construct 95% confidence intervals for the mean of the $Gum(\\mu=8, \\beta=2)$ distribution, then we expect about 95 of their CIs to contain the true mean, and about 5 of them to miss the true mean.\n",
    "\n",
    "**(iii)** If we sample 100 random variables from the $Gum(\\mu=8, \\beta=2)$ distribution, then roughly 95% of them will be between 8.81 and 9.82."
   ]
  },
  {
   "cell_type": "markdown",
   "metadata": {
    "collapsed": true
   },
   "source": [
    "**Solutions:**\n",
    "\n",
    "**(i)** FALSE -- the confidence level is **not** a statement about any particular interval, and this incorrect statement is saying there is something special about the particular CI that I found.  There is not.\n",
    "\n",
    "**(ii)** TRUE -- this is exactly the definition of a 95% confidence interval, that if you cook up a bunch of 95% confidence intervals, you expect them to actually capture the mean about 95% of the time.\n",
    "\n",
    "**(iii)** FALSE -- confidence intervals are about sampling for the **mean** of a distribution, not any particular element from the population, and there is nothing special about the confidence interval here.  This one is doubly wrong!"
   ]
  },
  {
   "cell_type": "markdown",
   "metadata": {},
   "source": [
    "**Part D:** In this part you'll write a function to investigate the _coverage properties_ of a confidence interval for the mean of the Gumbel distribution. Complete the following function to randomly sample $m=500$ sample means with sample size $n=100$ for the Gumbel distribution with parameters $\\mu=8$ and $\\beta=2$.  For each random sample, compute the 66% confidence interval for the mean. Note that you actually know the variance for the true population distribution, $\\sigma^2$ from Part B.  Your function should do two things: \n",
    "\n",
    "1. Report the proportion of confidence intervals that successfully cover the true mean of the distribution \n",
    "2. Make a plot of 50 randomly selected confidence intervals. Overlay the intervals on the line $y=\\textrm{True mean}$ (from **Part B**). Color confidence intervals steelblue if they cover the true mean, and coral if they don't.  \n",
    "\n",
    "Be sure to leave this cell executed before turning in your assignment!"
   ]
  },
  {
   "cell_type": "code",
   "execution_count": null,
   "metadata": {
    "collapsed": true
   },
   "outputs": [],
   "source": [
    "# GIVEN CODE:\n",
    "\n",
    "def confidence_intervals(m=500, n=100):\n",
    "    mu = 8\n",
    "    beta = 2\n",
    "    \n",
    "    # Your code goes here!\n"
   ]
  },
  {
   "cell_type": "code",
   "execution_count": 5,
   "metadata": {
    "scrolled": false
   },
   "outputs": [
    {
     "name": "stdout",
     "output_type": "stream",
     "text": [
      "proportion covering mean: 0.692\n"
     ]
    },
    {
     "data": {
      "image/png": "[encoded data removed]",
      "text/plain": [
       "<Figure size 1080x432 with 1 Axes>"
      ]
     },
     "metadata": {},
     "output_type": "display_data"
    }
   ],
   "source": [
    "# SOLUTION:\n",
    "    \n",
    "def confidence_intervals(m=500, n=100):\n",
    "    mu = 8\n",
    "    beta = 2\n",
    "    EX = mu+beta*np.euler_gamma\n",
    "    VX = (np.pi*beta)**2/6\n",
    "    CIs = np.zeros((m,2))\n",
    "    zcrit = stats.norm.ppf(1-(1-0.66)/2)\n",
    "    SE = np.sqrt(VX/n)\n",
    "    ctr = 0\n",
    "    for ii in range(m):\n",
    "        x = stats.gumbel_r.rvs(loc=mu, scale=beta, size=n)\n",
    "        xbar = np.mean(x) \n",
    "        L, U = xbar - zcrit*SE, xbar + zcrit*SE\n",
    "        CIs[ii,0] = L \n",
    "        CIs[ii,1] = U \n",
    "        ctr += 1 if (L <= EX) and (EX <= U) else 0 \n",
    "        \n",
    "    print(\"proportion covering mean: {:.3f}\".format(ctr/m))\n",
    "    \n",
    "    fig, ax = plt.subplots(nrows=1, ncols=1, figsize=(15,6))\n",
    "    for ii, row in enumerate(np.random.choice(range(m), size=50, replace=False)):\n",
    "        L, U = CIs[row,:]\n",
    "        color = \"steelblue\" if (L <= EX) and (EX <= U) else \"coral\" \n",
    "        plt.plot([ii+1, ii+1], [U, L], color=color)\n",
    "        plt.scatter([ii+1], (U+L)/2, s=25, color=\"k\")\n",
    "    plt.plot([0, 51], [EX, EX], color=\"gray\", ls=\"--\")\n",
    "    ax.grid(alpha=0.25)\n",
    "    \n",
    "confidence_intervals()"
   ]
  },
  {
   "cell_type": "markdown",
   "metadata": {},
   "source": [
    "**Part E:** Does the proportion of confidence intervals that cover the true mean of the distribution agree with the theory described in class?  Justify your conclusion. "
   ]
  },
  {
   "cell_type": "markdown",
   "metadata": {
    "collapsed": true
   },
   "source": [
    "**Solution:**\n",
    "\n",
    "A 66% confidence interval for the mean constructed in the above manner should cover the true mean of the population 66% of the time.  In the experiment above we see that for $m=500$ independently created confidence intervals the 66% confidence intervals covered the mean 69.2% of the time, which is pretty darn good!"
   ]
  },
  {
   "cell_type": "markdown",
   "metadata": {},
   "source": [
    "---\n",
    "\n",
    "<a id='p2'></a>\n",
    "[Back to top](#top)\n",
    "\n",
    "### [20 points] Problem 2 - Taco Town!!\n",
    "\n",
    "You're an intern in the office of the City of Boulder's official Food Rater, and in order to support her in her extremely important job, you have to determine whether Taco Bell or Del Taco has the empirically better tacos. \n",
    "\n",
    "\"Don't worry,\" you tell your boss. \"I'll have you know I graduated top of my class from CU Boulder, and I've been involved in numerous data science operations on difficult data sets - many of which are hedgehog-related - and I have over 300 confirmed confidence intervals. I am trained in Numpy and Pandas and I'm the top data scientist in the entire campus.\"\n",
    "\n",
    "\"Weird flex but OK,\" your boss responds, and gives you the data. The data set consists of 100 diners who ate both Taco Bell and Del Taco, and rated their meal enjoyment at each. As is often the case with fast food taco establishments, each diner ate alone and each meal was followed by about 3 weeks of intense therapy, so the diners and meals may all be considered to be independent of one another. The meal enjoyment ratings are in units of *mehs*, where lower values denote more disgust and a worse meal, and higher values are better."
   ]
  },
  {
   "cell_type": "markdown",
   "metadata": {},
   "source": [
    "**Part A:** Import the data set `taco_time.csv` as a Pandas DataFrame.\n",
    "\n",
    "Then, plot a density histogram of the data. Include both Taco Bell and Del Taco on the same set of axes. Be sure to label your axes, and make the histogram faces slightly transparent and include a legend, so we can tell the two data sets apart. Use colors for each restaurant that are representative of that restaurant's logo or branding.\n",
    "\n",
    "Finally, formulate a hypothesis about which restaurant has the higher mean meal enjoyment."
   ]
  },
  {
   "cell_type": "code",
   "execution_count": 2,
   "metadata": {},
   "outputs": [],
   "source": [
    "# SOLUTION:\n",
    "\n",
    "dfT = pd.read_csv(\"taco_time.csv\")"
   ]
  },
  {
   "cell_type": "code",
   "execution_count": 3,
   "metadata": {},
   "outputs": [
    {
     "data": {
      "image/png": "[encoded data removed]",
      "text/plain": [
       "<Figure size 504x360 with 1 Axes>"
      ]
     },
     "metadata": {
      "needs_background": "light"
     },
     "output_type": "display_data"
    }
   ],
   "source": [
    "fig, ax = plt.subplots(1,1,figsize=(7,5))\n",
    "plt.hist(dfT[\"Taco Bell\"], density=True, edgecolor=\"orange\", facecolor=\"purple\", alpha=0.5, label=\"Taco Bell\")\n",
    "plt.hist(dfT[\"Del Taco\"], density=True, edgecolor=\"limegreen\", facecolor=\"tomato\", alpha=0.5, label=\"Del Taco\")\n",
    "plt.xlabel(\"mehs\")\n",
    "plt.ylabel(\"Density\")\n",
    "plt.legend();"
   ]
  },
  {
   "cell_type": "markdown",
   "metadata": {},
   "source": [
    "It looks like Taco Bell is less gross than Del Taco (or Taco Bell is better than Del Taco). So my hypothesis is that the mean enjoyment at Taco Bell is higher than that at Del Taco."
   ]
  },
  {
   "cell_type": "markdown",
   "metadata": {},
   "source": [
    "**Part B:** Compute a 95% confidence interval for the mean enjoyment of Taco Bell meals, and a separate 95% confidence interval for the mean enjoyment of Del Taco meals. You can use Python as a calculator, but the set-up and groundwork for your computation should be in Markdown/MathJax.\n",
    "\n",
    "Based on those confidence intervals, can we conclude that the means are different at the 95% level of confidence?"
   ]
  },
  {
   "cell_type": "markdown",
   "metadata": {},
   "source": [
    "**Solution:**\n",
    "\n",
    "A 95% confidence interval would be $\\bar{X} \\pm z_{0.05/2} \\dfrac{s}{\\sqrt{n}}$, where:\n",
    "* $n=100$\n",
    "* $s=$ `np.std(X, ddof=1)`, for each of the two data sets, $X$\n",
    "* $z_{0.05/2} = $ `stats.norm.ppf(0.975) `$=1.96$\n",
    "\n",
    "This gives:\n",
    "\n",
    "$$\\begin{align}\n",
    "  \\textrm{CI for Taco Bell} &= \\left[\\bar{X}_{TB} - 1.96\\dfrac{s_{TB}}{10}, ~~ \\bar{X}_{TB}+1.96\\dfrac{s_{TB}}{10}\\right] = [-0.48, ~~ 0.26] \\\\\n",
    "  \\textrm{CI for Del Taco} &= \\left[\\bar{X}_{DT} - 1.96\\dfrac{s_{DT}}{10}, ~~ \\bar{X}_{DT}+1.96\\dfrac{s_{DT}}{10}\\right] = [-1.2, ~~ -0.46] \\\\\n",
    "\\end{align}$$\n",
    "\n",
    "These CIs are overlapping 1-sample CIs, which tells us nothing about which is significantly better than the other."
   ]
  },
  {
   "cell_type": "code",
   "execution_count": null,
   "metadata": {},
   "outputs": [],
   "source": []
  },
  {
   "cell_type": "code",
   "execution_count": 4,
   "metadata": {},
   "outputs": [
    {
     "name": "stdout",
     "output_type": "stream",
     "text": [
      "CI for Taco Bell: [-0.4827, 0.2553]\n",
      "CI for Del Taco:  [-1.2086, -0.4601]\n"
     ]
    }
   ],
   "source": [
    "alp = 0.05\n",
    "z_alp2 = stats.norm.ppf(1-alp/2)\n",
    "CI_TB = [dfT[\"Taco Bell\"].mean() + pm*z_alp2*dfT[\"Taco Bell\"].std()/np.sqrt(dfT[\"Taco Bell\"].count()) for pm in [-1, 1]]\n",
    "CI_DT = [dfT[\"Del Taco\"].mean() + pm*z_alp2*dfT[\"Del Taco\"].std()/np.sqrt(dfT[\"Del Taco\"].count()) for pm in [-1, 1]]\n",
    "\n",
    "print(\"CI for Taco Bell: [{:0.4f}, {:0.4f}]\".format(CI_TB[0], CI_TB[1]))\n",
    "print(\"CI for Del Taco:  [{:0.4f}, {:0.4f}]\".format(CI_DT[0], CI_DT[1]))"
   ]
  },
  {
   "cell_type": "markdown",
   "metadata": {},
   "source": [
    "**Part C:** Compute a 95% confidence interval for the difference between the mean enjoyment of Taco Bell and Del Taco food. "
   ]
  },
  {
   "cell_type": "markdown",
   "metadata": {},
   "source": [
    "**Solution:**\n",
    "\n",
    "A 95% confidence interval would be $\\bar{X}_{TB} - \\bar{X}_{DT} \\pm z_{0.05/2} \\sqrt{ \\dfrac{s^2_{TB}}{n} + \\dfrac{s^2_{DT}}{n}}$, where:\n",
    "* $n=100$\n",
    "* $s^2_{i}=$ `np.var(X_{i}, ddof=1)`, for $i \\in \\{TB, DT\\}$\n",
    "* $z_{0.05/2} = $ `stats.norm.ppf(0.975) `$=1.96$\n",
    "\n",
    "This gives:\n",
    "\n",
    "$$\\begin{align}\n",
    "  \\textrm{CI for }\\mu_{TB}-\\mu_{DT} &= \\left[\\bar{X}_{TB}-\\bar{X}_{DT} - 1.96\\sqrt{\\dfrac{s^2_{TB}}{100} + \\dfrac{s^2_{DT}}{100}}, ~~ \\bar{X}_{TB}-\\bar{X}_{DT} + 1.96\\sqrt{\\dfrac{s^2_{TB}}{100} + \\dfrac{s^2_{DT}}{100}} \\right] = [0.20, ~~ 1.25] \\\\\n",
    "\\end{align}$$\n",
    "\n",
    "This CI does **not** include 0, so we can say that at the 95% confidence level that Taco Bell is more enjoyable than Del Taco."
   ]
  },
  {
   "cell_type": "code",
   "execution_count": 9,
   "metadata": {},
   "outputs": [
    {
     "name": "stdout",
     "output_type": "stream",
     "text": [
      "CI for Taco Bell - Del Taco: [0.1951, 1.2462]\n"
     ]
    }
   ],
   "source": [
    "alp = 0.05\n",
    "z_alp2 = stats.norm.ppf(1-alp/2)\n",
    "CI_TB_DT = [dfT[\"Taco Bell\"].mean() - dfT[\"Del Taco\"].mean() + \n",
    "            pm*z_alp2*np.sqrt( dfT[\"Taco Bell\"].var()/dfT[\"Taco Bell\"].count() + \n",
    "                               dfT[\"Del Taco\"].var()/dfT[\"Del Taco\"].count()) for pm in [-1, 1]]\n",
    "\n",
    "print(\"CI for Taco Bell - Del Taco: [{:0.4f}, {:0.4f}]\".format(CI_TB_DT[0], CI_TB_DT[1]))"
   ]
  },
  {
   "cell_type": "markdown",
   "metadata": {},
   "source": [
    "**Part D:** Comment on how the results from this two-sample confidence interval compare to the results from the separate one-sample confidence intervals. In 1-2 sentences, discuss how these results confirm, disprove, or otherwise relate to your hypothesis from Part A."
   ]
  },
  {
   "cell_type": "markdown",
   "metadata": {},
   "source": [
    "**Solution:**\n",
    "\n",
    "This CI does **not** include 0, so we can say that at the 95% confidence level that Taco Bell is more enjoyable than Del Taco. Years of worldly experience will also confirm this hypothesis."
   ]
  },
  {
   "cell_type": "markdown",
   "metadata": {},
   "source": [
    "---\n",
    "[Back to top](#top)\n",
    "<a id='p3'></a>\n",
    "\n",
    "### [20 points] Problem 3 - Evaluating Vehicle Performance \n",
    "\n",
    "A [1983 study](http://citeseerx.ist.psu.edu/viewdoc/download?doi=10.1.1.34.6358&rep=rep1&type=pdf) evaluated the gas mileage of a variety of cars manufactured between 1970 and 1983. The study also compiled other interesting attributes for each vehicle, but we will focus on the number of cylinders in the engine for this problem. More information on the data is available [here](https://archive.ics.uci.edu/ml/machine-learning-databases/auto-mpg/). Gas mileage is measured in miles-per-gallon, or mpg.\n",
    "\n",
    "**Part A:** Read the data set and store as a Pandas DataFrame. You will need figure out what additional arguments to `pd.read_csv()` must be provided in order to read the data set properly, based on what represents a separation between two columns of data.\n",
    "\n",
    "Then, be sure to give all of the columns informative names, if they do not already have some.\n",
    "\n",
    "Finally, use `drop_na()` to drop any rows with missing values. Missing values are reported with a \"?\"."
   ]
  },
  {
   "cell_type": "code",
   "execution_count": 10,
   "metadata": {},
   "outputs": [
    {
     "data": {
      "text/html": [
       "<div>\n",
       "<style scoped>\n",
       "    .dataframe tbody tr th:only-of-type {\n",
       "        vertical-align: middle;\n",
       "    }\n",
       "\n",
       "    .dataframe tbody tr th {\n",
       "        vertical-align: top;\n",
       "    }\n",
       "\n",
       "    .dataframe thead th {\n",
       "        text-align: right;\n",
       "    }\n",
       "</style>\n",
       "<table border=\"1\" class=\"dataframe\">\n",
       "  <thead>\n",
       "    <tr style=\"text-align: right;\">\n",
       "      <th></th>\n",
       "      <th>18.0   8   307.0      130.0      3504.      12.0   70  1\t\"chevrolet chevelle malibu\"</th>\n",
       "    </tr>\n",
       "  </thead>\n",
       "  <tbody>\n",
       "    <tr>\n",
       "      <th>0</th>\n",
       "      <td>15.0   8   350.0      165.0      3693.      11...</td>\n",
       "    </tr>\n",
       "    <tr>\n",
       "      <th>1</th>\n",
       "      <td>18.0   8   318.0      150.0      3436.      11...</td>\n",
       "    </tr>\n",
       "    <tr>\n",
       "      <th>2</th>\n",
       "      <td>16.0   8   304.0      150.0      3433.      12...</td>\n",
       "    </tr>\n",
       "    <tr>\n",
       "      <th>3</th>\n",
       "      <td>17.0   8   302.0      140.0      3449.      10...</td>\n",
       "    </tr>\n",
       "    <tr>\n",
       "      <th>4</th>\n",
       "      <td>15.0   8   429.0      198.0      4341.      10...</td>\n",
       "    </tr>\n",
       "  </tbody>\n",
       "</table>\n",
       "</div>"
      ],
      "text/plain": [
       "  18.0   8   307.0      130.0      3504.      12.0   70  1\\t\"chevrolet chevelle malibu\"\n",
       "0  15.0   8   350.0      165.0      3693.      11...                                   \n",
       "1  18.0   8   318.0      150.0      3436.      11...                                   \n",
       "2  16.0   8   304.0      150.0      3433.      12...                                   \n",
       "3  17.0   8   302.0      140.0      3449.      10...                                   \n",
       "4  15.0   8   429.0      198.0      4341.      10...                                   "
      ]
     },
     "execution_count": 10,
     "metadata": {},
     "output_type": "execute_result"
    }
   ],
   "source": [
    "dfMPG = pd.read_csv('auto-mpg.data') # TODO - need extra arguments to read correctly\n",
    "\n",
    "dfMPG.head()"
   ]
  },
  {
   "cell_type": "code",
   "execution_count": 11,
   "metadata": {},
   "outputs": [
    {
     "data": {
      "text/html": [
       "<div>\n",
       "<style scoped>\n",
       "    .dataframe tbody tr th:only-of-type {\n",
       "        vertical-align: middle;\n",
       "    }\n",
       "\n",
       "    .dataframe tbody tr th {\n",
       "        vertical-align: top;\n",
       "    }\n",
       "\n",
       "    .dataframe thead th {\n",
       "        text-align: right;\n",
       "    }\n",
       "</style>\n",
       "<table border=\"1\" class=\"dataframe\">\n",
       "  <thead>\n",
       "    <tr style=\"text-align: right;\">\n",
       "      <th></th>\n",
       "      <th>mpg</th>\n",
       "      <th>cylinders</th>\n",
       "      <th>displacement</th>\n",
       "      <th>horsepower</th>\n",
       "      <th>weight</th>\n",
       "      <th>acceleration</th>\n",
       "      <th>model year</th>\n",
       "      <th>origin</th>\n",
       "      <th>car name</th>\n",
       "    </tr>\n",
       "  </thead>\n",
       "  <tbody>\n",
       "    <tr>\n",
       "      <th>0</th>\n",
       "      <td>18.0</td>\n",
       "      <td>8</td>\n",
       "      <td>307.0</td>\n",
       "      <td>130.0</td>\n",
       "      <td>3504.0</td>\n",
       "      <td>12.0</td>\n",
       "      <td>70</td>\n",
       "      <td>1</td>\n",
       "      <td>chevrolet chevelle malibu</td>\n",
       "    </tr>\n",
       "    <tr>\n",
       "      <th>1</th>\n",
       "      <td>15.0</td>\n",
       "      <td>8</td>\n",
       "      <td>350.0</td>\n",
       "      <td>165.0</td>\n",
       "      <td>3693.0</td>\n",
       "      <td>11.5</td>\n",
       "      <td>70</td>\n",
       "      <td>1</td>\n",
       "      <td>buick skylark 320</td>\n",
       "    </tr>\n",
       "    <tr>\n",
       "      <th>2</th>\n",
       "      <td>18.0</td>\n",
       "      <td>8</td>\n",
       "      <td>318.0</td>\n",
       "      <td>150.0</td>\n",
       "      <td>3436.0</td>\n",
       "      <td>11.0</td>\n",
       "      <td>70</td>\n",
       "      <td>1</td>\n",
       "      <td>plymouth satellite</td>\n",
       "    </tr>\n",
       "    <tr>\n",
       "      <th>3</th>\n",
       "      <td>16.0</td>\n",
       "      <td>8</td>\n",
       "      <td>304.0</td>\n",
       "      <td>150.0</td>\n",
       "      <td>3433.0</td>\n",
       "      <td>12.0</td>\n",
       "      <td>70</td>\n",
       "      <td>1</td>\n",
       "      <td>amc rebel sst</td>\n",
       "    </tr>\n",
       "    <tr>\n",
       "      <th>4</th>\n",
       "      <td>17.0</td>\n",
       "      <td>8</td>\n",
       "      <td>302.0</td>\n",
       "      <td>140.0</td>\n",
       "      <td>3449.0</td>\n",
       "      <td>10.5</td>\n",
       "      <td>70</td>\n",
       "      <td>1</td>\n",
       "      <td>ford torino</td>\n",
       "    </tr>\n",
       "  </tbody>\n",
       "</table>\n",
       "</div>"
      ],
      "text/plain": [
       "    mpg  cylinders  displacement horsepower  weight  acceleration  model year  \\\n",
       "0  18.0          8         307.0      130.0  3504.0          12.0          70   \n",
       "1  15.0          8         350.0      165.0  3693.0          11.5          70   \n",
       "2  18.0          8         318.0      150.0  3436.0          11.0          70   \n",
       "3  16.0          8         304.0      150.0  3433.0          12.0          70   \n",
       "4  17.0          8         302.0      140.0  3449.0          10.5          70   \n",
       "\n",
       "   origin                   car name  \n",
       "0       1  chevrolet chevelle malibu  \n",
       "1       1          buick skylark 320  \n",
       "2       1         plymouth satellite  \n",
       "3       1              amc rebel sst  \n",
       "4       1                ford torino  "
      ]
     },
     "execution_count": 11,
     "metadata": {},
     "output_type": "execute_result"
    }
   ],
   "source": [
    "# SOLUTION:\n",
    "\n",
    "dfMPG = pd.read_csv('auto-mpg.data', sep='\\s+', header=None) # TODO - need extra arguments to read correctly\n",
    "\n",
    "dfMPG.head()\n",
    "\n",
    "dfMPG.columns = [\"mpg\", \"cylinders\",\"displacement\",'horsepower','weight','acceleration'\n",
    "                , 'model year', 'origin', 'car name']\n",
    "dfMPG = dfMPG.replace({'?':np.nan})\n",
    "dfMPG.dropna(inplace=True)\n",
    "dfMPG.head()"
   ]
  },
  {
   "cell_type": "code",
   "execution_count": 12,
   "metadata": {},
   "outputs": [
    {
     "data": {
      "text/plain": [
       "392"
      ]
     },
     "execution_count": 12,
     "metadata": {},
     "output_type": "execute_result"
    }
   ],
   "source": [
    "len(dfMPG)"
   ]
  },
  {
   "cell_type": "markdown",
   "metadata": {},
   "source": [
    "**Part B**: Assuming the data in this sample are representative of cars from the 1970-1983 time period, find a 90% confidence interval for the mean gas mileage (mpg) of all vehicles from this period. Can we conclude that the mean gas mileage is higher than 20 mpg? Be sure to show all calculations in Python. "
   ]
  },
  {
   "cell_type": "code",
   "execution_count": 13,
   "metadata": {},
   "outputs": [
    {
     "name": "stdout",
     "output_type": "stream",
     "text": [
      "[22.797496657205375, 24.094340077488507]\n"
     ]
    }
   ],
   "source": [
    "# SOLUTION:\n",
    "\n",
    "alp = 0.1\n",
    "z = stats.norm.ppf(1-0.5*alp)\n",
    "xbar = dfMPG[\"mpg\"].mean()\n",
    "stderr = dfMPG[\"mpg\"].std(ddof=1)/np.sqrt(len(dfMPG))\n",
    "CI = [xbar + pm*z*stderr for pm in [-1,1]]\n",
    "print(CI)"
   ]
  },
  {
   "cell_type": "markdown",
   "metadata": {},
   "source": [
    "**Solution:**\n",
    "\n",
    "The 90% CI is [22.80, 24.09] mpg. This does not include 20 mpg, so we can conclude at the 90% confidence level that there is sufficient evidence that the mean gas mileage is better than 20 mpg."
   ]
  },
  {
   "cell_type": "markdown",
   "metadata": {},
   "source": [
    "**Part C**: You are considering buying a new car, but since [gas prices have recently increased dramatically](https://www.energy.gov/eere/vehicles/fact-915-march-7-2016-average-historical-annual-gasoline-pump-price-1929-2015), you are concerned about getting good fuel economy.\n",
    "\n",
    "Using an appropriate *hypothesis test*, can you conclude at the $\\alpha=0.01$ significance level that the mean gas mileage for vehicles with 4 or 6 cylinder engines is more than 10 mpg better than the mean gas mileage for vehicles with 8 cylinder engines? You may consider two populations here: those vehicles with 4 or 6 cylinders, and those vehicles with 8 cylinders in their engines. Be sure to clearly describe your hypotheses and methodology, and show all relevant computations in Python. "
   ]
  },
  {
   "cell_type": "markdown",
   "metadata": {},
   "source": [
    "**Solution**: \n",
    "\n",
    "Let $\\mu_{46}$ and $\\mu_8$ be the true mean gas mileages of vehicles with 4 or 6 cylinders (as a single population) and those with 8 cylinders, respectively. We want to test the hypotheses \n",
    "\n",
    "$$\n",
    "H_0: \\mu_{46} - \\mu_8 = 10\n",
    "\\\\ \n",
    "H_1: \\mu_{46} - \\mu_8 > 10\n",
    "$$\n",
    "\n",
    "We perform a one-tailed test for the difference of two means.  Let $\\bar{x}_{46}$ and $\\bar{x}_8$ be the sample means and $s_{46}$ and $s_8$ be the sample standard deviations for the two groups.  Then our test statistic is \n",
    "\n",
    "$$\n",
    "Z = \\left(\\bar{x}_{46}-\\bar{x}_8 - 10\\right)\\bigg/\\sqrt{\\frac{s_{46}^2}{n_{46}} + \\frac{s_8^2}{n_8}} \\sim N(0,1) \n",
    "$$\n",
    "\n",
    "We can perform the test either using either rejection regions or p-values.  The equivalent tests are \n",
    "\n",
    "**Rejection Region**: Reject the Null Hypothesis if $Z > z_{0.01} = 2.33$, otherwise fail to reject the Null Hypothesis\n",
    "\n",
    "**P-Value Test**: Reject the Null Hypothesis if $\\textrm{p-value} = 2\\cdot \\textrm{min}(\\Phi(-Z), 1-\\Phi(Z)) < 0.01$, otherwise fail to reject the Null "
   ]
  },
  {
   "cell_type": "code",
   "execution_count": 14,
   "metadata": {},
   "outputs": [
    {
     "name": "stdout",
     "output_type": "stream",
     "text": [
      "4/6 CYL VS 8 CYL COMPARISON\n",
      "  test statistic:  Z = 3.2419\n",
      "  critical value: Zc = 2.3263\n",
      "\n",
      "  p-value = 0.0006\n"
     ]
    }
   ],
   "source": [
    "alp = 0.01\n",
    "n46, n8 = np.sum(dfMPG.cylinders==4)+np.sum(dfMPG.cylinders==6), np.sum(dfMPG.cylinders==8)\n",
    "\n",
    "xbar46 = dfMPG.loc[(dfMPG.cylinders==4) | (dfMPG.cylinders==6), \"mpg\"].mean()\n",
    "xbar8 = dfMPG.loc[dfMPG.cylinders==8, \"mpg\"].mean()\n",
    "\n",
    "var46 = dfMPG.loc[(dfMPG.cylinders==4) | (dfMPG.cylinders==6), \"mpg\"].var()/len(dfMPG.loc[(dfMPG.cylinders==4) | (dfMPG.cylinders==6), \"mpg\"])\n",
    "var8 = dfMPG.loc[dfMPG.cylinders==8, \"mpg\"].var()/len(dfMPG.loc[dfMPG.cylinders==8, \"mpg\"])\n",
    "\n",
    "SE_468 = np.sqrt(var46 + var8)\n",
    "Z_468 = (xbar46 - xbar8 - 10)/SE_468\n",
    "\n",
    "print(\"4/6 CYL VS 8 CYL COMPARISON\")\n",
    "print(\"  test statistic:  Z = {:0.4f}\".format(Z_468))\n",
    "print(\"  critical value: Zc = {:0.4f}\".format(stats.norm.ppf(1-alp)))\n",
    "print(\"\")\n",
    "print(\"  p-value = {:0.4f}\".format(1-stats.norm.cdf(Z_468)))"
   ]
  },
  {
   "cell_type": "markdown",
   "metadata": {},
   "source": [
    "**Rejection Rejection**:  Since the test statistic for $Z$ (3.24) is outside the critical value that defines the border of the rejection region (2.33), we reject the Null Hypothesis that the mean gas mileage for 4 or 6 cylinder vehicles is 10 mpg better (higher) than the mean gas mileage for 8-cylinder vehicles.\n",
    "\n",
    "**P-Value test**:  Since the p-value is less than $\\alpha = 0.01$, we reject the Null Hypothesis."
   ]
  },
  {
   "cell_type": "markdown",
   "metadata": {},
   "source": [
    "---\n",
    "[Back to top](#top)\n",
    "<a id='p4'></a>\n",
    "\n",
    "### [20 points] Problem 4 - Grab bag!\n",
    "\n"
   ]
  },
  {
   "cell_type": "markdown",
   "metadata": {},
   "source": [
    "<img src=\"http://blog.localditch.com/wp-content/uploads/2011/01/sonic4.jpg\" style=\"width: 400px;\"/>\n",
    "\n",
    "**Part A**: You work for an engineering firm that has been hired to construct a corkscrew-shaped looped path for hedgehogs to run on and collect gold rings. Thousands of hedgehogs will run along this path each day, so structural failure means injury or death for many wonderful little creatures. \n",
    "\n",
    "You are in charge of quality control for the average strength of carbon fiber that will be used to construct the corkscrew path. Thinking back fondly to your days in CSCI 3022, you set up a hypothesis test in which your alternative hypothesis is that the strength of the carbon fiber is below tolerance, and therefore unsafe. What is the null hypothesis? Would you rather have a low Type I error rate or a low Type II error rate? Explain."
   ]
  },
  {
   "cell_type": "markdown",
   "metadata": {},
   "source": [
    "**Solution:**\n",
    "\n",
    "If our alternative hypothesis is that the carbon fiber is too weak, and therefore unsafe, then we want to err on the side of rejection. The null hypothesis must be that the structure is safe. There are hedgehog lives on the line if we accidentally approve unsafe carbon fiber. Therefore, we really want to AVOID FALSE NEGATIVES. No bad stuff should get through. If we scrap some good stuff (false positives) then that's just the price we'll have to pay. \n",
    "\n",
    "Therefore, we would rather have a LOW TYPE II ERROR RATE."
   ]
  },
  {
   "cell_type": "markdown",
   "metadata": {},
   "source": [
    "**Part B**: Amy, the famous hedgehog data scientist, is working for the same engineering firm as you. She is a legend around the office! Word around the water cooler is that out of all of the 95% confidence intervals that Amy has constructed, 931 of them have turned out to actually capture the true population mean. Since Amy is a data science wizard and you can be sure she is constructing her confidence intervals correctly and collecting and using her data honestly, about how many 95% confidence intervals would you expect her to have constructed total? Explain your reasoning fully with words as well as some math."
   ]
  },
  {
   "cell_type": "markdown",
   "metadata": {},
   "source": [
    "**Solution:**\n",
    "\n",
    "931 must be about 95% of however many CIs Amy has constructed total, so, letting $N$ represent her total number of CIs:\n",
    "$$\\dfrac{931}{N} = 0.95 ~~\\rightarrow~~ N = 931/0.95 = \\fbox{$980$}$$"
   ]
  },
  {
   "cell_type": "markdown",
   "metadata": {},
   "source": [
    "**Part C**: As part of an outreach program, you and Amy are visiting a local elementary school to talk to the students about data science. What a riot! One of the more astute students asks you a question: \"In general, which is wider: a 95% confidence interval or a 99% confidence interval?\"\n",
    "\n",
    "How would you explain this to these young students, who are not fluent in any kind of science? (So, for example, spouting off theory and words like \"mean\" and \"z critical value\" probably won't mean anything to them.)"
   ]
  },
  {
   "cell_type": "markdown",
   "metadata": {},
   "source": [
    "**Solution:**\n",
    "\n",
    "A 99% confidence interval is wider. Remember that a 99% confidence interval will have the true mean in it 99% of the time, but a 95% confidence interval will have the true mean in it only 95% of the time. That means that the 95% confidence interval hast got to be smaller, since it misses the mean more often. This is why the goalie's hockey stick is bigger than everyone else's: when something is bigger, it's going to catch more stuff."
   ]
  },
  {
   "cell_type": "markdown",
   "metadata": {},
   "source": [
    "**Part D:** You observe a sample of 73 pygmy hedgehogs and find that 49 of them are fantastic pets. Then, you observe a sample of 58 long-eared hedgehogs and find that 51 of them are fantastic pets.\n",
    "\n",
    "Is there statistical evidence at the 0.05 significance level that the true proportion of long-eared hedgehogs that make fantastic pets is 0.1 higher than the true proportion of pygmy hedgehogs that make fantastic pets? Perform a test that computes and properly interprets a p-value."
   ]
  },
  {
   "cell_type": "markdown",
   "metadata": {},
   "source": [
    "**Solution:**\n",
    "\n",
    "Let's start with our null and alternative hypotheses:\n",
    "\n",
    "$$H_0 : p_\\text{LE} - p_\\text{pygmy} = 0.1$$\n",
    "$$H_1 : p_\\text{LE} - p_\\text{pygmy} > 0.1$$\n",
    "\n",
    "If we assume the null hypothesis (which we do when we're going to do hypothesis testing) then $p_\\text{LE} - p_\\text{pygmy} = 0.1$. \n",
    "\n",
    "The CLT tells us that\n",
    "\n",
    "$$ \\hat{p}_\\text{LE} - \\hat{p}_\\text{pygmy} \\sim N \\left( p_\\text{LE} - p_\\text{pygmy}, \\frac{p_\\text{LE}(1-p_\\text{LE})}{n_{\\text{LE}}} + \\frac{p_\\text{pygmy}(1-p_\\text{pygmy})}{n_{\\text{pygmy}}}  \\right) $$\n",
    "\n",
    "Assuming $H_0$ and applying Box-Muller means that\n",
    "\n",
    "$$ \\frac{\\hat{p}_\\text{LE} - \\hat{p}_\\text{pygmy} - 0.1}{\\sqrt{\\frac{p_\\text{LE}(1-p_\\text{LE})}{n_{\\text{LE}}} + \\frac{p_\\text{pygmy}(1-p_\\text{pygmy})}{n_{\\text{pygmy}}}}} \\sim Z$$\n",
    "\n",
    "This allows us to plug in and compute our test statistic\n",
    "$$ \\frac{51/58 - 49/73 - 0.1}{\\sqrt{\\frac{51/58(1-51/58)}{58} + \\frac{49/73(1-49/73)}{73}}} = z$$"
   ]
  },
  {
   "cell_type": "code",
   "execution_count": 15,
   "metadata": {},
   "outputs": [
    {
     "name": "stdout",
     "output_type": "stream",
     "text": [
      "z = 1.5515\n"
     ]
    }
   ],
   "source": [
    "p_longeared = 51/58\n",
    "p_pygmy = 49/73\n",
    "numerator = p_longeared - p_pygmy - 0.1\n",
    "denominator = np.sqrt(p_longeared*(1-p_longeared)/58 + p_pygmy*(1-p_pygmy)/73)\n",
    "z = numerator/denominator\n",
    "print(\"z = {:.4f}\".format(z))"
   ]
  },
  {
   "cell_type": "markdown",
   "metadata": {},
   "source": [
    "We can now do our p-value test. The p-value is the probability of observing our test statistics $z = 1.5515$ or anything *more unlikely under the null hypothesis*. That would be any $z \\geq 1.5515$, so our p-value is $1-CDF(z)$ (the *right tail*):"
   ]
  },
  {
   "cell_type": "code",
   "execution_count": 16,
   "metadata": {},
   "outputs": [
    {
     "name": "stdout",
     "output_type": "stream",
     "text": [
      "p-value = 0.0604\n"
     ]
    }
   ],
   "source": [
    "# p-value test\n",
    "p = 1-stats.norm.cdf(z)\n",
    "print(\"p-value = {:.4f}\".format(p))"
   ]
  },
  {
   "cell_type": "markdown",
   "metadata": {},
   "source": [
    "Since $p > 0.05$, we fail to reject the null hypothesis."
   ]
  },
  {
   "cell_type": "markdown",
   "metadata": {},
   "source": [
    "**Part E**: Let $X$ be a normally-distributed random variable representing the difficulty of a homework problem in CSCI 3022. You draw from it more times than you care to count during the Spring 2019 semester and get the following values, stored in the numpy array **toughness**, below. Compute a 90% confidence interval for the _standard deviation_ in problem toughness."
   ]
  },
  {
   "cell_type": "code",
   "execution_count": 17,
   "metadata": {
    "collapsed": true
   },
   "outputs": [],
   "source": [
    "toughness = np.array([7.7778,6.9459,5.8248,9.1111,6.0180,5.0898,7.0380,8.9273,2.9614,5.8387,6.0231])"
   ]
  },
  {
   "cell_type": "code",
   "execution_count": 18,
   "metadata": {},
   "outputs": [
    {
     "name": "stdout",
     "output_type": "stream",
     "text": [
      "CI: [1.295,2.791]\n",
      "Sample StDev: 1.752\n"
     ]
    }
   ],
   "source": [
    "# SOLUTION:\n",
    "\n",
    "# CI = sqrt( n-1   S^2 / X^2 a/2 n-1 )   , sqrt( n-1   S^2 / X^2 1-a/2 n-1 ) \n",
    "n = len(toughness)\n",
    "dof = n-1\n",
    "sample_var = np.var(toughness,ddof=1)\n",
    "alpha = 0.1;\n",
    "L = np.sqrt((n-1)*sample_var/stats.chi2.ppf(1-alpha/2,dof))\n",
    "U = np.sqrt((n-1)*sample_var/stats.chi2.ppf(alpha/2,dof))\n",
    "print(\"CI: [{:.3f},{:.3f}]\".format(L,U))\n",
    "print(\"Sample StDev: {:.3f}\".format(np.sqrt(sample_var)))"
   ]
  },
  {
   "cell_type": "markdown",
   "metadata": {},
   "source": [
    "---\n",
    "\n",
    "<a id='p5'></a>\n",
    "[Back to top](#top)\n",
    "\n",
    "### [20 points] Problem 5 - Lies, damned lies, and statistics\n",
    "\n",
    "![frazz](http://3.bp.blogspot.com/-SbQUWRfHFXk/VdN8YWAy0WI/AAAAAAAAJLw/Ij5E0CbYk6g/s1600/lies3.gif)\n",
    "\n",
    "Legend of your Data Science prowess has spread o'er the land. You have been contacted by a shadowy organization to assess whether there is statistical evidence for sea-level rise in the area of Key West, Florida. You obtain from the University of Hawaii Sea Level Center's [gigantic repository of sea-level data](https://uhslc.soest.hawaii.edu/data/?rq) the daily mean sea levels file included in the zip folder for this assignment. The columns are, in order, the year, month, day-of-month and measured sea level (in millimeters)."
   ]
  },
  {
   "cell_type": "markdown",
   "metadata": {},
   "source": [
    "**Part A:** Load the data `sealevel_keywest.csv` into a Pandas DataFrame. Rename the columns as something meaningful in the context of this problem. Print to the screen the first 7 rows from your updated DataFrame."
   ]
  },
  {
   "cell_type": "code",
   "execution_count": 19,
   "metadata": {},
   "outputs": [
    {
     "data": {
      "text/html": [
       "<div>\n",
       "<style scoped>\n",
       "    .dataframe tbody tr th:only-of-type {\n",
       "        vertical-align: middle;\n",
       "    }\n",
       "\n",
       "    .dataframe tbody tr th {\n",
       "        vertical-align: top;\n",
       "    }\n",
       "\n",
       "    .dataframe thead th {\n",
       "        text-align: right;\n",
       "    }\n",
       "</style>\n",
       "<table border=\"1\" class=\"dataframe\">\n",
       "  <thead>\n",
       "    <tr style=\"text-align: right;\">\n",
       "      <th></th>\n",
       "      <th>Year</th>\n",
       "      <th>Month</th>\n",
       "      <th>Day</th>\n",
       "      <th>SL</th>\n",
       "    </tr>\n",
       "  </thead>\n",
       "  <tbody>\n",
       "    <tr>\n",
       "      <th>0</th>\n",
       "      <td>1913</td>\n",
       "      <td>1</td>\n",
       "      <td>20</td>\n",
       "      <td>1453</td>\n",
       "    </tr>\n",
       "    <tr>\n",
       "      <th>1</th>\n",
       "      <td>1913</td>\n",
       "      <td>1</td>\n",
       "      <td>21</td>\n",
       "      <td>1439</td>\n",
       "    </tr>\n",
       "    <tr>\n",
       "      <th>2</th>\n",
       "      <td>1913</td>\n",
       "      <td>1</td>\n",
       "      <td>22</td>\n",
       "      <td>1444</td>\n",
       "    </tr>\n",
       "    <tr>\n",
       "      <th>3</th>\n",
       "      <td>1913</td>\n",
       "      <td>1</td>\n",
       "      <td>23</td>\n",
       "      <td>1489</td>\n",
       "    </tr>\n",
       "    <tr>\n",
       "      <th>4</th>\n",
       "      <td>1913</td>\n",
       "      <td>1</td>\n",
       "      <td>24</td>\n",
       "      <td>1474</td>\n",
       "    </tr>\n",
       "    <tr>\n",
       "      <th>5</th>\n",
       "      <td>1913</td>\n",
       "      <td>1</td>\n",
       "      <td>25</td>\n",
       "      <td>1442</td>\n",
       "    </tr>\n",
       "    <tr>\n",
       "      <th>6</th>\n",
       "      <td>1913</td>\n",
       "      <td>1</td>\n",
       "      <td>26</td>\n",
       "      <td>1467</td>\n",
       "    </tr>\n",
       "  </tbody>\n",
       "</table>\n",
       "</div>"
      ],
      "text/plain": [
       "   Year  Month  Day    SL\n",
       "0  1913      1   20  1453\n",
       "1  1913      1   21  1439\n",
       "2  1913      1   22  1444\n",
       "3  1913      1   23  1489\n",
       "4  1913      1   24  1474\n",
       "5  1913      1   25  1442\n",
       "6  1913      1   26  1467"
      ]
     },
     "execution_count": 19,
     "metadata": {},
     "output_type": "execute_result"
    }
   ],
   "source": [
    "# SOLUTION:\n",
    "\n",
    "file_path  = \"sealevel_keywest.csv\"\n",
    "dfSL = pd.read_csv(file_path, header=None)\n",
    "dfSL.rename(columns={0 : 'Year', 1 : 'Month', 2 : 'Day', 3 : 'SL'}, inplace=True)\n",
    "dfSL.head(7)"
   ]
  },
  {
   "cell_type": "markdown",
   "metadata": {},
   "source": [
    "**Part B:**  Plot the raw time series of sea levels. Be sure to label your axes, including units. For the $x$-axis, place the $x$ tick marks on January 2 of each year that is divisible by 10 (i.e., 1920, 1930, ...), and label with that year. You may need to do additional processing in order to grab these indices. "
   ]
  },
  {
   "cell_type": "code",
   "execution_count": 20,
   "metadata": {},
   "outputs": [
    {
     "data": {
      "image/png": "[encoded data removed]",
      "text/plain": [
       "<Figure size 576x288 with 1 Axes>"
      ]
     },
     "metadata": {},
     "output_type": "display_data"
    }
   ],
   "source": [
    "# SOLUTION:\n",
    "\n",
    "ind_labels = dfSL.index[(dfSL[\"Month\"]==1) & (dfSL[\"Day\"]==2) & (dfSL[\"Year\"]%10==0)]\n",
    "\n",
    "fig, ax = plt.subplots(nrows=1, ncols=1, figsize=(8,4))\n",
    "dfSL[\"SL\"].plot()\n",
    "ax.set_xticks(ind_labels)\n",
    "ax.set_xticklabels(dfSL.loc[ind_labels, \"Year\"])\n",
    "ax.set_xlabel('Year')\n",
    "ax.set_ylabel('Sea level (mm)')\n",
    "ax.set_title('Sea level in Key West, FL');"
   ]
  },
  {
   "cell_type": "markdown",
   "metadata": {},
   "source": [
    "**Part C:** Your time series plot from Part B should look pretty funky. Namely, there are a bunch of spikes in it! What do you think these spikes represent?\n",
    "\n",
    "Now, clean your data set by doing the following:\n",
    "* Remove any data points associated with these spikes. You may need to look back to some of the earlier in-class notebooks and Pandas tutorials for how to drop data points from a Pandas DataFrame. \n",
    "* Include only the data point from the second day of each month.\n",
    "* Convert the sea-level data from millimeters to feet.\n",
    "\n",
    "Then, make a similar plot to Part B, but of your cleaned data set. Be sure to label axes (including units) and only label January 2 of each year that is divisible by 10."
   ]
  },
  {
   "cell_type": "code",
   "execution_count": 21,
   "metadata": {},
   "outputs": [
    {
     "data": {
      "image/png": "[encoded data removed]",
      "text/plain": [
       "<Figure size 576x288 with 1 Axes>"
      ]
     },
     "metadata": {},
     "output_type": "display_data"
    }
   ],
   "source": [
    "# SOLUTION:\n",
    "\n",
    "def clean_data(df):\n",
    "\n",
    "    dfClean = df.copy()\n",
    "    \n",
    "    # compute fill value based on too-low values\n",
    "    fillVal = dfClean.loc[dfClean[\"SL\"] < -5000, \"SL\"].median()\n",
    "    \n",
    "    # replace missing data with NA\n",
    "    dfClean.loc[dfClean[\"SL\"]==fillVal, \"SL\"] = np.nan\n",
    "    \n",
    "    # drop missing data\n",
    "    dfClean.dropna(subset=[\"SL\"], inplace=True)\n",
    "\n",
    "    # grab only the 2nd day of each month\n",
    "    ind_monthly = dfClean.index[dfClean[\"Day\"]==2]\n",
    "    dfClean = dfClean.loc[ind_monthly, :]\n",
    "    dfClean[\"SL\"] = dfClean[\"SL\"]*0.001/.3048 # .001 m/mm * 1 ft/.3048 m\n",
    "\n",
    "    return dfClean\n",
    "\n",
    "dfClean = clean_data(dfSL)\n",
    "\n",
    "fig, ax = plt.subplots(nrows=1, ncols=1, figsize=(8,4))\n",
    "dfClean[\"SL\"].plot()\n",
    "ax.set_xticks(ind_labels)\n",
    "ax.set_xticklabels(dfClean.loc[ind_labels, \"Year\"])\n",
    "ax.set_xlabel('Year')\n",
    "ax.set_ylabel('Sea level (feet)')\n",
    "ax.set_title('Sea level in Key West, FL');"
   ]
  },
  {
   "cell_type": "markdown",
   "metadata": {},
   "source": [
    "**Part D:** Your mysterious employer owns a lot of beachfront property in Key West and does not want to see people shy away from buying real estate and spending time near the sea. So, they really want to convince others to that the mean sea level in Key West in not increasing. Toward this end, your employer wants to find a decade of data (11 years, including both end points) that has a mean sea level which is not statistically significantly different from the mean sea level in the decade 2000-2010 (including data from both 2000 and 2010). Your employer wants you to use the 99% confidence/1% significance level because it sounds catchy in a press release, and wants the *earliest* decade possible.\n",
    "\n",
    "Use your cleaned monthly data set from Part C to find the earliest decade for which you cannot conclude the mean sea level at Key West was statistically significantly different from the mean sea level in the 2000-2010 decade. You may want to write a helper function to compute the confidence intervals/perform the hypothesis test for you, because there are a LOT of possible 11-year periods to try.\n",
    "\n",
    "You may use either hypothesis tests or confidence intervals, but clearly state which method you will use, your results and show all work that leads to your conclusion. "
   ]
  },
  {
   "cell_type": "code",
   "execution_count": 22,
   "metadata": {
    "collapsed": true
   },
   "outputs": [],
   "source": [
    "# SOLUTION:\n",
    "\n",
    "# helper function to compute CIs:\n",
    "def ci_sl(year_begin, length_years, dfNow, alp):\n",
    "    dfThen = dfClean.copy()\n",
    "    dfThen = dfThen.loc[(dfThen[\"Year\"]>=year_begin) & (dfThen[\"Year\"]<=(year_begin+length_years)), \"SL\"]\n",
    "\n",
    "    zcrit = stats.norm.ppf(1-alp/2)\n",
    "\n",
    "    SE_diff = np.sqrt((dfNow.var(ddof=1)/dfNow.count()) + (dfThen.var(ddof=1)/dfThen.count()))\n",
    "    xbar = dfNow.mean()-dfThen.mean()\n",
    "    lb = xbar - zcrit*SE_diff\n",
    "    ub = xbar + zcrit*SE_diff\n",
    "    \n",
    "    return lb, ub"
   ]
  },
  {
   "cell_type": "code",
   "execution_count": 23,
   "metadata": {},
   "outputs": [
    {
     "data": {
      "text/plain": [
       "[[1960, (0.23879920559000922, 0.4423764653989277)],\n",
       " [1961, (0.24233797196115914, 0.4473027668485021)],\n",
       " [1962, (0.23010924112981973, 0.4338858484241657)],\n",
       " [1963, (0.2035241992251971, 0.4090794135000299)],\n",
       " [1964, (0.19067001216798743, 0.39708937784080245)],\n",
       " [1965, (0.1664788464177573, 0.3703581187290435)],\n",
       " [1966, (0.1589828383548143, 0.36386604972023007)],\n",
       " [1967, (0.14940151494318007, 0.35876307131494)],\n",
       " [1968, (0.13546086153864154, 0.34625195306593415)],\n",
       " [1969, (0.11590867616164971, 0.32638279657940994)],\n",
       " [1970, (0.11286104603607126, 0.32174620560737766)],\n",
       " [1971, (0.10999135620907786, 0.3171242137843441)],\n",
       " [1972, (0.09403416861832678, 0.30109967074496624)],\n",
       " [1973, (0.09091644273600605, 0.30052445273346073)],\n",
       " [1974, (0.11373599989062522, 0.3233241931666452)],\n",
       " [1975, (0.10988863267662104, 0.32037241027440994)],\n",
       " [1976, (0.09440705892010239, 0.30754679408321606)],\n",
       " [1977, (0.06665934508669814, 0.2788227283063949)],\n",
       " [1978, (0.05750769928640587, 0.2650843804100287)],\n",
       " [1979, (0.059478650240516545, 0.2666505849677291)],\n",
       " [1980, (0.05934987404597801, 0.2670356767790699)],\n",
       " [1981, (0.03288900607087221, 0.2464937812774921)],\n",
       " [1982, (0.010832820865367035, 0.22705996042606674)],\n",
       " [1983, (0.0017411420427728974, 0.2167189721781961)],\n",
       " [1984, (-0.013439215655434059, 0.19973399866376973)],\n",
       " [1985, (-0.04028788620247138, 0.17423949836670327)],\n",
       " [1986, (-0.0384396633871259, 0.17366968748823985)],\n",
       " [1987, (-0.034613315823081206, 0.17292534103769291)],\n",
       " [1988, (-0.033678985244720586, 0.17581865700351518)],\n",
       " [1989, (-0.057858228238420045, 0.15456323842081723)],\n",
       " [1990, (-0.07243434355112609, 0.1380707941216559)],\n",
       " [1991, (-0.0848860746077978, 0.12830229134392074)],\n",
       " [1992, (-0.08473926706203057, 0.1266144832414064)],\n",
       " [1993, (-0.07748467333546862, 0.134577939181715)],\n",
       " [1994, (-0.07073193264020743, 0.14084760914665778)],\n",
       " [1995, (-0.0710363352664648, 0.14160628191222113)],\n",
       " [1996, (-0.06399196495259762, 0.14593666372571346)],\n",
       " [1997, (-0.09222986100123132, 0.12132506131049547)],\n",
       " [1998, (-0.10685905444585442, 0.11494670628007275)]]"
      ]
     },
     "execution_count": 23,
     "metadata": {},
     "output_type": "execute_result"
    }
   ],
   "source": [
    "dfNow = dfClean.copy()\n",
    "dfNow = dfNow.loc[(dfNow[\"Year\"]>=2000) & (dfNow[\"Year\"]<=2010), \"SL\"]\n",
    "[[begy, ci_sl(begy, 10, dfNow, 0.01)] for begy in range(1960,1999)]"
   ]
  },
  {
   "cell_type": "markdown",
   "metadata": {},
   "source": [
    "From the generated confidence intervals, 1984-1994 is the earliest decade for which we cannot conclude there is a significant difference in the mean sea levels between that decade and the 2000-2010 decade.\n",
    "\n",
    "That's some weak-sauce evidence, given that 1994 is only 6 years away from 2000, at which point the two data sets would be overlapping and most *definitely* not independent, which fails the most basic assumptions of our two-sample confidence interval methods."
   ]
  },
  {
   "cell_type": "code",
   "execution_count": null,
   "metadata": {
    "collapsed": true
   },
   "outputs": [],
   "source": []
  }
 ],
 "metadata": {
  "kernelspec": {
   "display_name": "Python 3",
   "language": "python",
   "name": "python3"
  },
  "language_info": {
   "codemirror_mode": {
    "name": "ipython",
    "version": 3
   },
   "file_extension": ".py",
   "mimetype": "text/x-python",
   "name": "python",
   "nbconvert_exporter": "python",
   "pygments_lexer": "ipython3",
   "version": "3.7.1"
  }
 },
 "nbformat": 4,
 "nbformat_minor": 2
}
