{
 "cells": [
  {
   "cell_type": "markdown",
   "metadata": {},
   "source": [
    "<a id='top'></a>\n",
    "\n",
    "# Homework 1: Data Cleaning and Exploratory Data Analysis \n",
    "***\n",
    "\n",
    "**Name**: Sahand Setareh\n",
    "\n",
    "***\n",
    "\n",
    "This assignment is due on Canvas by **11:59 PM on Friday January 31**. Your solutions to theoretical questions should be done in Markdown directly below the associated question.  Your solutions to computational questions should include any specified Python code and results as well as written commentary on your conclusions.  Remember that you are encouraged to discuss the problems with your classmates, but **you must write all code and solutions on your own**.\n",
    "\n",
    "**NOTES**: \n",
    "\n",
    "- Any relevant data sets should be available under the **Data** module on Canvas. \n",
    "- If you're not familiar with typesetting math directly into Markdown then by all means, do your work on paper first and then typeset it later.  Remember that there is a [reference guide](https://math.meta.stackexchange.com/questions/5020/mathjax-basic-tutorial-and-quick-reference) linked on Canvas on writing math in Markdown. **All** of your written commentary, justifications and mathematical work should be in Markdown.\n",
    "- Because you can technically evaluate notebook cells is a non-linear order, it's a good idea to do Kernel $\\rightarrow$ Restart & Run All as a check before submitting your solutions.  That way if we need to run your code you will know that it will work as expected. \n",
    "- It is **bad form** to make your reader interpret numerical output from your code.  If a question asks you to compute some value from the data you should show your code output **AND** write a summary of the results in Markdown directly below your code. \n",
    "- This probably goes without saying, but... For any question that asks you to calculate something, you **must show all work and justify your answers to receive credit**. Sparse or nonexistent work will receive sparse or nonexistent credit. \n",
    "\n",
    "---\n",
    "**Shortcuts:**  [Problem 1](#p1) | [Problem 2](#p2) | [Problem 3](#p3) | [Problem 4](#p4) | [Problem 5](#p5) \n",
    "\n",
    "---"
   ]
  },
  {
   "cell_type": "code",
   "execution_count": 1,
   "metadata": {},
   "outputs": [],
   "source": [
    "import pandas as pd\n",
    "import numpy as np\n",
    "import matplotlib.pylab as plt\n",
    "%matplotlib inline"
   ]
  },
  {
   "cell_type": "markdown",
   "metadata": {},
   "source": [
    "[Back to top](#top)\n",
    "\n",
    "<br>\n",
    "\n",
    "<a/ id='p1'></a>\n",
    "\n",
    "### (10 points) Problem 1\n",
    "***\n",
    "\n",
    "<img style=\"float: left; width: 200px; padding: 3mm;\" src=\"https://aquarium.org/wp-content/uploads/2015/08/Seahorse-female.jpg\" alt=\"Drawing\"/>  \n",
    "Poseidon is studying seahorses. Locations in each of the Atlantic, Pacific, Indian, Artic, and Southern Oceans are chosen to catch and release seahorses. After being caught, the seahorses are monitored for 24 hours while being fed organic, free-range plankton. The amount of plankton that each seahorse eats is recorded in an app on Poseidon’s phone, called Hippocampus. He collects 6 seahorses from the Arctic Ocean, 36 seahorses from the Pacific Ocean, 12 seahorses from the Indian Ocean, 6 seahorses from the Southern Ocean, and 42 seahorses from the Atlantic Ocean. \n",
    "\n",
    "Poseidon wants to get a sense for the average amount of plankton eaten by seahorses, so he uses the Hippcampus app to first order the seahorses in terms of when each seahorse was caught (first caught to last caught). Then, he selects every 3rd seahorse to see how much plankton was eaten.\n",
    "\n",
    "$$ \\quad $$\n",
    "    \n",
    "**Part A:** Identify the following: \n",
    "\n",
    "- the population \n",
    "- the sample frame \n",
    "- the sample \n",
    "- the type of sample \n",
    "- the quantity of interest"
   ]
  },
  {
   "cell_type": "markdown",
   "metadata": {},
   "source": [
    "**Response:**\n",
    "\n",
    "The **Population** of this data set is the collected seahorses previously located in each of the Atlantic, Pacific, Indian, Arctic and Southern Oceans. The origin of the seahorses collected for sampling is not uniformly distributed among these regions. \n",
    "\n",
    "The **Sample Frame** of this data set is every 3rd seahorse caught that will have the amount of plankton it has consumed measured and recorded. \n",
    "\n",
    "The **Type of Sample** of this data set is a systematic sample as every 3rd seahorse is the one being sampled for the quantity of interest. \n",
    "\n",
    "The **Quantity of Interest** of this data set is the amount of plankton consumed by the seahorse.\n",
    "\n",
    "\n",
    "\n"
   ]
  },
  {
   "cell_type": "markdown",
   "metadata": {},
   "source": [
    "[Back to top](#top)\n",
    "\n",
    "<br>\n",
    "\n",
    "<a/ id='p2'></a>\n",
    "\n",
    "### (25 points) Problem 2\n",
    "***\n",
    "\n",
    "A method to investigate the sensitivity of the sample mean and sample median to extreme outliers and changes in the dataset is to replace one or more elements in a given dataset by a number $y$ and investigate the effect when $y$ changes. To illustrate this, consider the following dataset:\n",
    " \n",
    "$$  4.3 \\quad 5.2 \\quad 5.0 \\quad 3.8 \\quad 4.1 \\quad 5.5 \\quad 1.9 $$\n",
    "\n",
    "\n"
   ]
  },
  {
   "cell_type": "markdown",
   "metadata": {},
   "source": [
    "**Part A:** Compute the sample mean and sample median. Do not use the canned mean and median python functions. Write your own code to compute these quantities. You may use the python length and sort functions, but that is it."
   ]
  },
  {
   "cell_type": "code",
   "execution_count": 2,
   "metadata": {},
   "outputs": [
    {
     "name": "stdout",
     "output_type": "stream",
     "text": [
      "The calculated Sample Mean: 4.257142857142857\n",
      "The calculated Sample Median: 4.3\n"
     ]
    }
   ],
   "source": [
    "# ds is our dataset\n",
    "ds = [4.3, 5.2, 5.0, 3.8, 4.1, 5.5, 1.9]\n",
    "ds.sort()\n",
    "\n",
    "# finding the mean\n",
    "sum = 0;\n",
    "for i in range(len(ds)):\n",
    "    sum += ds[i]\n",
    "sample_mean = sum / len(ds)\n",
    "print(\"The calculated Sample Mean: \" + str(sample_mean))\n",
    "\n",
    "# finding the median\n",
    "sample_median = 0\n",
    "if len(ds)%2 == 0:\n",
    "    m1 = ds[len(ds) // 2]\n",
    "    m2 = ds[len(ds) // 2 - 1]\n",
    "    sample_median = (m1 + m2) / 2\n",
    "else:\n",
    "    sample_median = ds[len(ds) // 2]\n",
    "print(\"The calculated Sample Median: \" + str(sample_median))\n",
    "    "
   ]
  },
  {
   "cell_type": "markdown",
   "metadata": {},
   "source": [
    "**Part B:** Now, recompute the mean and the median using the python numpy functions. Compare your answers to what you computed in Part A. Do your answer match? (Hint: They should!)"
   ]
  },
  {
   "cell_type": "code",
   "execution_count": 3,
   "metadata": {},
   "outputs": [
    {
     "name": "stdout",
     "output_type": "stream",
     "text": [
      "Recomputed mean using python numpy functions: 4.257142857142857\n",
      "Recomputed median using python numpy functions: 4.3\n"
     ]
    }
   ],
   "source": [
    "ds = [4.3, 5.2, 5.0, 3.8, 4.1, 5.5, 1.9]\n",
    "\n",
    "# using python numpy functions\n",
    "sample_mean = np.mean(ds)\n",
    "sample_median = np.median(ds)\n",
    "\n",
    "print(\"Recomputed mean using python numpy functions: \" + str(sample_mean))\n",
    "print(\"Recomputed median using python numpy functions: \" + str(sample_median))"
   ]
  },
  {
   "cell_type": "markdown",
   "metadata": {},
   "source": [
    "The answers do match! The sample mean is 4.257142857142857 and the sample median is 4.3"
   ]
  },
  {
   "cell_type": "markdown",
   "metadata": {},
   "source": [
    "**Part C:** Now consider the following data set. \n",
    "$$  4.3 \\quad 5.2 \\quad 5.0 \\quad 3.8 \\quad 4.1 \\quad 5.5 \\quad 1.9 \\quad y$$\n",
    "\n",
    "Is there a value for $y$ that would make the mean of the data equal to 7? If so, calculate the value of $y$ that makes the mean equal to 7. If not, clearly explain why not.\n",
    "    \n",
    "Is there a value for $y$ that would make the median of the data equal to 7? If so, calculate the values of $y$ that makes the median equal to 7. If not, clearly explain why not."
   ]
  },
  {
   "cell_type": "markdown",
   "metadata": {},
   "source": [
    "**There is a value for y that would make the mean of the data equal to 7**. This can be calculated by using the following formula for calculating mean: \n",
    "\n",
    "$$ \\bar{x} = \\frac{1}{n}\\sum ^{n}_{{i=1}}a_{i} $$\n",
    "\n",
    "Setting $ \\bar{x} = 7 $ , and $ n = 8 $ (our number of elements in the dataset after adding $ y $, we can solve for the value of $ y $ : $$ y = (7 * 8) - (1.9 + 3.8 + 4.1 + 4.3 + 5.0 +  5.2 + 5.5) $$ $$ y = 26.2 $$\n",
    "\n",
    "\n",
    "**There is not a value for y that would make the median equal to 7**, because the median is taken as the middle-most element of the data set, and when an even amount of elements exist in the set it becomes hte mean of the two middle-most elements. Therefore, inserting any value will not result in a median equal to 7, but will instead shift it to a lower or higher value depending on the value of $ y $ .\n"
   ]
  },
  {
   "cell_type": "markdown",
   "metadata": {},
   "source": [
    "**Part D**: Compute the sample variance and the sample standard deviation for the original dataset given in part A using the formulas given in class. You may not use the built-in python variance, standard deviation, or sum functions. Using the length and square root functions is fine."
   ]
  },
  {
   "cell_type": "code",
   "execution_count": 4,
   "metadata": {},
   "outputs": [
    {
     "name": "stdout",
     "output_type": "stream",
     "text": [
      "The calculated sample variance: 1.2538775510204085\n",
      "The calcualted sample standard deviation: 1.1197667395580244\n"
     ]
    }
   ],
   "source": [
    "ds = [4.3, 5.2, 5.0, 3.8, 4.1, 5.5, 1.9]\n",
    "\n",
    "# finding the mean\n",
    "sum = 0;\n",
    "for i in range(len(ds)):\n",
    "    sum += ds[i]\n",
    "sample_mean = sum / len(ds)\n",
    "\n",
    "# finding sample variance\n",
    "sv_sum = 0\n",
    "for k in range(len(ds)):\n",
    "    sv_sum += (ds[k] - sample_mean)**2\n",
    "sample_variance = sv_sum / (len(ds))\n",
    "print(\"The calculated sample variance: \" + str(sample_variance))\n",
    "\n",
    "# finding the standard deviation\n",
    "standard_deviation = (sample_variance)**(1/2)\n",
    "print(\"The calcualted sample standard deviation: \" + str(standard_deviation))"
   ]
  },
  {
   "cell_type": "markdown",
   "metadata": {},
   "source": [
    "**Part E:** Execute the following code. Does it match what you computed in part D? Why or why not? If not, how can you correct the code below?"
   ]
  },
  {
   "cell_type": "code",
   "execution_count": 5,
   "metadata": {},
   "outputs": [
    {
     "name": "stdout",
     "output_type": "stream",
     "text": [
      "The sample variance is:  1.2538775510204085\n",
      "the std dev is:  1.1197667395580244\n"
     ]
    }
   ],
   "source": [
    "dataset = [4.3, 5.2, 5.0, 3.8, 4.1, 5.5, 1.9]\n",
    "print(\"The sample variance is: \", np.var(dataset))\n",
    "print(\"the std dev is: \", np.std(dataset))"
   ]
  },
  {
   "cell_type": "markdown",
   "metadata": {},
   "source": [
    "Both the values for sample variance and standard deviation match what I computed in part D!"
   ]
  },
  {
   "cell_type": "markdown",
   "metadata": {},
   "source": [
    "#### **Part F**: Again consider the data set from Part C: $$  4.3 \\quad 5.2 \\quad 5.0 \\quad 3.8 \\quad 4.1 \\quad 5.5 \\quad 1.9 \\quad y$$\n",
    "\n",
    "Compute the sample median for the following cases (you may use whatever built-in python functions you'd like): \n",
    "- $y=5$ \n",
    "- $y=50$ \n",
    "- $y=4.36$ \n",
    "- $y \\to \\infty$ \n",
    "- $y \\to -\\infty$"
   ]
  },
  {
   "cell_type": "code",
   "execution_count": 6,
   "metadata": {},
   "outputs": [
    {
     "name": "stdout",
     "output_type": "stream",
     "text": [
      "When y = 5: 4.65\n",
      "When y = 50: 4.65\n",
      "When y = 4.36: 4.65\n",
      "When y = infinity: 4.65\n",
      "When y = negative infinity: 4.65\n"
     ]
    }
   ],
   "source": [
    "y = 5\n",
    "\n",
    "# ds is our dataset\n",
    "ds = [4.3, 5.2, 5.0, 3.8, 4.1, 5.5, 1.9, y]\n",
    "print(\"When y = 5: \" + str(np.median(ds)))\n",
    "y = 50\n",
    "print(\"When y = 50: \" + str(np.median(ds)))\n",
    "y = 4.36\n",
    "print(\"When y = 4.36: \" + str(np.median(ds)))\n",
    "y = np.inf\n",
    "print(\"When y = infinity: \" + str(np.median(ds)))\n",
    "y = -np.inf\n",
    "print(\"When y = negative infinity: \" + str(np.median(ds)))"
   ]
  },
  {
   "cell_type": "markdown",
   "metadata": {},
   "source": [
    "**Part G**: Think about the previous parts, above, and describe in words or mathematical notation the answer to the following question:\n",
    "\n",
    "- By varying $y$, what is the set of all the possible values that the sample mean could take on?\n"
   ]
  },
  {
   "cell_type": "markdown",
   "metadata": {},
   "source": [
    "By varying the value for $ y $, the dataset will contain eight elements. When dealing with a dataset containing an even number of elements, the median is the mean of the middle two elements, and in this case they are 4.3 and 5.0, resulting in 4.65. This means that unless $ y $ takes on a value greater than 4.3 and less than 5.0, the resulting median will always be 4.65. "
   ]
  },
  {
   "cell_type": "markdown",
   "metadata": {},
   "source": [
    "**Part H**: Describe in words or mathematical notation, what happens to the sample standard deviation when $y$ is varied in the following ways: \n",
    " \n",
    "- $y \\to \\infty$ \n",
    "- $y \\to \\bar{x}$"
   ]
  },
  {
   "cell_type": "markdown",
   "metadata": {},
   "source": [
    "When $ y \\rightarrow \\infty $, the sample standard deviation will continually increase and go to infinity. This is because when $ y \\rightarrow \\infty $, the mean (average) will also continually increase which in turn will result in a larger and larger standard deviation.\n",
    "\n",
    "When $y \\to \\bar{x}$, the sample standard deviation will decrease slightly than if it were a number other than the mean. This is because the formula for standard deviation is: $ s^2 = \\frac{1}{n -1} \\sum_{i =1}^{n}(x_k - \\bar{x})^2$, so having $y$, an element, be equivalent to $\\bar{x}$ would result in a value of zero being added to the summation where n would still account for the extra element in the dataset. "
   ]
  },
  {
   "cell_type": "markdown",
   "metadata": {},
   "source": [
    "[Back to top](#top)\n",
    "\n",
    "<a/ id='p3'></a>\n",
    "\n",
    "## (25 pts) Problem 3\n",
    "*** \n",
    "Some claim that the final hours aboard the RMS Titanic were marked by \"class warfare\" in which the people with first-class tickets took all the good spots on the lifeboats; others claim that the final hours were characterized by male chivalry, in which the men valiantly gave up their positions in the boats and succumbed bravely to the depths of the Atlantic. \n",
    "\n",
    "We have the data on survival rates by class and by sex, so let's figure out whether there is evidence for these scenarios. Access the Titanic data in `titanic_data.csv` and store it in a Pandas DataFrame. The data contains information pertaining to class status (**Pclass**), survival (**Survived**), and gender (**Sex**) of passengers, among other things. Be sure to use the `titanic_data.csv` data set, *not* the `clean_titanic_data` file from the in-class notebook."
   ]
  },
  {
   "cell_type": "code",
   "execution_count": 8,
   "metadata": {},
   "outputs": [
    {
     "data": {
      "text/html": [
       "<div>\n",
       "<style scoped>\n",
       "    .dataframe tbody tr th:only-of-type {\n",
       "        vertical-align: middle;\n",
       "    }\n",
       "\n",
       "    .dataframe tbody tr th {\n",
       "        vertical-align: top;\n",
       "    }\n",
       "\n",
       "    .dataframe thead th {\n",
       "        text-align: right;\n",
       "    }\n",
       "</style>\n",
       "<table border=\"1\" class=\"dataframe\">\n",
       "  <thead>\n",
       "    <tr style=\"text-align: right;\">\n",
       "      <th></th>\n",
       "      <th>PassengerId</th>\n",
       "      <th>Survived</th>\n",
       "      <th>Pclass</th>\n",
       "      <th>Name</th>\n",
       "      <th>Sex</th>\n",
       "      <th>Age</th>\n",
       "      <th>SibSp</th>\n",
       "      <th>Parch</th>\n",
       "      <th>Ticket</th>\n",
       "      <th>Fare</th>\n",
       "      <th>Cabin</th>\n",
       "      <th>Embarked</th>\n",
       "    </tr>\n",
       "  </thead>\n",
       "  <tbody>\n",
       "    <tr>\n",
       "      <td>0</td>\n",
       "      <td>1</td>\n",
       "      <td>0</td>\n",
       "      <td>3</td>\n",
       "      <td>Braund, Mr. Owen Harris</td>\n",
       "      <td>male</td>\n",
       "      <td>36.0</td>\n",
       "      <td>1</td>\n",
       "      <td>0</td>\n",
       "      <td>A/5 21171</td>\n",
       "      <td>7.2500</td>\n",
       "      <td>NaN</td>\n",
       "      <td>S</td>\n",
       "    </tr>\n",
       "    <tr>\n",
       "      <td>1</td>\n",
       "      <td>2</td>\n",
       "      <td>1</td>\n",
       "      <td>1</td>\n",
       "      <td>Cumings, Mrs. John Bradley (Florence Briggs Th...</td>\n",
       "      <td>female</td>\n",
       "      <td>18.0</td>\n",
       "      <td>1</td>\n",
       "      <td>0</td>\n",
       "      <td>PC 17599</td>\n",
       "      <td>71.2833</td>\n",
       "      <td>C85</td>\n",
       "      <td>C</td>\n",
       "    </tr>\n",
       "    <tr>\n",
       "      <td>2</td>\n",
       "      <td>3</td>\n",
       "      <td>1</td>\n",
       "      <td>3</td>\n",
       "      <td>Heikkinen, Miss. Laina</td>\n",
       "      <td>female</td>\n",
       "      <td>14.0</td>\n",
       "      <td>0</td>\n",
       "      <td>0</td>\n",
       "      <td>STON/O2. 3101282</td>\n",
       "      <td>7.9250</td>\n",
       "      <td>NaN</td>\n",
       "      <td>S</td>\n",
       "    </tr>\n",
       "    <tr>\n",
       "      <td>3</td>\n",
       "      <td>4</td>\n",
       "      <td>1</td>\n",
       "      <td>1</td>\n",
       "      <td>Futrelle, Mrs. Jacques Heath (Lily May Peel)</td>\n",
       "      <td>female</td>\n",
       "      <td>27.0</td>\n",
       "      <td>1</td>\n",
       "      <td>0</td>\n",
       "      <td>113803</td>\n",
       "      <td>53.1000</td>\n",
       "      <td>C123</td>\n",
       "      <td>S</td>\n",
       "    </tr>\n",
       "    <tr>\n",
       "      <td>4</td>\n",
       "      <td>5</td>\n",
       "      <td>0</td>\n",
       "      <td>3</td>\n",
       "      <td>Allen, Mr. William Henry</td>\n",
       "      <td>male</td>\n",
       "      <td>63.0</td>\n",
       "      <td>0</td>\n",
       "      <td>0</td>\n",
       "      <td>373450</td>\n",
       "      <td>8.0500</td>\n",
       "      <td>NaN</td>\n",
       "      <td>S</td>\n",
       "    </tr>\n",
       "  </tbody>\n",
       "</table>\n",
       "</div>"
      ],
      "text/plain": [
       "   PassengerId  Survived  Pclass  \\\n",
       "0            1         0       3   \n",
       "1            2         1       1   \n",
       "2            3         1       3   \n",
       "3            4         1       1   \n",
       "4            5         0       3   \n",
       "\n",
       "                                                Name     Sex   Age  SibSp  \\\n",
       "0                            Braund, Mr. Owen Harris    male  36.0      1   \n",
       "1  Cumings, Mrs. John Bradley (Florence Briggs Th...  female  18.0      1   \n",
       "2                             Heikkinen, Miss. Laina  female  14.0      0   \n",
       "3       Futrelle, Mrs. Jacques Heath (Lily May Peel)  female  27.0      1   \n",
       "4                           Allen, Mr. William Henry    male  63.0      0   \n",
       "\n",
       "   Parch            Ticket     Fare Cabin Embarked  \n",
       "0      0         A/5 21171   7.2500   NaN        S  \n",
       "1      0          PC 17599  71.2833   C85        C  \n",
       "2      0  STON/O2. 3101282   7.9250   NaN        S  \n",
       "3      0            113803  53.1000  C123        S  \n",
       "4      0            373450   8.0500   NaN        S  "
      ]
     },
     "execution_count": 8,
     "metadata": {},
     "output_type": "execute_result"
    }
   ],
   "source": [
    "file_path = '/Users/sahandsetareh/Spring 2020/CSCI 3022/Data/titanic_data.csv'\n",
    "df = pd.read_csv(file_path)\n",
    "df.head()"
   ]
  },
  {
   "cell_type": "markdown",
   "metadata": {},
   "source": [
    "**Part A**: Consider the two claims: class warfare, and male chivalry. Suppose that class warfare occurred in the final hours aboard the Titanic.  What patterns might you expect to see in the data?  Suppose that male chivalry was widespread during the final hours instead. What patterns might you then expect to see in the data?  Explain both of these hypothesized patterns in words. Are these two hypotheses mutually exclusive or not?"
   ]
  },
  {
   "cell_type": "markdown",
   "metadata": {},
   "source": [
    "The first hypothesis proposes that class warfare may have occurred, in which the persons holding first-class tickets took good spots on lifeboats. If this indeed happened, it would follow that we can observe higher rates of survival among those holding first-class tickets, where the unfortunate, reverse result would be true for those not holding first-class tickets as a general trend.\n",
    "\n",
    "Secondly, there is the proposition that male chivalry was at hand, and that men valiantly gave up their positions on boats in order to face the ocean. If this were to be true, then we would observe higher mortality rates for men on board, regardless of their tickets. These hypothesis are not necessarily mutually exclusive, because male chivalry could be a trait shared by all men on board. "
   ]
  },
  {
   "cell_type": "markdown",
   "metadata": {},
   "source": [
    "**Part B**: Use Pandas methods to create a clean data set by removing any rows from the DataFrame that are missing values corresponding to **Survived**, **Pclass**, **Age**, or **Sex**. Store the clean data in a DataFrame called dfTitanic. Be sure to show any exploratory work determining if/where there are rows with missing values."
   ]
  },
  {
   "cell_type": "code",
   "execution_count": 9,
   "metadata": {},
   "outputs": [
    {
     "data": {
      "text/html": [
       "<div>\n",
       "<style scoped>\n",
       "    .dataframe tbody tr th:only-of-type {\n",
       "        vertical-align: middle;\n",
       "    }\n",
       "\n",
       "    .dataframe tbody tr th {\n",
       "        vertical-align: top;\n",
       "    }\n",
       "\n",
       "    .dataframe thead th {\n",
       "        text-align: right;\n",
       "    }\n",
       "</style>\n",
       "<table border=\"1\" class=\"dataframe\">\n",
       "  <thead>\n",
       "    <tr style=\"text-align: right;\">\n",
       "      <th></th>\n",
       "      <th>Survived</th>\n",
       "      <th>Pclass</th>\n",
       "      <th>Age</th>\n",
       "      <th>Sex</th>\n",
       "    </tr>\n",
       "  </thead>\n",
       "  <tbody>\n",
       "    <tr>\n",
       "      <td>0</td>\n",
       "      <td>0</td>\n",
       "      <td>3</td>\n",
       "      <td>36.0</td>\n",
       "      <td>male</td>\n",
       "    </tr>\n",
       "    <tr>\n",
       "      <td>1</td>\n",
       "      <td>1</td>\n",
       "      <td>1</td>\n",
       "      <td>18.0</td>\n",
       "      <td>female</td>\n",
       "    </tr>\n",
       "    <tr>\n",
       "      <td>2</td>\n",
       "      <td>1</td>\n",
       "      <td>3</td>\n",
       "      <td>14.0</td>\n",
       "      <td>female</td>\n",
       "    </tr>\n",
       "    <tr>\n",
       "      <td>3</td>\n",
       "      <td>1</td>\n",
       "      <td>1</td>\n",
       "      <td>27.0</td>\n",
       "      <td>female</td>\n",
       "    </tr>\n",
       "    <tr>\n",
       "      <td>4</td>\n",
       "      <td>0</td>\n",
       "      <td>3</td>\n",
       "      <td>63.0</td>\n",
       "      <td>male</td>\n",
       "    </tr>\n",
       "    <tr>\n",
       "      <td>...</td>\n",
       "      <td>...</td>\n",
       "      <td>...</td>\n",
       "      <td>...</td>\n",
       "      <td>...</td>\n",
       "    </tr>\n",
       "    <tr>\n",
       "      <td>884</td>\n",
       "      <td>0</td>\n",
       "      <td>3</td>\n",
       "      <td>18.0</td>\n",
       "      <td>male</td>\n",
       "    </tr>\n",
       "    <tr>\n",
       "      <td>885</td>\n",
       "      <td>0</td>\n",
       "      <td>3</td>\n",
       "      <td>30.0</td>\n",
       "      <td>female</td>\n",
       "    </tr>\n",
       "    <tr>\n",
       "      <td>886</td>\n",
       "      <td>0</td>\n",
       "      <td>2</td>\n",
       "      <td>4.0</td>\n",
       "      <td>male</td>\n",
       "    </tr>\n",
       "    <tr>\n",
       "      <td>887</td>\n",
       "      <td>1</td>\n",
       "      <td>1</td>\n",
       "      <td>24.0</td>\n",
       "      <td>female</td>\n",
       "    </tr>\n",
       "    <tr>\n",
       "      <td>888</td>\n",
       "      <td>0</td>\n",
       "      <td>3</td>\n",
       "      <td>23.0</td>\n",
       "      <td>female</td>\n",
       "    </tr>\n",
       "  </tbody>\n",
       "</table>\n",
       "<p>714 rows × 4 columns</p>\n",
       "</div>"
      ],
      "text/plain": [
       "     Survived  Pclass   Age     Sex\n",
       "0           0       3  36.0    male\n",
       "1           1       1  18.0  female\n",
       "2           1       3  14.0  female\n",
       "3           1       1  27.0  female\n",
       "4           0       3  63.0    male\n",
       "..        ...     ...   ...     ...\n",
       "884         0       3  18.0    male\n",
       "885         0       3  30.0  female\n",
       "886         0       2   4.0    male\n",
       "887         1       1  24.0  female\n",
       "888         0       3  23.0  female\n",
       "\n",
       "[714 rows x 4 columns]"
      ]
     },
     "execution_count": 9,
     "metadata": {},
     "output_type": "execute_result"
    }
   ],
   "source": [
    "dfTitanic = df[['Survived', 'Pclass', 'Age', 'Sex']]\n",
    "\n",
    "dfTitanic = dfTitanic.dropna()\n",
    "dfTitanic"
   ]
  },
  {
   "cell_type": "markdown",
   "metadata": {},
   "source": [
    "**Part C**: Compute the fraction of survivors according to class and gender. There are 3 passenger classes and 2 sexes in the data set, so you should report all 6 possible combinations.  Then, answer 3 questions:\n",
    "* **(i)** Within each passenger class, were men or women more/less/equally likely to survive?\n",
    "* **(ii)**  Looking at only the male or only the female passengers, how is passenger class related to the category's survival rate?\n",
    "* **(iii)**  Did men in first class or women in third class have a higher survival rate? "
   ]
  },
  {
   "cell_type": "code",
   "execution_count": 10,
   "metadata": {},
   "outputs": [
    {
     "name": "stdout",
     "output_type": "stream",
     "text": [
      "Fraction of first-class men who survived: 36 / 91\n",
      "Fraction of first-class women who survived: 72 / 188\n",
      "Fraction of second-class men who survived: 16 / 91\n",
      "Fraction of second-class women who survived: 54 / 188\n",
      "Fraction of third-class men who survived: 39 / 91\n",
      "Fraction of third-class women who survived: 62 / 188\n"
     ]
    }
   ],
   "source": [
    "# Seperating survived vs. not\n",
    "survivors = dfTitanic[dfTitanic['Survived'] != 0]\n",
    "\n",
    "# Men vs Women\n",
    "males = survivors[survivors['Sex'] == 'male']\n",
    "females = survivors[survivors['Sex'] == 'female']\n",
    "\n",
    "# 1st class + male\n",
    "first_men = males[males['Pclass'] == 1]\n",
    "print('Fraction of first-class men who survived: ' + str(len(first_men)) + ' / ' + str(len(males)))\n",
    "\n",
    "#1st class + female\n",
    "first_women = females[females['Pclass'] == 1]\n",
    "print('Fraction of first-class women who survived: ' + str(len(first_women)) + ' / ' + str(len(females)))\n",
    "\n",
    "#2nd class + male\n",
    "second_men = males[males['Pclass'] == 2]\n",
    "print('Fraction of second-class men who survived: ' + str(len(second_men)) + ' / ' + str(len(males)))\n",
    "\n",
    "#2nd class + female\n",
    "second_women = females[females['Pclass'] == 2]\n",
    "print('Fraction of second-class women who survived: ' + str(len(second_women)) + ' / ' + str(len(females)))\n",
    "\n",
    "#3rd class + male\n",
    "third_men = males[males['Pclass'] == 3]\n",
    "print('Fraction of third-class men who survived: ' + str(len(third_men)) + ' / ' + str(len(males)))\n",
    "\n",
    "#3rd class + female\n",
    "third_women = females[females['Pclass'] == 3]\n",
    "print('Fraction of third-class women who survived: ' + str(len(third_women)) + ' / ' + str(len(females)))\n"
   ]
  },
  {
   "cell_type": "markdown",
   "metadata": {},
   "source": [
    "It seems that within each passenger class, women were far more likely to survive. This is easily observalble in the above metrics, as the number of women in each class who survived were far greater than the number of men. It is also apparent that first class citizens did have the higher chance of survival, as their numbers are greater than the other two classes, although a greater number of third class males survived than either of their first and second class counterparts, and a greater number of third class women survived than the ladies who sailed second class. Lastly, Women in the third class had a similar survival rate than men in the first class, where a third of the women who survived were from the third class which is what we can see for the males in the first class. "
   ]
  },
  {
   "cell_type": "markdown",
   "metadata": {},
   "source": [
    "**Part D**: Plot a histogram of all of the passenger ages, using the bin edges $[0,5,10,\\ldots,70,75,80]$ defined by `my_bins` below. How would you characterize the distribution of **AGE**? (By _characterize_ we mean that you should indicate whether the data are unimodal, bimodal, multimodal, symmetric, negatively skewed, positively skewed, etc.)  Be sure to label your axes and use your figure to justify your conclusions."
   ]
  },
  {
   "cell_type": "code",
   "execution_count": 11,
   "metadata": {},
   "outputs": [],
   "source": [
    "my_bins = range(0,85,5)"
   ]
  },
  {
   "cell_type": "code",
   "execution_count": 12,
   "metadata": {},
   "outputs": [
    {
     "data": {
      "text/plain": [
       "(array([  0.,  20.,  40.,  60.,  80., 100., 120.]),\n",
       " <a list of 7 Text yticklabel objects>)"
      ]
     },
     "execution_count": 12,
     "metadata": {},
     "output_type": "execute_result"
    },
    {
     "data": {
      "image/png": "[encoded data removed]",
      "text/plain": [
       "<Figure size 1080x432 with 1 Axes>"
      ]
     },
     "metadata": {
      "needs_background": "light"
     },
     "output_type": "display_data"
    }
   ],
   "source": [
    "fig, ax = plt.subplots(figsize = (15,6))\n",
    "dfTitanic.hist(column = 'Age', ax=ax, bins = my_bins, edgecolor = 'white', color = 'steelblue')\n",
    "ax.set_axisbelow(True)\n",
    "ax.set_title('Age Distribution on the Titanic')\n",
    "ax.set_xlabel('Age', fontsize = 16)\n",
    "ax.set_ylabel('Number of people', fontsize = 18)\n",
    "plt.xticks(fontsize=16)\n",
    "plt.yticks(fontsize=16)\n",
    "\n"
   ]
  },
  {
   "cell_type": "markdown",
   "metadata": {},
   "source": [
    "From the histogram above, we can observe that the age distribution on the Titanic was left-skewed, that is there exists a higher concentration of persons on the left hand side of the histogram (40-year age mark) than the right. This is a multimodal data set, we can see one giant concentration of passengers ages 15-60, and there exists a small peak of passengers younger than the age of 15. "
   ]
  },
  {
   "cell_type": "markdown",
   "metadata": {},
   "source": [
    "**Part E**: One might wonder how a passenger's age is related to the likelihood that they would survive the Titanic disaster. To answer this question graphically, plot two density histograms on the same set of axes, showing the distribution of the ages of passengers who survived, and the distribution of the ages of passengers who did not. \n",
    "* Use the bin edges $[0,5,10,\\ldots,70,75,80]$ for both histograms.\n",
    "* This problem is about a *ship* sinking in the *ocean*, so use **coral** and **seagreen** as the facecolors for your histogram boxes.\n",
    "* Plot both histograms on a single set of axes (there should be only one panel in the figure you create), but use Matplotlib/Pandas plotting functionality to make the faces of the histogram boxes somewhat transparent, so both histograms are visible.\n",
    "* Include a legend and label your axes.\n",
    "* Comment on the results. Does your figure suggest that some age ranges are more or less likely to have survived the disaster than other ages? Fully explain your reasoning and use your figure to justify your conclusions.\n",
    "* If you noticed some relationship between age and likelihood of survival, what is one possible explanation?"
   ]
  },
  {
   "cell_type": "code",
   "execution_count": 1,
   "metadata": {},
   "outputs": [
    {
     "ename": "NameError",
     "evalue": "name 'plt' is not defined",
     "output_type": "error",
     "traceback": [
      "\u001b[0;31m---------------------------------------------------------------------------\u001b[0m",
      "\u001b[0;31mNameError\u001b[0m                                 Traceback (most recent call last)",
      "\u001b[0;32m<ipython-input-1-3e3c4375eca3>\u001b[0m in \u001b[0;36m<module>\u001b[0;34m\u001b[0m\n\u001b[1;32m      2\u001b[0m \u001b[0;34m\u001b[0m\u001b[0m\n\u001b[1;32m      3\u001b[0m \u001b[0;34m\u001b[0m\u001b[0m\n\u001b[0;32m----> 4\u001b[0;31m \u001b[0mfig\u001b[0m\u001b[0;34m,\u001b[0m \u001b[0max\u001b[0m \u001b[0;34m=\u001b[0m \u001b[0mplt\u001b[0m\u001b[0;34m.\u001b[0m\u001b[0msubplots\u001b[0m\u001b[0;34m(\u001b[0m\u001b[0mfigsize\u001b[0m \u001b[0;34m=\u001b[0m \u001b[0;34m(\u001b[0m\u001b[0;36m16\u001b[0m\u001b[0;34m,\u001b[0m\u001b[0;36m4\u001b[0m\u001b[0;34m)\u001b[0m\u001b[0;34m)\u001b[0m\u001b[0;34m\u001b[0m\u001b[0;34m\u001b[0m\u001b[0m\n\u001b[0m\u001b[1;32m      5\u001b[0m \u001b[0;34m\u001b[0m\u001b[0m\n\u001b[1;32m      6\u001b[0m \u001b[0msurvivors\u001b[0m \u001b[0;34m=\u001b[0m \u001b[0mdfTitanic\u001b[0m\u001b[0;34m[\u001b[0m\u001b[0mdfTitanic\u001b[0m\u001b[0;34m[\u001b[0m\u001b[0;34m'Survived'\u001b[0m\u001b[0;34m]\u001b[0m \u001b[0;34m!=\u001b[0m \u001b[0;36m0\u001b[0m\u001b[0;34m]\u001b[0m\u001b[0;34m\u001b[0m\u001b[0;34m\u001b[0m\u001b[0m\n",
      "\u001b[0;31mNameError\u001b[0m: name 'plt' is not defined"
     ]
    }
   ],
   "source": [
    "bins = (0, 85, 5)\n",
    "\n",
    "\n",
    "fig, ax = plt.subplots(figsize = (16,4))\n",
    "\n",
    "survivors = dfTitanic[dfTitanic['Survived'] != 0]\n",
    "nonsurvivors = dfTitanic[dfTitanic['Survived'] != 1]\n",
    "nonsurvivors.hist(column = 'Age', ax=ax, bins = my_bins, edgecolor = 'white', color = 'coral', label = \"Did not survive\")\n",
    "survivors.hist(column = 'Age', ax=ax, bins = my_bins, edgecolor = 'white', color = 'seagreen', label = \"Did survive\")\n",
    "plt.legend(loc = 'upper right')\n",
    "\n",
    "ax.set_xlabel('Age', fontsize = 14)\n",
    "ax.set_ylabel('Number of people', fontsize = 14)\n",
    "ax.set_title('Age Distribution and survival on the Titanic')"
   ]
  },
  {
   "cell_type": "markdown",
   "metadata": {},
   "source": [
    "The most obvious trend we can see is the higher ratio of passengers who survived being younger than 30. This may as a result of them exhibiting a higher endurance of the sea if attempting to face it, or that they were able to muscle their way onto lifecraft more effectively. The elderly, say at ages 55 and above, also had good rates of survival, and this can perhaps be a result of younger passengers being more acommodating of this age group. The age groups that suffered the most were the middle ages, say 35 to 55, as they were maybe not accomodated for and were also not able to power their way to safety on the boats. "
   ]
  },
  {
   "cell_type": "markdown",
   "metadata": {},
   "source": [
    "**Part F:** In Part E, we plotted two *density* histograms, showing the distributions of ages of passengers that survived or did not survive the Titanic disaster. Why would it be misleading for us to have plotted these as *frequency* histograms instead?"
   ]
  },
  {
   "cell_type": "markdown",
   "metadata": {},
   "source": [
    "The frequency diagrams would have accounted for those who had survived alongside those who hadn't, so our data would overlap in a way that would not be very insightful and would lack the essence of what we would want to compare from the two sets - the number of passengers who survived and their age vs. those who did not and their age. "
   ]
  },
  {
   "cell_type": "markdown",
   "metadata": {},
   "source": [
    "**Part G**: Do the data suggest class warfare, male chivalry, or some combination of both characteristics in the final hours aboard the Titanic?  Justify your conclusion based on the computations done above, or do any other analysis that you like, but be sure to clearly justify your conclusion."
   ]
  },
  {
   "cell_type": "markdown",
   "metadata": {},
   "source": [
    "I think the data suggests a little bit of everything. On one hand, we see that women do have the highest rates of survival, and it is pretty safe to assume that male chivalry was shared amongst all classes. On the other hand, the second class seems to have the worst level of survivability, and this can maybe be a result of class warefare were the privilaged and prioritized first class passengers alongside the trodden but opportunistic third class passengers overhwelmed a class that was, for lack of a better term, in between them."
   ]
  },
  {
   "cell_type": "markdown",
   "metadata": {},
   "source": [
    "[Back to top](#top)\n",
    "<a/ id='p4'></a>\n",
    "\n",
    "## (25 pts) Problem 4 (Snowfall in Boulder)\n",
    "***\n",
    "\n",
    "The NOAA Earth System Research Laboratory (ESRL) Physical Sciences Division (PSD) conducts scientific research to observe, understand, model, predict, and forecast weather, water, and climate extremes and their impacts. They have a website with publicly available data. One such data set contains monthly snowfall for Boulder dating back to 1889 (https://www.esrl.noaa.gov/psd/boulder/bouldersnow.html). Load ‘Boulder_Snowfall.csv’ from the Canvas page. \n",
    "\n",
    "**Part A:** To start, we need to “clean” our data set. When the amount of snow was nonzero, but too small to be recorded, this data set recorded ‘T’. Replace those instances with zeros. AFTER, you've done that, remove any rows (which correspond to years) with missing data. As a check, if you've cleaned the file correctly, there should be 121 rows remaining. "
   ]
  },
  {
   "cell_type": "code",
   "execution_count": 15,
   "metadata": {},
   "outputs": [
    {
     "data": {
      "text/html": [
       "<div>\n",
       "<style scoped>\n",
       "    .dataframe tbody tr th:only-of-type {\n",
       "        vertical-align: middle;\n",
       "    }\n",
       "\n",
       "    .dataframe tbody tr th {\n",
       "        vertical-align: top;\n",
       "    }\n",
       "\n",
       "    .dataframe thead th {\n",
       "        text-align: right;\n",
       "    }\n",
       "</style>\n",
       "<table border=\"1\" class=\"dataframe\">\n",
       "  <thead>\n",
       "    <tr style=\"text-align: right;\">\n",
       "      <th></th>\n",
       "      <th>Year</th>\n",
       "      <th>Jan</th>\n",
       "      <th>Feb</th>\n",
       "      <th>Mar</th>\n",
       "      <th>Apr</th>\n",
       "      <th>May</th>\n",
       "      <th>Jun</th>\n",
       "      <th>Jul</th>\n",
       "      <th>Aug</th>\n",
       "      <th>Sep</th>\n",
       "      <th>Oct</th>\n",
       "      <th>Nov</th>\n",
       "      <th>Dec</th>\n",
       "      <th>Total Sep-Jun</th>\n",
       "      <th>Total Jan-Dec</th>\n",
       "    </tr>\n",
       "  </thead>\n",
       "  <tbody>\n",
       "    <tr>\n",
       "      <td>6</td>\n",
       "      <td>1898</td>\n",
       "      <td>7</td>\n",
       "      <td>4.2</td>\n",
       "      <td>7.5</td>\n",
       "      <td>8.2</td>\n",
       "      <td>13</td>\n",
       "      <td>0</td>\n",
       "      <td>0</td>\n",
       "      <td>0</td>\n",
       "      <td>1</td>\n",
       "      <td>5</td>\n",
       "      <td>23.5</td>\n",
       "      <td>18</td>\n",
       "      <td>63.1</td>\n",
       "      <td>87.4</td>\n",
       "    </tr>\n",
       "    <tr>\n",
       "      <td>7</td>\n",
       "      <td>1899</td>\n",
       "      <td>13</td>\n",
       "      <td>15.2</td>\n",
       "      <td>31</td>\n",
       "      <td>8</td>\n",
       "      <td>0</td>\n",
       "      <td>0</td>\n",
       "      <td>0</td>\n",
       "      <td>0</td>\n",
       "      <td>0</td>\n",
       "      <td>2</td>\n",
       "      <td>0</td>\n",
       "      <td>12.8</td>\n",
       "      <td>114.7</td>\n",
       "      <td>82</td>\n",
       "    </tr>\n",
       "    <tr>\n",
       "      <td>8</td>\n",
       "      <td>1900</td>\n",
       "      <td>4.5</td>\n",
       "      <td>14.8</td>\n",
       "      <td>6.8</td>\n",
       "      <td>20</td>\n",
       "      <td>0</td>\n",
       "      <td>0</td>\n",
       "      <td>0</td>\n",
       "      <td>0</td>\n",
       "      <td>0</td>\n",
       "      <td>0</td>\n",
       "      <td>3.1</td>\n",
       "      <td>9.2</td>\n",
       "      <td>60.9</td>\n",
       "      <td>58.4</td>\n",
       "    </tr>\n",
       "    <tr>\n",
       "      <td>9</td>\n",
       "      <td>1901</td>\n",
       "      <td>7.5</td>\n",
       "      <td>6.2</td>\n",
       "      <td>18.5</td>\n",
       "      <td>26</td>\n",
       "      <td>0</td>\n",
       "      <td>0</td>\n",
       "      <td>0</td>\n",
       "      <td>0</td>\n",
       "      <td>0</td>\n",
       "      <td>4</td>\n",
       "      <td>0</td>\n",
       "      <td>15</td>\n",
       "      <td>70.5</td>\n",
       "      <td>77.2</td>\n",
       "    </tr>\n",
       "    <tr>\n",
       "      <td>10</td>\n",
       "      <td>1902</td>\n",
       "      <td>7.2</td>\n",
       "      <td>6.5</td>\n",
       "      <td>9.5</td>\n",
       "      <td>3</td>\n",
       "      <td>0</td>\n",
       "      <td>0</td>\n",
       "      <td>0</td>\n",
       "      <td>0</td>\n",
       "      <td>0</td>\n",
       "      <td>0.5</td>\n",
       "      <td>8</td>\n",
       "      <td>17</td>\n",
       "      <td>45.2</td>\n",
       "      <td>51.7</td>\n",
       "    </tr>\n",
       "    <tr>\n",
       "      <td>...</td>\n",
       "      <td>...</td>\n",
       "      <td>...</td>\n",
       "      <td>...</td>\n",
       "      <td>...</td>\n",
       "      <td>...</td>\n",
       "      <td>...</td>\n",
       "      <td>...</td>\n",
       "      <td>...</td>\n",
       "      <td>...</td>\n",
       "      <td>...</td>\n",
       "      <td>...</td>\n",
       "      <td>...</td>\n",
       "      <td>...</td>\n",
       "      <td>...</td>\n",
       "      <td>...</td>\n",
       "    </tr>\n",
       "    <tr>\n",
       "      <td>123</td>\n",
       "      <td>2015</td>\n",
       "      <td>6</td>\n",
       "      <td>54.6</td>\n",
       "      <td>8</td>\n",
       "      <td>7.4</td>\n",
       "      <td>3.9</td>\n",
       "      <td>0</td>\n",
       "      <td>0</td>\n",
       "      <td>0</td>\n",
       "      <td>0</td>\n",
       "      <td>0</td>\n",
       "      <td>11.5</td>\n",
       "      <td>17.4</td>\n",
       "      <td>28.9</td>\n",
       "      <td>108.8</td>\n",
       "    </tr>\n",
       "    <tr>\n",
       "      <td>124</td>\n",
       "      <td>2016</td>\n",
       "      <td>4.1</td>\n",
       "      <td>21.8</td>\n",
       "      <td>32.5</td>\n",
       "      <td>21.4</td>\n",
       "      <td>1</td>\n",
       "      <td>0</td>\n",
       "      <td>0</td>\n",
       "      <td>0</td>\n",
       "      <td>0</td>\n",
       "      <td>0</td>\n",
       "      <td>4.4</td>\n",
       "      <td>13</td>\n",
       "      <td>109.7</td>\n",
       "      <td>98.2</td>\n",
       "    </tr>\n",
       "    <tr>\n",
       "      <td>125</td>\n",
       "      <td>2017</td>\n",
       "      <td>18.7</td>\n",
       "      <td>9.9</td>\n",
       "      <td>0</td>\n",
       "      <td>19.4</td>\n",
       "      <td>6.1</td>\n",
       "      <td>0</td>\n",
       "      <td>0</td>\n",
       "      <td>0</td>\n",
       "      <td>0</td>\n",
       "      <td>8</td>\n",
       "      <td>4.1</td>\n",
       "      <td>10.2</td>\n",
       "      <td>71.5</td>\n",
       "      <td>76.4</td>\n",
       "    </tr>\n",
       "    <tr>\n",
       "      <td>126</td>\n",
       "      <td>2018</td>\n",
       "      <td>8.8</td>\n",
       "      <td>18.5</td>\n",
       "      <td>6.8</td>\n",
       "      <td>6</td>\n",
       "      <td>0</td>\n",
       "      <td>0</td>\n",
       "      <td>0</td>\n",
       "      <td>0</td>\n",
       "      <td>0</td>\n",
       "      <td>10.1</td>\n",
       "      <td>16.4</td>\n",
       "      <td>5.7</td>\n",
       "      <td>32.2</td>\n",
       "      <td>72.4</td>\n",
       "    </tr>\n",
       "    <tr>\n",
       "      <td>127</td>\n",
       "      <td>2019</td>\n",
       "      <td>14.5</td>\n",
       "      <td>14.6</td>\n",
       "      <td>16.2</td>\n",
       "      <td>10.2</td>\n",
       "      <td>7.4</td>\n",
       "      <td>0</td>\n",
       "      <td>0</td>\n",
       "      <td>0</td>\n",
       "      <td>0</td>\n",
       "      <td>26.4</td>\n",
       "      <td>29.5</td>\n",
       "      <td>3.4</td>\n",
       "      <td>59.3</td>\n",
       "      <td>122.2</td>\n",
       "    </tr>\n",
       "  </tbody>\n",
       "</table>\n",
       "<p>121 rows × 15 columns</p>\n",
       "</div>"
      ],
      "text/plain": [
       "     Year   Jan   Feb   Mar   Apr  May Jun Jul Aug Sep   Oct   Nov   Dec  \\\n",
       "6    1898     7   4.2   7.5   8.2   13   0   0   0   1     5  23.5    18   \n",
       "7    1899    13  15.2    31     8    0   0   0   0   0     2     0  12.8   \n",
       "8    1900   4.5  14.8   6.8    20    0   0   0   0   0     0   3.1   9.2   \n",
       "9    1901   7.5   6.2  18.5    26    0   0   0   0   0     4     0    15   \n",
       "10   1902   7.2   6.5   9.5     3    0   0   0   0   0   0.5     8    17   \n",
       "..    ...   ...   ...   ...   ...  ...  ..  ..  ..  ..   ...   ...   ...   \n",
       "123  2015     6  54.6     8   7.4  3.9   0   0   0   0     0  11.5  17.4   \n",
       "124  2016   4.1  21.8  32.5  21.4    1   0   0   0   0     0   4.4    13   \n",
       "125  2017  18.7   9.9     0  19.4  6.1   0   0   0   0     8   4.1  10.2   \n",
       "126  2018   8.8  18.5   6.8     6    0   0   0   0   0  10.1  16.4   5.7   \n",
       "127  2019  14.5  14.6  16.2  10.2  7.4   0   0   0   0  26.4  29.5   3.4   \n",
       "\n",
       "    Total Sep-Jun Total Jan-Dec  \n",
       "6            63.1          87.4  \n",
       "7           114.7            82  \n",
       "8            60.9          58.4  \n",
       "9            70.5          77.2  \n",
       "10           45.2          51.7  \n",
       "..            ...           ...  \n",
       "123          28.9         108.8  \n",
       "124         109.7          98.2  \n",
       "125          71.5          76.4  \n",
       "126          32.2          72.4  \n",
       "127          59.3         122.2  \n",
       "\n",
       "[121 rows x 15 columns]"
      ]
     },
     "execution_count": 15,
     "metadata": {},
     "output_type": "execute_result"
    }
   ],
   "source": [
    "file_path = '/Users/sahandsetareh/Spring 2020/CSCI 3022/Data/Boulder_Snowfall.csv'\n",
    "df = pd.read_csv(file_path)\n",
    "df = df.replace(['T'], [0])\n",
    "df = df.replace(['T\\xa0'], [0])\n",
    "df = df.replace(['.\\xa0'],[np.nan])\n",
    "df = df.dropna()\n",
    "df"
   ]
  },
  {
   "cell_type": "markdown",
   "metadata": {},
   "source": [
    "**Part B:** Plot the last column of data, “Total Jan-Dec”, from the cleaned data set. Label your axes. Do you observe any trends? Discuss.\n",
    "\n",
    "[Note: Make sure that your x-axis tick labels are in years and are readable. You may have to play around with formatting the ticklabels. plt.MaxNLocator might be helpful depending on how you plotted your data.] "
   ]
  },
  {
   "cell_type": "code",
   "execution_count": 16,
   "metadata": {},
   "outputs": [
    {
     "data": {
      "image/png": "[encoded data removed]",
      "text/plain": [
       "<Figure size 1152x576 with 1 Axes>"
      ]
     },
     "metadata": {
      "needs_background": "light"
     },
     "output_type": "display_data"
    }
   ],
   "source": [
    "df = df.apply(pd.to_numeric)\n",
    "ax = df.plot(figsize = (16, 8), x = 'Year', y = 'Total Jan-Dec', legend = False, color = 'steelblue')\n",
    "ax.set_ylabel('Snowfall (inches)', fontsize = 18)\n",
    "ax.set_xlabel('Year', fontsize = 18)\n",
    "plt.title('Boulder Snowfall Totals from 1898 - 2019 (Jan - Dec)', fontsize = 18)\n",
    "plt.show()"
   ]
  },
  {
   "cell_type": "markdown",
   "metadata": {},
   "source": [
    "**Part C:** Using your cleaned data set, create a histogram of the yearly snowfall. Bin your data with a bin-width of 5 inches, starting at 35 inches. Make the edgecolor of your graph white. What is the most common amount of snow to get in a year? How does this compare with how much snow we got in 2019? "
   ]
  },
  {
   "cell_type": "code",
   "execution_count": 17,
   "metadata": {
    "scrolled": false
   },
   "outputs": [
    {
     "data": {
      "text/plain": [
       "Text(0.5, 1.0, 'Yearly Boulder Snowfall from 1898 to 2020')"
      ]
     },
     "execution_count": 17,
     "metadata": {},
     "output_type": "execute_result"
    },
    {
     "data": {
      "image/png": "[encoded data removed]",
      "text/plain": [
       "<Figure size 1440x432 with 1 Axes>"
      ]
     },
     "metadata": {
      "needs_background": "light"
     },
     "output_type": "display_data"
    }
   ],
   "source": [
    "my_bins = range(35,170,5)\n",
    "fig, x = plt.subplots(figsize = (20,6))\n",
    "\n",
    "plt.hist(x = df['Total Jan-Dec'], bins = my_bins, color = 'steelblue', edgecolor = 'white')\n",
    "x.set_xlabel('Snowfall (inches)', fontsize = 16)\n",
    "x.set_ylabel('Frequency', fontsize = 16)\n",
    "x.set_title('Yearly Boulder Snowfall from 1898 to 2020', fontsize = 20)"
   ]
  },
  {
   "cell_type": "markdown",
   "metadata": {},
   "source": [
    "The most common amount of snow to get in a year was anywhere between 75 to 80 inches. Compared to the snowfall totals for 2019, which were at 122.2, we can see that Boulder recieved a much higher amount of snow last year than what is typically the most frequent amount of snowfall. "
   ]
  },
  {
   "cell_type": "markdown",
   "metadata": {},
   "source": [
    "**Part D:** Generate a series of 12 box plots to represent each decade starting in 1900, using your cleaned data set. Orient the box plots so that the decades (‘1900-1909’, ‘1910-1919’, … , ‘2010-2019’) appear along the x-axis, and the y-axis shows the amount of snowfall. Have all 12 boxplots as part of one graph. Include appropriate labels to your axes and a title, so that if someone not in our class were to look at your plots, they would understand what they were looking at. \n",
    "\n",
    "[Note: Data from the year 2004 was dropped during the initial cleaning of the data set (or should have been). Keep this in mind when plotting data from the 2000-2009 decade.]"
   ]
  },
  {
   "cell_type": "code",
   "execution_count": null,
   "metadata": {
    "scrolled": false
   },
   "outputs": [],
   "source": [
    "array = df[['Total Jan-Dec']].to_numpy()\n",
    "decade_1 = array[3:11]\n",
    "decade_2 = array[11:21]\n",
    "decade_3 = array[21:31]\n",
    "decade_4 = array[31:41]\n",
    "decade_5 = array[41:51]\n",
    "decade_6 = array[51:61]\n",
    "decade_7 = array[61:71]\n",
    "decade_8 = array[71:81]\n",
    "decade_9 = array[81:91]\n",
    "decade_10 = array[91:101]\n",
    "decade_11 = array[101:111]\n",
    "decade_12 = array[111:121]\n",
    "\n",
    "decade = {'1900-1909' : decade_1,\n",
    "          '1910-1919' : decade_2, \n",
    "          '1920-1929' : decade_3,\n",
    "          '1930-1939' : decade_4,\n",
    "          '1940-1949' : decade_5, \n",
    "          '1950-1959' : decade_6, \n",
    "          '1960-1969' : decade_7, \n",
    "          '1970-1979' : decade_8, \n",
    "          '1980-1989' : decade_9,\n",
    "          '1990-1999' : decade_10, \n",
    "          '2000-2009' : decade_11,\n",
    "          '2010-2019' : decade_12 }\n",
    "fig, ax = plt.subplots(figsize = (18,8))\n",
    "plot = ax.boxplot(decade.values())\n",
    "ax.set_xticklabels(decade.keys())\n",
    "ax.set_xlabel('Decade', fontsize = 16)\n",
    "ax.set_ylabel('Snowfall (inches)', fontsize = 16)\n",
    "ax.set_title('Boulder Snowfall per decade', fontsize = 16)\n",
    "\n",
    "for box in plot['boxes']:\n",
    "    box.set(color = 'black', linewidth = 2)\n",
    "    \n",
    "for whisker in plot['whiskers']:\n",
    "    whisker.set(color = 'black', linewidth = 2)\n",
    "    \n",
    "for cap in plot['caps']:\n",
    "    cap.set(color = 'black', linewidth = 2)\n",
    "    \n",
    "for cap in plot['medians']:\n",
    "    cap.set(color = 'black', linewidth = 2, alpha = 0.5)\n",
    "     \n",
    "for flier in plot['fliers']:\n",
    "    flier.set(markerfacecolor = 'steelblue', linewidth = 2, marker = 's', markersize = 6, alpha = 0.5)"
   ]
  },
  {
   "cell_type": "markdown",
   "metadata": {},
   "source": [
    "\n",
    "**Part E:** It’s almost February, so let’s study snowfall in Boulder, in February. Compute the mean February snowfall using your cleaned data set. Next calculate the Tukey 5-number summary for the February snowfall data. Lastly, generate a boxplot for the February snowfall. "
   ]
  },
  {
   "cell_type": "code",
   "execution_count": null,
   "metadata": {
    "scrolled": false
   },
   "outputs": [],
   "source": [
    "february_snowfall = df[['Year', 'Feb']]\n",
    "print(\"Average Snowfall in February: \" + str(february_snowfall['Feb'].mean()) + \" inches\")\n",
    "print()\n",
    "print('Tukey 5-number summary for February Snowfall data:')\n",
    "print( str(february_snowfall['Feb'].describe()[['min', '25%', '50%', '75%', 'max']]))\n",
    "\n",
    "fig, ax = plt.subplots(figsize = (8, 8))\n",
    "feb_bp = ax.boxplot(february_snowfall['Feb'])\n",
    "ax.set_xticklabels(february_snowfall.keys())\n",
    "plt.tick_params(bottom = False, labelbottom = False)\n",
    "ax.set_ylabel('Snowfall (inches)', fontsize = 14)\n",
    "ax.set_title('February Snowfall in Boulder 1898-2019', fontsize = 14)\n",
    "\n",
    "for box in feb_bp['boxes']:\n",
    "    box.set(color = 'black', linewidth = 3)\n",
    "    \n",
    "for whisker in feb_bp['whiskers']:\n",
    "    whisker.set(color = 'black', linewidth = 3)\n",
    "    \n",
    "for cap in feb_bp['caps']:\n",
    "    cap.set(color = 'black', linewidth = 3)\n",
    "    \n",
    "for cap in feb_bp['medians']:\n",
    "    cap.set(color='blue', linewidth = 3, alpha = 0.5)\n",
    "     \n",
    "for flier in feb_bp['fliers']:\n",
    "    flier.set(markerfacecolor = 'blue', linewidth = 3, marker = 's', markersize = 6, alpha = 0.5)"
   ]
  },
  {
   "cell_type": "markdown",
   "metadata": {},
   "source": [
    "**Part F:** Plot all of the February snowfall with a line plot, using your cleaned data set. How many inches of snow do you predict we will get this February in Boulder? Once February is over, we’ll see who was the closest!"
   ]
  },
  {
   "cell_type": "code",
   "execution_count": null,
   "metadata": {},
   "outputs": [],
   "source": [
    "fig, ax = plt.subplots(figsize = (16,6))\n",
    "scatter = february_snowfall.plot(x = 'Year', y = 'Feb', ax=ax, color = 'steelblue', legend = False, fontsize = 12)\n",
    "ax.set_xlabel('Year',fontsize = 16)\n",
    "ax.set_ylabel('Snowfall (inches)',fontsize = 16)\n",
    "ax.set_title('February Snowfall in Boulder, 1898-2019',fontsize = 16)"
   ]
  },
  {
   "cell_type": "markdown",
   "metadata": {},
   "source": [
    "I predict a total February snowfall of 22.5 inches!"
   ]
  },
  {
   "cell_type": "markdown",
   "metadata": {},
   "source": [
    "[Back to top](#top)\n",
    "<a/ id='p5'></a>\n",
    "\n",
    "## (15 pts) Problem 5\n",
    "***\n",
    "Consider the following 3 data sets:\n",
    "\n",
    "`A=[8, 6, 7, 5, 3, 0, 9]`\n",
    "\n",
    "`B=[2, 29, 84, 2, 10, 69, 3, 31, 18]`\n",
    "\n",
    "`C` is the random data set generated by using `np.random.randint(0,1000, size=100)`\n",
    "\n",
    "For each data set, perform the following computations:\n",
    "\n",
    "**Part A:** Compute and print the mean and standard deviation of the data set. You may use built-in python functions."
   ]
  },
  {
   "cell_type": "code",
   "execution_count": null,
   "metadata": {},
   "outputs": [],
   "source": [
    "# Data set A\n",
    "a = [8, 6, 7, 5, 3, 0, 9]\n",
    "a_mean = np.mean(a)\n",
    "a_std = np.std(a)\n",
    "\n",
    "# Data set B \n",
    "b = [2, 29, 84, 2, 10, 69, 3, 31, 18]\n",
    "b_mean = np.mean(b)\n",
    "b_std = np.std(b)\n",
    "\n",
    "# Data set C\n",
    "c = np.random.randint(0,1000, size=100)\n",
    "c_mean = np.mean(c)\n",
    "c_std = np.std(c)\n",
    "\n",
    "# Printing results\n",
    "print(\"Mean of data set A: \" + str(a_mean))\n",
    "print(\"Standard deviation of set A: \" + str(a_std))\n",
    "print(\"Mean of data set B: \" + str(b_mean))\n",
    "print(\"Standard deviation of set B: \" + str(b_std))\n",
    "print(\"Mean of data set C: \" + str(c_mean))\n",
    "print(\"Standard deviation of set C: \" + str(c_std))"
   ]
  },
  {
   "cell_type": "markdown",
   "metadata": {},
   "source": [
    "**Part B:** Compute and print  the mean and standard deviation of the new data set formed by subtracting the original mean from each observation."
   ]
  },
  {
   "cell_type": "code",
   "execution_count": null,
   "metadata": {},
   "outputs": [],
   "source": [
    "# Data set A\n",
    "a = [8, 6, 7, 5, 3, 0, 9]\n",
    "a_mean = np.mean(a)\n",
    "\n",
    "a = np.subtract(a, a_mean)\n",
    "a_mean = np.mean(a)\n",
    "a_std = np.std(a)\n",
    "\n",
    "# Data set B \n",
    "b = [2, 29, 84, 2, 10, 69, 3, 31, 18]\n",
    "b_mean = np.mean(b)\n",
    "\n",
    "b = np.subtract(b, b_mean)\n",
    "b_mean = np.mean(b)\n",
    "b_std = np.std(b)\n",
    "\n",
    "\n",
    "# Data set C\n",
    "c = np.random.randint(0,1000, size=100)\n",
    "c_mean = np.mean(c)\n",
    "\n",
    "c = np.subtract(c, c_mean)\n",
    "c_mean = np.mean(c)\n",
    "c_std = np.std(c)\n",
    "\n",
    "# Printing results\n",
    "print(\"New Mean of data set A: \" + str(a_mean))\n",
    "print(\"New Standard deviation of set A: \" + str(a_std))\n",
    "print(\"New Mean of data set B: \" + str(b_mean))\n",
    "print(\"New Standard deviation of set B: \" + str(b_std))\n",
    "print(\"New Mean of data set C: \" + str(c_mean))\n",
    "print(\"New Standard deviation of set C: \" + str(c_std))"
   ]
  },
  {
   "cell_type": "markdown",
   "metadata": {},
   "source": [
    "**Part C:** Compute and print  the mean and standard deviation of the new data set formed by subtracting the original mean from each observation and then dividing by the original standard deviation."
   ]
  },
  {
   "cell_type": "code",
   "execution_count": null,
   "metadata": {},
   "outputs": [],
   "source": [
    "# Data set A\n",
    "a = [8, 6, 7, 5, 3, 0, 9]\n",
    "a_mean = np.mean(a)\n",
    "a_std = np.std(a)\n",
    "\n",
    "a = np.subtract(a, a_mean)\n",
    "a = np.divide(a, a_std)\n",
    "\n",
    "a_mean = np.mean(a)\n",
    "a_std = np.std(a)\n",
    "\n",
    "# Data set B \n",
    "b = [2, 29, 84, 2, 10, 69, 3, 31, 18]\n",
    "b_mean = np.mean(b)\n",
    "b_std = np.std(b)\n",
    "\n",
    "b = np.subtract(b, b_mean)\n",
    "b = np.divide(b, b_std)\n",
    "\n",
    "b_mean = np.mean(b)\n",
    "b_std = np.std(b)\n",
    "\n",
    "\n",
    "# Data set C\n",
    "c = np.random.randint(0,1000, size=100)\n",
    "c_mean = np.mean(c)\n",
    "c_std = np.std(c)\n",
    "\n",
    "c = np.subtract(c, c_mean)\n",
    "c = np.divide(c, c_std)\n",
    "\n",
    "c_mean = np.mean(c)\n",
    "c_std = np.std(c)\n",
    "\n",
    "# Printing results\n",
    "print(\"New Mean of data set A: \" + str(a_mean))\n",
    "print(\"New Standard deviation of set A: \" + str(a_std))\n",
    "print(\"New Mean of data set B: \" + str(b_mean))\n",
    "print(\"New Standard deviation of set B: \" + str(b_std))\n",
    "print(\"New Mean of data set C: \" + str(c_mean))\n",
    "print(\"New Standard deviation of set C: \" + str(c_std))"
   ]
  },
  {
   "cell_type": "markdown",
   "metadata": {},
   "source": [
    "**Part D:** Why might this result matter?"
   ]
  },
  {
   "cell_type": "markdown",
   "metadata": {},
   "source": [
    "This result is effective at making the numeric representation of the mean among the different data sets comparable with one another. Where before the numbers could vary wildly and result in differing numbers representing the mean and standard deviation, through the process outlined above we can put these numbers in context of eachother and compare how their data behaves respective to their own data sets. "
   ]
  }
 ],
 "metadata": {
  "kernelspec": {
   "display_name": "Python 3",
   "language": "python",
   "name": "python3"
  },
  "language_info": {
   "codemirror_mode": {
    "name": "ipython",
    "version": 3
   },
   "file_extension": ".py",
   "mimetype": "text/x-python",
   "name": "python",
   "nbconvert_exporter": "python",
   "pygments_lexer": "ipython3",
   "version": "3.7.4"
  }
 },
 "nbformat": 4,
 "nbformat_minor": 2
}
