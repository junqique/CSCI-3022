{
 "cells": [
  {
   "cell_type": "markdown",
   "metadata": {},
   "source": [
    "<a id='top'></a>\n",
    "\n",
    "# Homework 1: Data Cleaning and Exploratory Data Analysis \n",
    "***\n",
    "\n",
    "**Name**: CSCI 3022 Solutions\n",
    "\n",
    "***\n",
    "\n",
    "This assignment is due on Canvas by **5 PM on Friday January 31**. Your solutions to theoretical questions should be done in Markdown directly below the associated question.  Your solutions to computational questions should include any specified Python code and results as well as written commentary on your conclusions.  Remember that you are encouraged to discuss the problems with your classmates, but **you must write all code and solutions on your own**.\n",
    "\n",
    "**NOTES**: \n",
    "\n",
    "- Any relevant data sets should be available under the **Data** module on Canvas. To make life easier on the graders if they need to run your code, do not change the relative path names here. Instead, move the files around on your computer.\n",
    "- If you're not familiar with typesetting math directly into Markdown then by all means, do your work on paper first and then typeset it later.  Remember that there is a [reference guide](https://math.meta.stackexchange.com/questions/5020/mathjax-basic-tutorial-and-quick-reference) linked on Canvas on writing math in Markdown. **All** of your written commentary, justifications and mathematical work should be in Markdown.\n",
    "- Because you can technically evaluate notebook cells is a non-linear order, it's a good idea to do Kernel $\\rightarrow$ Restart & Run All as a check before submitting your solutions.  That way if we need to run your code you will know that it will work as expected. \n",
    "- It is **bad form** to make your reader interpret numerical output from your code.  If a question asks you to compute some value from the data you should show your code output **AND** write a summary of the results in Markdown directly below your code. \n",
    "- This probably goes without saying, but... For any question that asks you to calculate something, you **must show all work and justify your answers to receive credit**. Sparse or nonexistent work will receive sparse or nonexistent credit. \n",
    "\n",
    "---\n",
    "**Shortcuts:**  [Problem 1](#p1) | [Problem 2](#p2) | [Problem 3](#p3) | [Problem 4](#p4) | [Problem 5](#p5) \n",
    "\n",
    "---"
   ]
  },
  {
   "cell_type": "code",
   "execution_count": 1,
   "metadata": {},
   "outputs": [],
   "source": [
    "import pandas as pd\n",
    "import numpy as np\n",
    "import matplotlib.pylab as plt\n",
    "%matplotlib inline"
   ]
  },
  {
   "cell_type": "markdown",
   "metadata": {},
   "source": [
    "[Back to top](#top)\n",
    "\n",
    "<br>\n",
    "\n",
    "<a/ id='p1'></a>\n",
    "\n",
    "### (10 points) Problem 1\n",
    "***\n",
    "\n",
    "<img style=\"float: left; width: 200px; padding: 3mm;\" src=\"https://aquarium.org/wp-content/uploads/2015/08/Seahorse-female.jpg\" alt=\"Drawing\"/>  \n",
    "Poseidon is studying seahorses. Locations in each of the Atlantic, Pacific, Indian, Artic, and Southern Oceans are chosen to catch and release seahorses. After being caught, the seahorses are monitored for 24 hours while being fed organic, free-range plankton. The amount of plankton that each seahorse eats is recorded in an app on Poseidon’s phone, called Hippocampus. He collects 6 seahorses from the Arctic Ocean, 36 seahorses from the Pacific Ocean, 12 seahorses from the Indian Ocean, 6 seahorses from the Southern Ocean, and 42 seahorses from the Atlantic Ocean. \n",
    "\n",
    "Poseidon wants to get a sense for the average amount of plankton eaten by seahorses, so he uses the Hippcampus app to first order the seahorses in terms of when each seahorse was caught (first caught to last caught). Then, he selects every 3rd seahorse to see how much plankton was eaten.\n",
    "\n",
    "$$ \\quad $$\n",
    "    \n",
    "**Part A:** Identify the following: \n",
    "\n",
    "- the population \n",
    "- the sample frame \n",
    "- the sample \n",
    "- the type of sample \n",
    "- the quantity of interest"
   ]
  },
  {
   "cell_type": "markdown",
   "metadata": {},
   "source": [
    "***\n",
    "**Solution**:\n",
    "- the **Population**: All seahorses\n",
    "\n",
    "\n",
    "- the **Sample Frame**: The Hippocampus App with the data from the 6 seahorses collected in the Arctic Ocean, 36 seahorses collected in the Pacific Ocean, 12 seahorses collected in the Indian Ocean, 6 seahorses collected in the Southern Ocean, and 42 seahorses collected in the Atlantic Ocean\n",
    "\n",
    "\n",
    "- the **Sample**: 1 seahorse from the Arctic Ocean, 6 seahorses from the Pacific Ocean, 2 seahorses from the Indian Ocean, 1 seahorse from the Southern Ocean, and 7 seahorses from the Atlantic Ocean\n",
    "\n",
    "\n",
    "- the **Type of Sample**: Systematic sample\n",
    "\n",
    "\n",
    "- the **Quantity of Interest**: Average amount of plankton eaten by seahorses\n",
    "***"
   ]
  },
  {
   "cell_type": "markdown",
   "metadata": {},
   "source": [
    "[Back to top](#top)\n",
    "\n",
    "<br>\n",
    "\n",
    "<a/ id='p2'></a>\n",
    "\n",
    "### (25 points) Problem 2\n",
    "***\n",
    "\n",
    "A method to investigate the sensitivity of the sample mean and sample median to extreme outliers and changes in the dataset is to replace one or more elements in a given dataset by a number $y$ and investigate the effect when $y$ changes. To illustrate this, consider the following dataset:\n",
    " \n",
    "$$  4.3 \\quad 5.2 \\quad 5.0 \\quad 3.8 \\quad 4.1 \\quad 5.5 \\quad 1.9 $$\n",
    "\n",
    "\n"
   ]
  },
  {
   "cell_type": "markdown",
   "metadata": {},
   "source": [
    "**Part A:** Compute the sample mean and sample median. Do not use the canned mean and median python functions. Write your own code to compute these quantities. You may use the python length and sort functions, but that is it."
   ]
  },
  {
   "cell_type": "code",
   "execution_count": 2,
   "metadata": {},
   "outputs": [
    {
     "name": "stdout",
     "output_type": "stream",
     "text": [
      "The mean of the given data set is:  4.257142857142857\n",
      "The median of the given data set is:  4.3\n"
     ]
    }
   ],
   "source": [
    "values = [4.3, 5.2, 5.0, 3.8, 4.1, 5.5, 1.9]\n",
    "  \n",
    "# here we compute the mean\n",
    "sum_values = 0\n",
    "for a in values:\n",
    "    sum_values += a\n",
    "mean = sum_values/len(values)\n",
    "\n",
    "# next we compute the median\n",
    "values.sort()\n",
    "if len(values)%2 == 0:\n",
    "    median = (values[len(values)//2]+values[(len(values)//2)-1])/2\n",
    "else:\n",
    "    median = values[len(values)//2]\n",
    "    \n",
    "print(\"The mean of the given data set is: \", mean)\n",
    "print(\"The median of the given data set is: \", median)"
   ]
  },
  {
   "cell_type": "markdown",
   "metadata": {},
   "source": [
    "**Part B:** Now, recompute the mean and the median using the python numpy functions. Compare your answers to what you computed in Part A. Do your answer match? (Hint: They should!)"
   ]
  },
  {
   "cell_type": "code",
   "execution_count": 3,
   "metadata": {},
   "outputs": [
    {
     "name": "stdout",
     "output_type": "stream",
     "text": [
      "The mean of the given data set is:  4.257142857142857\n",
      "The median of the given data set is:  4.3\n"
     ]
    }
   ],
   "source": [
    "# Computation of the mean\n",
    "mean2 = np.mean(values)\n",
    "\n",
    "# Computation of the median\n",
    "median2 = np.median(values)\n",
    "\n",
    "print(\"The mean of the given data set is: \", mean2)\n",
    "print(\"The median of the given data set is: \", median2)"
   ]
  },
  {
   "cell_type": "markdown",
   "metadata": {},
   "source": [
    "Our answer match, phew. And aren't the built in functions nice!"
   ]
  },
  {
   "cell_type": "markdown",
   "metadata": {},
   "source": [
    "**Part C:** Now consider the following data set. \n",
    "$$  4.3 \\quad 5.2 \\quad 5.0 \\quad 3.8 \\quad 4.1 \\quad 5.5 \\quad 1.9 \\quad y$$\n",
    "\n",
    "Is there a value for $y$ that would make the mean of the data equal to 7? If so, calculate the value of $y$ that makes the mean equal to 7. If not, clearly explain why not.\n",
    "    \n",
    "Is there a value for $y$ that would make the median of the data equal to 7? If so, calculate the values of $y$ that makes the median equal to 7. If not, clearly explain why not."
   ]
  },
  {
   "cell_type": "markdown",
   "metadata": {},
   "source": [
    "***\n",
    "**Solution**\n",
    "There is a value for $y$ that makes the mean equal to 7. This value for $y$ is calculated below. It is possible to vary $y$ so that $\\bar{x}_{desired}$ can be any real number.\n",
    "\n",
    "$$ \\bar{x}_{desired} = \\frac{y+ \\sum \\text{rest of list}}{N} $$\n",
    "where N is the number of elements in the data list including $y$. Then $y = N \\cdot \\bar{x}_{desired} - \\sum \\text{rest of list} $. You can let $\\bar{x}_{desired}$ be any real number and calculate $y$ accordingly."
   ]
  },
  {
   "cell_type": "code",
   "execution_count": 4,
   "metadata": {},
   "outputs": [
    {
     "name": "stdout",
     "output_type": "stream",
     "text": [
      "The number that will make the mean equal to 7 is:  26.200000000000003\n"
     ]
    }
   ],
   "source": [
    "values = [4.3, 5.2, 5.0, 3.8, 4.1, 5.5, 1.9]\n",
    "sumVals = np.sum(values)\n",
    "N = len(values)+1\n",
    "\n",
    "print(\"The number that will make the mean equal to 7 is: \", (7*N - (sumVals)))"
   ]
  },
  {
   "cell_type": "markdown",
   "metadata": {},
   "source": [
    "There is **not** however a value for $y$ that will make the median equal to 7. Note the ordered list of data values excluding $y$ below."
   ]
  },
  {
   "cell_type": "code",
   "execution_count": 5,
   "metadata": {},
   "outputs": [
    {
     "name": "stdout",
     "output_type": "stream",
     "text": [
      "The sorted data values excluding y are: [1.9 3.8 4.1 4.3 5.  5.2 5.5]\n"
     ]
    }
   ],
   "source": [
    "print(\"The sorted data values excluding y are:\",np.sort(values))"
   ]
  },
  {
   "cell_type": "markdown",
   "metadata": {},
   "source": [
    "The middle data value is 4.3. If we add a number $y$ such that $4.1 \\leq y \\leq 4.3$, then the median will be an average of $y$ and 4.3, such that $4.1 \\leq \\tilde{x} \\leq 4.3$. \n",
    "\n",
    "Likewise, if we add a number $y$ such that $4.3 \\leq y \\leq 5.0$, the median will be the average of $y$ and 4.3, this time ranging in values from $4.3 \\leq \\tilde{x} \\leq 5.0 $.\n",
    "\n",
    "If we add $y< 4.1$, then $\\tilde{x} = \\frac{4.1+4.3}{2} = 4.2$. \n",
    "\n",
    "And if we add $y > 5.0$, then $\\tilde{x} = \\frac{4.3+5.0}{2} = 4.65$.\n",
    "\n",
    "Thus, the median, $\\tilde{x}$ can never equal 7."
   ]
  },
  {
   "cell_type": "markdown",
   "metadata": {},
   "source": [
    "**Part D**: Compute the sample variance and the sample standard deviation for the original dataset given in part A using the formulas given in class. You may not use the built-in python variance, standard deviation, or sum functions. Using the length and square root functions is fine."
   ]
  },
  {
   "cell_type": "code",
   "execution_count": 6,
   "metadata": {},
   "outputs": [
    {
     "name": "stdout",
     "output_type": "stream",
     "text": [
      "The sample variance is: 1.4628571428571433\n",
      "The sample standard deviation is: 1.2094863136295273\n"
     ]
    }
   ],
   "source": [
    "# compute sample variance and standard deviation\n",
    "sum_of_squares = 0\n",
    "for a in values:\n",
    "    sum_of_squares += (a-mean2)**2\n",
    "\n",
    "sample_variance = sum_of_squares/(len(values)-1)\n",
    "\n",
    "print(\"The sample variance is:\", sample_variance)\n",
    "print(\"The sample standard deviation is:\", np.sqrt(sample_variance))"
   ]
  },
  {
   "cell_type": "markdown",
   "metadata": {},
   "source": [
    "**Part E:** Execute the following code. Does it match what you computed in part D? Why or why not? If not, how can you correct the code below?"
   ]
  },
  {
   "cell_type": "code",
   "execution_count": 7,
   "metadata": {},
   "outputs": [
    {
     "name": "stdout",
     "output_type": "stream",
     "text": [
      "The sample variance is:  1.2538775510204085\n",
      "the std dev is:  1.1197667395580244\n"
     ]
    }
   ],
   "source": [
    "dataset = [4.3, 5.2, 5.0, 3.8, 4.1, 5.5, 1.9]\n",
    "print(\"The sample variance is: \", np.var(dataset))\n",
    "print(\"the std dev is: \", np.std(dataset))"
   ]
  },
  {
   "cell_type": "markdown",
   "metadata": {},
   "source": [
    "These are not the same values. The numpy variance and standard deviation functions have a default of using \"ddof=0\" which in our case corresponds to dividing by n. We need to divide by n-1 according to our formulas from class. We can correct the incorrect code here by adding in \"ddof=1\"."
   ]
  },
  {
   "cell_type": "code",
   "execution_count": 8,
   "metadata": {},
   "outputs": [
    {
     "name": "stdout",
     "output_type": "stream",
     "text": [
      "The sample variance is:  1.4628571428571433\n",
      "the std dev is:  1.2094863136295273\n"
     ]
    }
   ],
   "source": [
    "print(\"The sample variance is: \", np.var(dataset, ddof=1))\n",
    "print(\"the std dev is: \", np.std(dataset, ddof=1))\n"
   ]
  },
  {
   "cell_type": "markdown",
   "metadata": {},
   "source": [
    "**Part F**: Again consider the data set from Part C: $$  4.3 \\quad 5.2 \\quad 5.0 \\quad 3.8 \\quad 4.1 \\quad 5.5 \\quad 1.9 \\quad y$$\n",
    "\n",
    "Compute the sample median for the following cases (you may use whatever built-in python functions you'd like): \n",
    "- $y=5$ \n",
    "- $y=50$ \n",
    "- $y=4.36$ \n",
    "- $y \\to \\infty$ \n",
    "- $y \\to -\\infty$"
   ]
  },
  {
   "cell_type": "code",
   "execution_count": 9,
   "metadata": {},
   "outputs": [
    {
     "name": "stdout",
     "output_type": "stream",
     "text": [
      "When y is 5, the median is 4.65\n",
      "When y is 50, the median is 4.65\n",
      "When y is 4.36, the median is 4.33\n",
      "When y is inf, the median is 4.65\n",
      "When y is -inf, the median is 4.199999999999999\n"
     ]
    }
   ],
   "source": [
    "# SOLUTION:\n",
    "\n",
    "yvals = [5, 50, 4.36, np.Infinity, -np.Infinity]\n",
    "for y in yvals:\n",
    "    x = np.array([y,4.3, 5.2, 5.0, 3.8, 4.1, 5.5, 1.9])\n",
    "    print(\"When y is {}, the median is {}\".format(y,np.median(x)))"
   ]
  },
  {
   "cell_type": "markdown",
   "metadata": {},
   "source": [
    "**Part G**: Think about the previous parts, above, and describe in words or mathematical notation the answer to the following question:\n",
    "\n",
    "- By varying $y$, what is the set of all the possible values that the sample mean could take on?\n"
   ]
  },
  {
   "cell_type": "markdown",
   "metadata": {},
   "source": [
    "**Solution:**\n",
    "\n",
    "We can push the sample mean around a lot, since we have an equation above that tells us what to set $y$ to for any $\\bar{x}$. So $\\bar{x}$ can be anything. In math, we could write this as $(-\\infty,\\infty)$.\n"
   ]
  },
  {
   "cell_type": "markdown",
   "metadata": {},
   "source": [
    "**Part H**: Describe in words or mathematical notation, what happens to the sample standard deviation when $y$ is varied in the following ways: \n",
    " \n",
    "- $y \\to \\infty$ \n",
    "- $y \\to \\bar{x}$"
   ]
  },
  {
   "cell_type": "markdown",
   "metadata": {},
   "source": [
    "As $y \\to \\infty$, the sample standard deviation $ \\to \\infty $. Since the sample standard deviation involves calculating the squared distance from each data value to the mean, by setting y equal to the mean, the standard deviation will decrease."
   ]
  },
  {
   "cell_type": "markdown",
   "metadata": {},
   "source": [
    "[Back to top](#top)\n",
    "\n",
    "<a/ id='p3'></a>\n",
    "\n",
    "## (25 pts) Problem 3\n",
    "*** \n",
    "Some claim that the final hours aboard the RMS Titanic were marked by \"class warfare\" in which the people with first-class tickets took all the good spots on the lifeboats; others claim that the final hours were characterized by male chivalry, in which the men valiantly gave up their positions in the boats and succumbed bravely to the depths of the Atlantic. \n",
    "\n",
    "We have the data on survival rates by class and by sex, so let's figure out whether there is evidence for these scenarios. Access the Titanic data in `titanic_data.csv` and store it in a Pandas DataFrame. The data contains information pertaining to class status (**Pclass**), survival (**Survived**), and gender (**Sex**) of passengers, among other things. Be sure to use the `titanic_data.csv` data set, *not* the `clean_titanic_data` file from the in-class notebook."
   ]
  },
  {
   "cell_type": "code",
   "execution_count": 10,
   "metadata": {},
   "outputs": [
    {
     "data": {
      "text/html": [
       "<div>\n",
       "<style scoped>\n",
       "    .dataframe tbody tr th:only-of-type {\n",
       "        vertical-align: middle;\n",
       "    }\n",
       "\n",
       "    .dataframe tbody tr th {\n",
       "        vertical-align: top;\n",
       "    }\n",
       "\n",
       "    .dataframe thead th {\n",
       "        text-align: right;\n",
       "    }\n",
       "</style>\n",
       "<table border=\"1\" class=\"dataframe\">\n",
       "  <thead>\n",
       "    <tr style=\"text-align: right;\">\n",
       "      <th></th>\n",
       "      <th>PassengerId</th>\n",
       "      <th>Survived</th>\n",
       "      <th>Pclass</th>\n",
       "      <th>Name</th>\n",
       "      <th>Sex</th>\n",
       "      <th>Age</th>\n",
       "      <th>SibSp</th>\n",
       "      <th>Parch</th>\n",
       "      <th>Ticket</th>\n",
       "      <th>Fare</th>\n",
       "      <th>Cabin</th>\n",
       "      <th>Embarked</th>\n",
       "    </tr>\n",
       "  </thead>\n",
       "  <tbody>\n",
       "    <tr>\n",
       "      <th>0</th>\n",
       "      <td>1</td>\n",
       "      <td>0</td>\n",
       "      <td>3</td>\n",
       "      <td>Braund, Mr. Owen Harris</td>\n",
       "      <td>male</td>\n",
       "      <td>36.0</td>\n",
       "      <td>1</td>\n",
       "      <td>0</td>\n",
       "      <td>A/5 21171</td>\n",
       "      <td>7.2500</td>\n",
       "      <td>NaN</td>\n",
       "      <td>S</td>\n",
       "    </tr>\n",
       "    <tr>\n",
       "      <th>1</th>\n",
       "      <td>2</td>\n",
       "      <td>1</td>\n",
       "      <td>1</td>\n",
       "      <td>Cumings, Mrs. John Bradley (Florence Briggs Th...</td>\n",
       "      <td>female</td>\n",
       "      <td>18.0</td>\n",
       "      <td>1</td>\n",
       "      <td>0</td>\n",
       "      <td>PC 17599</td>\n",
       "      <td>71.2833</td>\n",
       "      <td>C85</td>\n",
       "      <td>C</td>\n",
       "    </tr>\n",
       "    <tr>\n",
       "      <th>2</th>\n",
       "      <td>3</td>\n",
       "      <td>1</td>\n",
       "      <td>3</td>\n",
       "      <td>Heikkinen, Miss. Laina</td>\n",
       "      <td>female</td>\n",
       "      <td>14.0</td>\n",
       "      <td>0</td>\n",
       "      <td>0</td>\n",
       "      <td>STON/O2. 3101282</td>\n",
       "      <td>7.9250</td>\n",
       "      <td>NaN</td>\n",
       "      <td>S</td>\n",
       "    </tr>\n",
       "    <tr>\n",
       "      <th>3</th>\n",
       "      <td>4</td>\n",
       "      <td>1</td>\n",
       "      <td>1</td>\n",
       "      <td>Futrelle, Mrs. Jacques Heath (Lily May Peel)</td>\n",
       "      <td>female</td>\n",
       "      <td>27.0</td>\n",
       "      <td>1</td>\n",
       "      <td>0</td>\n",
       "      <td>113803</td>\n",
       "      <td>53.1000</td>\n",
       "      <td>C123</td>\n",
       "      <td>S</td>\n",
       "    </tr>\n",
       "    <tr>\n",
       "      <th>4</th>\n",
       "      <td>5</td>\n",
       "      <td>0</td>\n",
       "      <td>3</td>\n",
       "      <td>Allen, Mr. William Henry</td>\n",
       "      <td>male</td>\n",
       "      <td>63.0</td>\n",
       "      <td>0</td>\n",
       "      <td>0</td>\n",
       "      <td>373450</td>\n",
       "      <td>8.0500</td>\n",
       "      <td>NaN</td>\n",
       "      <td>S</td>\n",
       "    </tr>\n",
       "  </tbody>\n",
       "</table>\n",
       "</div>"
      ],
      "text/plain": [
       "   PassengerId  Survived  Pclass  \\\n",
       "0            1         0       3   \n",
       "1            2         1       1   \n",
       "2            3         1       3   \n",
       "3            4         1       1   \n",
       "4            5         0       3   \n",
       "\n",
       "                                                Name     Sex   Age  SibSp  \\\n",
       "0                            Braund, Mr. Owen Harris    male  36.0      1   \n",
       "1  Cumings, Mrs. John Bradley (Florence Briggs Th...  female  18.0      1   \n",
       "2                             Heikkinen, Miss. Laina  female  14.0      0   \n",
       "3       Futrelle, Mrs. Jacques Heath (Lily May Peel)  female  27.0      1   \n",
       "4                           Allen, Mr. William Henry    male  63.0      0   \n",
       "\n",
       "   Parch            Ticket     Fare Cabin Embarked  \n",
       "0      0         A/5 21171   7.2500   NaN        S  \n",
       "1      0          PC 17599  71.2833   C85        C  \n",
       "2      0  STON/O2. 3101282   7.9250   NaN        S  \n",
       "3      0            113803  53.1000  C123        S  \n",
       "4      0            373450   8.0500   NaN        S  "
      ]
     },
     "execution_count": 10,
     "metadata": {},
     "output_type": "execute_result"
    }
   ],
   "source": [
    "filepath = 'titanic_data.csv'\n",
    "df = pd.read_csv(filepath)\n",
    "df.head()"
   ]
  },
  {
   "cell_type": "markdown",
   "metadata": {},
   "source": [
    "**Part A**: Consider the two claims: class warfare, and male chivalry. Suppose that class warfare occurred in the final hours aboard the Titanic.  What patterns might you expect to see in the data?  Suppose that male chivalry was widespread during the final hours instead. What patterns might you then expect to see in the data?  Explain both of these hypothesized patterns in words. Are these two hypotheses mutually exclusive or not?"
   ]
  },
  {
   "cell_type": "markdown",
   "metadata": {},
   "source": [
    "**Solution:**\n",
    "\n",
    "If there were class warfare, we would expect that the first class is asserting its privilege over the lower classes, so first class passengers should be more likely to survive.  If there were chivalry, it would be the case that men have lower survival rates than women.  These are not mutually exclusive"
   ]
  },
  {
   "cell_type": "markdown",
   "metadata": {},
   "source": [
    "**Part B**: Use Pandas methods to create a clean data set by removing any rows from the DataFrame that are missing values corresponding to **Survived**, **Pclass**, **Age**, or **Sex**. Store the clean data in a DataFrame called dfTitanic. Be sure to show any exploratory work determining if/where there are rows with missing values."
   ]
  },
  {
   "cell_type": "code",
   "execution_count": 11,
   "metadata": {},
   "outputs": [
    {
     "data": {
      "text/plain": [
       "714"
      ]
     },
     "execution_count": 11,
     "metadata": {},
     "output_type": "execute_result"
    }
   ],
   "source": [
    "dfTitanic = df.dropna(subset=[\"Survived\", \"Pclass\", \"Age\", \"Sex\"])\n",
    "dfTitanic.head()\n",
    "len(dfTitanic)"
   ]
  },
  {
   "cell_type": "markdown",
   "metadata": {},
   "source": [
    "**Part C**: Compute the fraction of survivors according to class and gender. There are 3 passenger classes and 2 sexes in the data set, so you should report all 6 possible combinations.  Then, answer 3 questions:\n",
    "* **(i)** Within each passenger class, were men or women more/less/equally likely to survive?\n",
    "* **(ii)**  Looking at only the male or only the female passengers, how is passenger class related to the category's survival rate?\n",
    "* **(iii)**  Did men in first class or women in third class have a higher survival rate? "
   ]
  },
  {
   "cell_type": "code",
   "execution_count": 12,
   "metadata": {},
   "outputs": [
    {
     "name": "stdout",
     "output_type": "stream",
     "text": [
      "               Survived  TotalPassengers  SurvivalRate\n",
      "Pclass Sex                                            \n",
      "1      female        72               75      0.960000\n",
      "       male          36               93      0.387097\n",
      "2      female        54               58      0.931034\n",
      "       male          16               87      0.183908\n",
      "3      female        62              118      0.525424\n",
      "       male          39              283      0.137809\n"
     ]
    }
   ],
   "source": [
    "#Cuts to just Pclass Sex and Survived columns\n",
    "titanic_Pclass_Survived_Sex = dfTitanic.loc[:, [\"Pclass\", \"Sex\", \"Survived\"]]\n",
    "#Add Total Passangers column with all values = 1\n",
    "titanic_Pclass_Survived_Sex[\"TotalPassengers\"] = 1                                          \n",
    "\n",
    "                                            \n",
    "#Groups the values first into Pclass then Sex See https://www.geeksforgeeks.org/sql-group-by/\n",
    "#for explanation of what group by statements do (this is a sql example but its the same idea in pandas)\n",
    "#Sums all numeric columns for groups\n",
    "\n",
    "SurvivalRates = titanic_Pclass_Survived_Sex.groupby([\"Pclass\", \"Sex\"]).sum()\n",
    "\n",
    "#Adds new column with rates\n",
    "SurvivalRates[\"SurvivalRate\"] = SurvivalRates[\"Survived\"] / SurvivalRates[\"TotalPassengers\"]\n",
    "\n",
    "print(SurvivalRates)"
   ]
  },
  {
   "cell_type": "markdown",
   "metadata": {},
   "source": [
    "**Solution**: \n",
    "\n",
    "The fraction of survivors by class and sex are as follows \n",
    "\n",
    "\\begin{array}{c|c|c}\n",
    "\\textrm{Class} & \\textrm{Sex} & \\textrm{Survival Rate} \\\\\n",
    "\\hline\n",
    "1 & \\textrm{male}   &  0.387 \\\\\n",
    "1 & \\textrm{female} &  0.960 \\\\ \n",
    "2 & \\textrm{male}   &  0.184 \\\\\n",
    "2 & \\textrm{female} &  0.931 \\\\ \n",
    "3 & \\textrm{male}   &  0.138 \\\\\n",
    "3 & \\textrm{female} &  0.525 \\\\ \n",
    "\\end{array}\n",
    "\n",
    "Answers:\n",
    "* **(i)** Across all passenger classes, females were more likely to survive than males.\n",
    "* **(ii)**  Passengers in first or second class tended to survive more often (about 90%) than those in 3rd class (about 30%).\n",
    "* **(iii)**  Women in 3rd class survived at a slightly higher rate than men in 1st class."
   ]
  },
  {
   "cell_type": "markdown",
   "metadata": {},
   "source": [
    "**Part D**: Plot a histogram of all of the passenger ages, using the bin edges $[0,5,10,\\ldots,70,75,80]$ defined by `my_bins` below. How would you characterize the distribution of **AGE**? (By _characterize_ we mean that you should indicate whether the data are unimodal, bimodal, multimodal, symmetric, negatively skewed, positively skewed, etc.)  Be sure to label your axes and use your figure to justify your conclusions."
   ]
  },
  {
   "cell_type": "code",
   "execution_count": 13,
   "metadata": {},
   "outputs": [],
   "source": [
    "my_bins = range(0,85,5)"
   ]
  },
  {
   "cell_type": "code",
   "execution_count": 14,
   "metadata": {},
   "outputs": [
    {
     "data": {
      "image/png": "[encoded data removed]",
      "text/plain": [
       "<Figure size 864x432 with 1 Axes>"
      ]
     },
     "metadata": {
      "needs_background": "light"
     },
     "output_type": "display_data"
    }
   ],
   "source": [
    "# SOLUTION:\n",
    "\n",
    "fig, ax = plt.subplots(figsize=(12,6))\n",
    "dfTitanic.hist(column=\"Age\", ax=ax, facecolor=\"steelblue\", edgecolor=\"white\",bins=my_bins)\n",
    "ax.set_xlabel(\"Age\", fontsize=16)\n",
    "ax.set_ylabel(\"Frequency\", fontsize=16)\n",
    "ax.set_title(\"Passenger Age\", fontsize=24)\n",
    "ax.grid(alpha=0.25)\n",
    "ax.set_axisbelow(True)"
   ]
  },
  {
   "cell_type": "markdown",
   "metadata": {},
   "source": [
    "The distribution is **unimodal** and has a rightward or **positive skew**."
   ]
  },
  {
   "cell_type": "markdown",
   "metadata": {},
   "source": [
    "**Part E**: One might wonder how a passenger's age is related to the likelihood that they would survive the Titanic disaster. To answer this question graphically, plot two density histograms on the same set of axes, showing the distribution of the ages of passengers who survived, and the distribution of the ages of passengers who did not. \n",
    "* Use the bin edges $[0,5,10,\\ldots,70,75,80]$ for both histograms.\n",
    "* This problem is about a *ship* sinking in the *ocean*, so use **coral** and **seagreen** as the facecolors for your histogram boxes.\n",
    "* Plot both histograms on a single set of axes (there should be only one panel in the figure you create), but use Matplotlib/Pandas plotting functionality to make the faces of the histogram boxes somewhat transparent, so both histograms are visible.\n",
    "* Include a legend and label your axes.\n",
    "* Comment on the results. Does your figure suggest that some age ranges are more or less likely to have survived the disaster than other ages? Fully explain your reasoning and use your figure to justify your conclusions.\n",
    "* If you noticed some relationship between age and likelihood of survival, what is one possible explanation?"
   ]
  },
  {
   "cell_type": "code",
   "execution_count": 15,
   "metadata": {},
   "outputs": [
    {
     "data": {
      "image/png": "[encoded data removed]",
      "text/plain": [
       "<Figure size 864x432 with 1 Axes>"
      ]
     },
     "metadata": {
      "needs_background": "light"
     },
     "output_type": "display_data"
    }
   ],
   "source": [
    "# SOLUTION:\n",
    "\n",
    "bins = range(0,85,5)\n",
    "fig, ax = plt.subplots(figsize=(12,6))\n",
    "#dfTitanic.hist(column=\"Age\", ax=ax, facecolor=\"steelblue\", edgecolor=\"white\",bins=bins, label=\"All passengers\", alpha=0.5, density=True)\n",
    "dfTitanic.loc[dfTitanic[\"Survived\"]==1].hist(column=\"Age\", ax=ax, facecolor=\"coral\", edgecolor=\"white\",bins=bins, alpha=0.5, label=\"Survived\", density=True)\n",
    "dfTitanic.loc[dfTitanic[\"Survived\"]==0].hist(column=\"Age\", ax=ax, facecolor=\"seagreen\", edgecolor=\"white\",bins=bins, alpha=0.3, label=\"Died\", density=True)\n",
    "ax.set_xlabel(\"Age\", fontsize=16)\n",
    "ax.set_ylabel(\"Frequency\", fontsize=16)\n",
    "ax.set_title(\"Frequency of Passenger Age on Titanic\", fontsize=24)\n",
    "ax.grid(alpha=0.25)\n",
    "ax.set_axisbelow(True)\n",
    "ax.legend();"
   ]
  },
  {
   "cell_type": "markdown",
   "metadata": {},
   "source": [
    "The density histogram for passengers who died is taller (i.e., more likely) for passengers under the age of 15 and passengers in their 30s. So it appears children and adults in their 30s were more likely to perish, whereas young adults (15-30) seem to be more likely than not to survive. For adults over the age of 40, there does not seem to be any discernable trend."
   ]
  },
  {
   "cell_type": "markdown",
   "metadata": {},
   "source": [
    "**Part F:** In Part E, we plotted two *density* histograms, showing the distributions of ages of passengers that survived or did not survive the Titanic disaster. Why would it be misleading for us to have plotted these as *frequency* histograms instead?"
   ]
  },
  {
   "cell_type": "markdown",
   "metadata": {},
   "source": [
    "**Solution:**\n",
    "\n",
    "It would be misleading to plot these as frequency histograms because there are many more passengers who did not survive the disaster (about 2/3 of them), so the frequency histogram for that data subset would have more area than the frequency histogram for the surviving passengers."
   ]
  },
  {
   "cell_type": "markdown",
   "metadata": {},
   "source": [
    "**Part G**: Do the data suggest class warfare, male chivalry, or some combination of both characteristics in the final hours aboard the Titanic?  Justify your conclusion based on the computations done above, or do any other analysis that you like, but be sure to clearly justify your conclusion."
   ]
  },
  {
   "cell_type": "markdown",
   "metadata": {},
   "source": [
    "**Solution:**\n",
    "\n",
    "Women tended to survive more than men, so it appears that the men were being chivalrous and making sure that the women got off the boat first. On the other hand, the first class folks were far more likely to survive. It could be a mix of both. However, it is also entirely possible that we need more information. For example, perhaps the person's location on the ship would be a good item to study in relation to survival."
   ]
  },
  {
   "cell_type": "markdown",
   "metadata": {},
   "source": [
    "[Back to top](#top)\n",
    "<a/ id='p4'></a>\n",
    "\n",
    "## (25 pts) Problem 4 (Snowfall in Boulder)\n",
    "***\n",
    "\n",
    "The NOAA Earth System Research Laboratory (ESRL) Physical Sciences Division (PSD) conducts scientific research to observe, understand, model, predict, and forecast weather, water, and climate extremes and their impacts. They have a website with publicly available data. One such data set contains monthly snowfall for Boulder dating back to 1889 (https://www.esrl.noaa.gov/psd/boulder/bouldersnow.html). Load ‘Boulder_Snowfall.csv’ from the Canvas page. \n",
    "\n",
    "**Part A:** To start, we need to “clean” our data set. When the amount of snow was nonzero, but too small to be recorded, this data set recorded ‘T’. Replace those instances with zeros. AFTER, you've done that, remove any rows (which correspond to years) with missing data. As a check, if you've cleaned the file correctly, there should be 121 rows remaining. "
   ]
  },
  {
   "cell_type": "code",
   "execution_count": 2,
   "metadata": {},
   "outputs": [
    {
     "name": "stdout",
     "output_type": "stream",
     "text": [
      "Before Cleaning: \n",
      "The dataframe is 128 rows long.\n",
      "There are 5 \"T\" values.\n",
      "There are 4 \"Txa0\" values.\n",
      "There are 0 \"T \" values.\n",
      "There are 62  .xao values.\n",
      "There are 0  . values.\n",
      "\n",
      "\n",
      "After Cleaning: \n",
      "The dataframe is now 121 rows long.\n",
      "The dataframe now contains 0 \"T\" values\n",
      "There are 0 \"Txao\" values.\n",
      "There are 0 \".xao\" values.\n",
      "There are 0 \".\" values.\n"
     ]
    },
    {
     "data": {
      "text/html": [
       "<div>\n",
       "<style scoped>\n",
       "    .dataframe tbody tr th:only-of-type {\n",
       "        vertical-align: middle;\n",
       "    }\n",
       "\n",
       "    .dataframe tbody tr th {\n",
       "        vertical-align: top;\n",
       "    }\n",
       "\n",
       "    .dataframe thead th {\n",
       "        text-align: right;\n",
       "    }\n",
       "</style>\n",
       "<table border=\"1\" class=\"dataframe\">\n",
       "  <thead>\n",
       "    <tr style=\"text-align: right;\">\n",
       "      <th></th>\n",
       "      <th>Year</th>\n",
       "      <th>Jan</th>\n",
       "      <th>Feb</th>\n",
       "      <th>Mar</th>\n",
       "      <th>Apr</th>\n",
       "      <th>May</th>\n",
       "      <th>Jun</th>\n",
       "      <th>Jul</th>\n",
       "      <th>Aug</th>\n",
       "      <th>Sep</th>\n",
       "      <th>Oct</th>\n",
       "      <th>Nov</th>\n",
       "      <th>Dec</th>\n",
       "      <th>Total Sep-Jun</th>\n",
       "      <th>Total Jan-Dec</th>\n",
       "    </tr>\n",
       "  </thead>\n",
       "  <tbody>\n",
       "    <tr>\n",
       "      <th>6</th>\n",
       "      <td>1898</td>\n",
       "      <td>7</td>\n",
       "      <td>4.2</td>\n",
       "      <td>7.5</td>\n",
       "      <td>8.2</td>\n",
       "      <td>13</td>\n",
       "      <td>0</td>\n",
       "      <td>0</td>\n",
       "      <td>0</td>\n",
       "      <td>1</td>\n",
       "      <td>5</td>\n",
       "      <td>23.5</td>\n",
       "      <td>18</td>\n",
       "      <td>63.1</td>\n",
       "      <td>87.4</td>\n",
       "    </tr>\n",
       "    <tr>\n",
       "      <th>7</th>\n",
       "      <td>1899</td>\n",
       "      <td>13</td>\n",
       "      <td>15.2</td>\n",
       "      <td>31</td>\n",
       "      <td>8</td>\n",
       "      <td>0</td>\n",
       "      <td>0</td>\n",
       "      <td>0</td>\n",
       "      <td>0</td>\n",
       "      <td>0</td>\n",
       "      <td>2</td>\n",
       "      <td>0</td>\n",
       "      <td>12.8</td>\n",
       "      <td>114.7</td>\n",
       "      <td>82</td>\n",
       "    </tr>\n",
       "    <tr>\n",
       "      <th>8</th>\n",
       "      <td>1900</td>\n",
       "      <td>4.5</td>\n",
       "      <td>14.8</td>\n",
       "      <td>6.8</td>\n",
       "      <td>20</td>\n",
       "      <td>0</td>\n",
       "      <td>0</td>\n",
       "      <td>0</td>\n",
       "      <td>0</td>\n",
       "      <td>0</td>\n",
       "      <td>0</td>\n",
       "      <td>3.1</td>\n",
       "      <td>9.2</td>\n",
       "      <td>60.9</td>\n",
       "      <td>58.4</td>\n",
       "    </tr>\n",
       "    <tr>\n",
       "      <th>9</th>\n",
       "      <td>1901</td>\n",
       "      <td>7.5</td>\n",
       "      <td>6.2</td>\n",
       "      <td>18.5</td>\n",
       "      <td>26</td>\n",
       "      <td>0</td>\n",
       "      <td>0</td>\n",
       "      <td>0</td>\n",
       "      <td>0</td>\n",
       "      <td>0</td>\n",
       "      <td>4</td>\n",
       "      <td>0</td>\n",
       "      <td>15</td>\n",
       "      <td>70.5</td>\n",
       "      <td>77.2</td>\n",
       "    </tr>\n",
       "    <tr>\n",
       "      <th>10</th>\n",
       "      <td>1902</td>\n",
       "      <td>7.2</td>\n",
       "      <td>6.5</td>\n",
       "      <td>9.5</td>\n",
       "      <td>3</td>\n",
       "      <td>0</td>\n",
       "      <td>0</td>\n",
       "      <td>0</td>\n",
       "      <td>0</td>\n",
       "      <td>0</td>\n",
       "      <td>0.5</td>\n",
       "      <td>8</td>\n",
       "      <td>17</td>\n",
       "      <td>45.2</td>\n",
       "      <td>51.7</td>\n",
       "    </tr>\n",
       "  </tbody>\n",
       "</table>\n",
       "</div>"
      ],
      "text/plain": [
       "    Year  Jan   Feb   Mar  Apr May Jun Jul Aug Sep  Oct   Nov   Dec  \\\n",
       "6   1898    7   4.2   7.5  8.2  13   0   0   0   1    5  23.5    18   \n",
       "7   1899   13  15.2    31    8   0   0   0   0   0    2     0  12.8   \n",
       "8   1900  4.5  14.8   6.8   20   0   0   0   0   0    0   3.1   9.2   \n",
       "9   1901  7.5   6.2  18.5   26   0   0   0   0   0    4     0    15   \n",
       "10  1902  7.2   6.5   9.5    3   0   0   0   0   0  0.5     8    17   \n",
       "\n",
       "   Total Sep-Jun Total Jan-Dec  \n",
       "6           63.1          87.4  \n",
       "7          114.7            82  \n",
       "8           60.9          58.4  \n",
       "9           70.5          77.2  \n",
       "10          45.2          51.7  "
      ]
     },
     "execution_count": 2,
     "metadata": {},
     "output_type": "execute_result"
    }
   ],
   "source": [
    "#Read it in and check for \"T\", \"T\\xa0\", \".\", and \".\\xa0\"\n",
    "boulder_snow_data = pd.read_csv('Boulder_Snowfall.csv')\n",
    "print(\"Before Cleaning: \")\n",
    "print(\"The dataframe is %d rows long.\" % len(boulder_snow_data))\n",
    "print(\"There are %d \\\"T\\\" values.\" % len(boulder_snow_data[boulder_snow_data.values == 'T']))\n",
    "print(\"There are %d \\\"Txa0\\\" values.\" % len(boulder_snow_data[boulder_snow_data.values == 'T\\xa0']))\n",
    "print(\"There are %d \\\"T \\\" values.\" % len(boulder_snow_data[boulder_snow_data.values == 'T ']))\n",
    "print(\"There are %d  .xao values.\" % len(boulder_snow_data[boulder_snow_data.values == '.\\xa0']))\n",
    "print(\"There are %d  . values.\" % len(boulder_snow_data[boulder_snow_data.values == '.']))\n",
    "\n",
    "\n",
    "print('\\n\\nAfter Cleaning: ')\n",
    "\n",
    "#Regexes to match any occurance of \"T\", and any occurnace of \".\" without a preceding number or a trailing number\n",
    "boulder_snow_data = boulder_snow_data.replace(r'T', 0, regex=True)\n",
    "boulder_snow_data = boulder_snow_data.replace(r'(?<![0-9])[.](?![0-9])', np.NaN, regex=True)\n",
    "\n",
    "dfclean = boulder_snow_data.dropna()\n",
    "\n",
    "print(\"The dataframe is now %d rows long.\" % len(dfclean))\n",
    "print(\"The dataframe now contains %d \\\"T\\\" values\" % len(dfclean[dfclean.values == 'T']))\n",
    "print(\"There are %d \\\"Txao\\\" values.\" % len(dfclean[dfclean.values == 'T\\xa0']))\n",
    "print(\"There are %d \\\".xao\\\" values.\" % len(dfclean[dfclean.values == '.\\xa0']))\n",
    "print(\"There are %d \\\".\\\" values.\" % len(dfclean[dfclean.values == '.']))\n",
    "\n",
    "dfclean.head()"
   ]
  },
  {
   "cell_type": "markdown",
   "metadata": {},
   "source": [
    "**Part B:** Plot the last column of data, “Total Jan-Dec”, from the cleaned data set. Label your axes. Do you observe any trends? Discuss.\n",
    "\n",
    "[Note: Make sure that your x-axis tick labels are in years and are readable. You may have to play around with formatting the ticklabels. plt.MaxNLocator might be helpful depending on how you plotted your data.] "
   ]
  },
  {
   "cell_type": "code",
   "execution_count": 3,
   "metadata": {},
   "outputs": [
    {
     "data": {
      "image/png": "[encoded data removed]",
      "text/plain": [
       "<Figure size 720x504 with 1 Axes>"
      ]
     },
     "metadata": {
      "needs_background": "light"
     },
     "output_type": "display_data"
    }
   ],
   "source": [
    "dfclean = dfclean.apply (pd.to_numeric)\n",
    "\n",
    "y = dfclean[\"Total Jan-Dec\"]\n",
    "x = dfclean[\"Year\"]\n",
    "\n",
    "fig = plt.figure(figsize=(10, 7))\n",
    "ax = plt.axes()\n",
    "\n",
    "ax.set_ylabel(\"Snowfall in inches\")\n",
    "ax.set_title(\"Boulder Yearly Snowfall\")\n",
    "\n",
    "ax.plot(x,y)\n",
    "ax.xaxis.set_major_locator(plt.MaxNLocator(12)) \n",
    "plt.show()"
   ]
  },
  {
   "cell_type": "markdown",
   "metadata": {},
   "source": [
    "**Part C:** Using your cleaned data set, create a histogram of the yearly snowfall. Bin your data with a bin-width of 5 inches, starting at 35 inches. Make the edgecolor of your graph white. What is the most common amount of snow to get in a year? How does this compare with how much snow we got in 2019? "
   ]
  },
  {
   "cell_type": "code",
   "execution_count": 4,
   "metadata": {},
   "outputs": [
    {
     "data": {
      "image/png": "[encoded data removed]",
      "text/plain": [
       "<Figure size 720x504 with 1 Axes>"
      ]
     },
     "metadata": {
      "needs_background": "light"
     },
     "output_type": "display_data"
    }
   ],
   "source": [
    "mybins = range(35, 170, 5)\n",
    "fig, ax = plt.subplots(figsize=(10, 7))\n",
    "plt.hist(y, bins=mybins, edgecolor = 'white');\n",
    "plt.title(\"Frequency of Yearly Snowfall Amounts\")\n",
    "plt.ylabel(\"Number of Occurances 1898 - Present\")\n",
    "plt.xlabel(\"Inches of Snow\")\n",
    "plt.show()\n"
   ]
  },
  {
   "cell_type": "code",
   "execution_count": 28,
   "metadata": {},
   "outputs": [
    {
     "data": {
      "text/html": [
       "<div>\n",
       "<style scoped>\n",
       "    .dataframe tbody tr th:only-of-type {\n",
       "        vertical-align: middle;\n",
       "    }\n",
       "\n",
       "    .dataframe tbody tr th {\n",
       "        vertical-align: top;\n",
       "    }\n",
       "\n",
       "    .dataframe thead th {\n",
       "        text-align: right;\n",
       "    }\n",
       "</style>\n",
       "<table border=\"1\" class=\"dataframe\">\n",
       "  <thead>\n",
       "    <tr style=\"text-align: right;\">\n",
       "      <th></th>\n",
       "      <th>Year</th>\n",
       "      <th>Jan</th>\n",
       "      <th>Feb</th>\n",
       "      <th>Mar</th>\n",
       "      <th>Apr</th>\n",
       "      <th>May</th>\n",
       "      <th>Jun</th>\n",
       "      <th>Jul</th>\n",
       "      <th>Aug</th>\n",
       "      <th>Sep</th>\n",
       "      <th>Oct</th>\n",
       "      <th>Nov</th>\n",
       "      <th>Dec</th>\n",
       "      <th>Total Sep-Jun</th>\n",
       "      <th>Total Jan-Dec</th>\n",
       "    </tr>\n",
       "  </thead>\n",
       "  <tbody>\n",
       "    <tr>\n",
       "      <th>127</th>\n",
       "      <td>2019</td>\n",
       "      <td>14.5</td>\n",
       "      <td>14.6</td>\n",
       "      <td>16.2</td>\n",
       "      <td>10.2</td>\n",
       "      <td>7.4</td>\n",
       "      <td>0.0</td>\n",
       "      <td>0</td>\n",
       "      <td>0</td>\n",
       "      <td>0.0</td>\n",
       "      <td>26.4</td>\n",
       "      <td>29.5</td>\n",
       "      <td>3.4</td>\n",
       "      <td>59.3</td>\n",
       "      <td>122.2</td>\n",
       "    </tr>\n",
       "  </tbody>\n",
       "</table>\n",
       "</div>"
      ],
      "text/plain": [
       "     Year   Jan   Feb   Mar   Apr  May  Jun  Jul  Aug  Sep   Oct   Nov  Dec  \\\n",
       "127  2019  14.5  14.6  16.2  10.2  7.4  0.0    0    0  0.0  26.4  29.5  3.4   \n",
       "\n",
       "     Total Sep-Jun  Total Jan-Dec  \n",
       "127           59.3          122.2  "
      ]
     },
     "execution_count": 28,
     "metadata": {},
     "output_type": "execute_result"
    }
   ],
   "source": [
    "dfclean.loc[dfclean[\"Year\"] == 2019]"
   ]
  },
  {
   "cell_type": "markdown",
   "metadata": {},
   "source": [
    "The most common yearly snowfall amount is between 75-80 inches according to this histogram. In 2019, there was a recorded yearly snowfall total of 122.2 inches."
   ]
  },
  {
   "cell_type": "markdown",
   "metadata": {},
   "source": [
    "**Part D:** Generate a series of 12 box plots to represent each decade starting in 1900, using your cleaned data set. Orient the box plots so that the decades (‘1900-1909’, ‘1910-1919’, … , ‘2010-2019’) appear along the x-axis, and the y-axis shows the amount of snowfall. Have all 12 boxplots as part of one graph. Include appropriate labels to your axes and a title, so that if someone not in our class were to look at your plots, they would understand what they were looking at. \n",
    "\n",
    "[Note: Data from the year 2004 was dropped during the initial cleaning of the data set (or should have been). Keep this in mind when plotting data from the 2000-2009 decade.]"
   ]
  },
  {
   "cell_type": "code",
   "execution_count": 29,
   "metadata": {},
   "outputs": [
    {
     "data": {
      "image/png": "[encoded data removed]",
      "text/plain": [
       "<Figure size 1152x576 with 1 Axes>"
      ]
     },
     "metadata": {
      "needs_background": "light"
     },
     "output_type": "display_data"
    }
   ],
   "source": [
    "starting_row_index = (dfclean.loc[dfclean[\"Year\"]==1900]).index\n",
    "starting_row_index = starting_row_index[0]\n",
    "ending_row_index = starting_row_index+10\n",
    "\n",
    "# Organizing data into a list of lists for the first 10 decades.\n",
    "list_of_decades = []\n",
    "for i in range(1,11):\n",
    "    \n",
    "    decade = np.array(dfclean.iloc[starting_row_index:ending_row_index, -1])\n",
    "    \n",
    "    list_of_decades.append(decade)\n",
    "    \n",
    "    starting_row_index = ending_row_index\n",
    "    ending_row_index = starting_row_index+10\n",
    "    \n",
    "    \n",
    "# Handling decade with 2004 data missing.\n",
    "decade_2004 = np.array(dfclean.iloc[starting_row_index:ending_row_index-1, -1])\n",
    "list_of_decades.append(decade_2004)\n",
    "\n",
    "# Handling the last decade of data\n",
    "starting_row_index = ending_row_index-1\n",
    "ending_row_index = starting_row_index+10\n",
    "last_decade = np.array(dfclean.iloc[starting_row_index:ending_row_index, -1])\n",
    "list_of_decades.append(last_decade)\n",
    "\n",
    "decades = ['1900-1909','1910-1919','1920-1929','1930-1939','1940-1949','1950-1959','1960-1969','1970-1979','1980-1989','1990-1999','2000-2009','2010-2019']\n",
    "    \n",
    "fig,ax = plt.subplots(figsize=(16,8))\n",
    "ax.boxplot(list_of_decades);\n",
    "ax.set_xticklabels(decades);\n",
    "\n",
    "ax.set_xlabel('Decade')\n",
    "ax.set_ylabel(\"Snowfall (in)\")\n",
    "ax.set_title(\"Snowfall per Decade\")\n",
    "\n",
    "plt.show()"
   ]
  },
  {
   "cell_type": "markdown",
   "metadata": {},
   "source": [
    "\n",
    "**Part E:** It’s almost February, so let’s study snowfall in Boulder, in February. Compute the mean February snowfall using your cleaned data set. Next calculate the Tukey 5-number summary for the February snowfall data. Lastly, generate a boxplot for the February snowfall. "
   ]
  },
  {
   "cell_type": "code",
   "execution_count": 30,
   "metadata": {},
   "outputs": [
    {
     "name": "stdout",
     "output_type": "stream",
     "text": [
      "The mean snowfall in inches for February is:  11.402479338842976\n",
      "\n",
      "The 5 number summary is: \n",
      "min =  0.0\n",
      "Q1 = 5.4\n",
      "median = 9.8\n",
      "Q3 = 16.3\n",
      "max = 54.6\n"
     ]
    },
    {
     "data": {
      "image/png": "[encoded data removed]",
      "text/plain": [
       "<Figure size 432x288 with 1 Axes>"
      ]
     },
     "metadata": {
      "needs_background": "light"
     },
     "output_type": "display_data"
    }
   ],
   "source": [
    "mean_february = dfclean[\"Feb\"].mean()\n",
    "\n",
    "tukey_summary = dfclean[\"Feb\"].describe()\n",
    "print(\"The mean snowfall in inches for February is: \", mean_february)\n",
    "print(\"\")\n",
    "print(\"The 5 number summary is: \")\n",
    "print(\"min = \", tukey_summary[3])\n",
    "print(\"Q1 =\", tukey_summary[4])\n",
    "print(\"median =\", tukey_summary[5])\n",
    "print(\"Q3 =\", tukey_summary[6])\n",
    "print(\"max =\", tukey_summary[7])\n",
    "\n",
    "ax = dfclean.boxplot(column=\"Feb\");\n",
    "ax.set_ylabel(\"Snowfall in inches\");\n",
    "ax.set_title(\"Boxplot of Snowfall in February since 1898\");\n",
    "plt.show()"
   ]
  },
  {
   "cell_type": "markdown",
   "metadata": {},
   "source": [
    "**Part F:** Plot all of the February snowfall with a line plot, using your cleaned data set. How many inches of snow do you predict we will get this February in Boulder? Once February is over, we’ll see who was the closest!"
   ]
  },
  {
   "cell_type": "code",
   "execution_count": 31,
   "metadata": {},
   "outputs": [
    {
     "data": {
      "image/png": "[encoded data removed]",
      "text/plain": [
       "<Figure size 432x288 with 1 Axes>"
      ]
     },
     "metadata": {
      "needs_background": "light"
     },
     "output_type": "display_data"
    }
   ],
   "source": [
    "y = dfclean[\"Feb\"]\n",
    "x = dfclean[\"Year\"]\n",
    "\n",
    "fig = plt.figure()\n",
    "ax = plt.axes()\n",
    "\n",
    "ax.set_ylabel(\"Snowfall in inches\")\n",
    "ax.set_title(\"Boulder February Snowfall\")\n",
    "\n",
    "ax.plot(x,y)\n",
    "ax.xaxis.set_major_locator(plt.MaxNLocator(12))\n",
    "plt.show()"
   ]
  },
  {
   "cell_type": "markdown",
   "metadata": {},
   "source": [
    "I predict 22 inches of snow for Boulder in February 2020."
   ]
  },
  {
   "cell_type": "markdown",
   "metadata": {},
   "source": [
    "[Back to top](#top)\n",
    "<a/ id='p5'></a>\n",
    "\n",
    "## (15 pts) Problem 5\n",
    "***\n",
    "Consider the following 3 data sets:\n",
    "\n",
    "`A=[8, 6, 7, 5, 3, 0, 9]`\n",
    "\n",
    "`B=[2, 29, 84, 2, 10, 69, 3, 31, 18]`\n",
    "\n",
    "`C` is the random data set generated by using `np.random.randint(0,1000, size=100)`\n",
    "\n",
    "For each data set, perform the following computations:\n",
    "\n",
    "**Part A:** Compute and print the mean and standard deviation of the data set. You may use built-in python functions."
   ]
  },
  {
   "cell_type": "code",
   "execution_count": 24,
   "metadata": {},
   "outputs": [
    {
     "name": "stdout",
     "output_type": "stream",
     "text": [
      "The mean of A is:  5.428571428571429\n",
      "The std of A is:  3.101458950082625\n",
      "The mean of B is:  27.555555555555557\n",
      "The std of B is:  30.05457998005924\n",
      "The mean of C is:  497.4\n",
      "The std of C is:  304.09371894037844\n"
     ]
    }
   ],
   "source": [
    "#Solution:\n",
    "#Use numpy arrays so we can subtract and add easily later\n",
    "A = np.array([8, 6, 7, 5, 3, 0, 9])\n",
    "B = np.array([2, 29, 84, 2, 10, 69, 3, 31, 18])\n",
    "C = np.random.randint(0, 1000, size=100)\n",
    "\n",
    "print('The mean of A is: ', np.mean(A))\n",
    "print('The std of A is: ', np.std(A,ddof=1))\n",
    "\n",
    "print('The mean of B is: ', np.mean(B))\n",
    "print('The std of B is: ', np.std(B,ddof=1))\n",
    "\n",
    "print('The mean of C is: ', np.mean(C))\n",
    "print('The std of C is: ', np.std(C,ddof=1))"
   ]
  },
  {
   "cell_type": "markdown",
   "metadata": {},
   "source": [
    "**Part B:** Compute and print  the mean and standard deviation of the new data set formed by subtracting the original mean from each observation."
   ]
  },
  {
   "cell_type": "code",
   "execution_count": 25,
   "metadata": {},
   "outputs": [
    {
     "name": "stdout",
     "output_type": "stream",
     "text": [
      "The mean of A_new is:  -2.5376526277146434e-16\n",
      "The std of A_new is:  3.101458950082625\n",
      "The mean of B_new is:  -1.578983857244667e-15\n",
      "The std of B_new is:  30.05457998005924\n",
      "The mean of C_new is:  9.094947017729283e-15\n",
      "The std of C_new is:  304.09371894037844\n"
     ]
    }
   ],
   "source": [
    "#Solution:\n",
    "\n",
    "#Numpy arrays allow us to use vectorized operations here. \n",
    "A_new = A - np.mean(A)\n",
    "B_new = B - np.mean(B)\n",
    "C_new = C - np.mean(C)\n",
    "\n",
    "print('The mean of A_new is: ', np.mean(A_new))\n",
    "print('The std of A_new is: ', np.std(A_new,ddof=1))\n",
    "\n",
    "print('The mean of B_new is: ', np.mean(B_new))\n",
    "print('The std of B_new is: ', np.std(B_new,ddof=1))\n",
    "\n",
    "print('The mean of C_new is: ', np.mean(C_new))\n",
    "print('The std of C_new is: ', np.std(C_new,ddof=1))"
   ]
  },
  {
   "cell_type": "markdown",
   "metadata": {},
   "source": [
    "**Part C:** Compute and print  the mean and standard deviation of the new data set formed by subtracting the original mean from each observation and then dividing by the original standard deviation."
   ]
  },
  {
   "cell_type": "code",
   "execution_count": 26,
   "metadata": {},
   "outputs": [
    {
     "name": "stdout",
     "output_type": "stream",
     "text": [
      "The mean of A_newest is:  -9.516197353929913e-17\n",
      "The std of A_newest is:  1.0\n",
      "The mean of B_newest is:  -3.700743415417188e-17\n",
      "The std of B_newest is:  1.0\n",
      "The mean of C_newest is:  6.994405055138486e-17\n",
      "The std of C_newest is:  1.0\n"
     ]
    }
   ],
   "source": [
    "#Solution:\n",
    "\n",
    "A_newest = A_new/np.std(A, ddof=1)\n",
    "B_newest = B_new/np.std(B, ddof=1)\n",
    "C_newest = C_new/np.std(C, ddof=1)\n",
    "\n",
    "print('The mean of A_newest is: ', np.mean(A_newest))\n",
    "print('The std of A_newest is: ', np.std(A_newest,ddof=1))\n",
    "\n",
    "print('The mean of B_newest is: ', np.mean(B_newest))\n",
    "print('The std of B_newest is: ', np.std(B_newest,ddof=1))\n",
    "\n",
    "print('The mean of C_newest is: ', np.mean(C_newest))\n",
    "print('The std of C_newest is: ', np.std(C_newest,ddof=1))"
   ]
  },
  {
   "cell_type": "markdown",
   "metadata": {},
   "source": [
    "**Part D:** Why might this result matter?"
   ]
  },
  {
   "cell_type": "markdown",
   "metadata": {},
   "source": [
    "Subtracting the mean and dividing by the standard deviation of the original data set creates a new data set with mean 0 and standard deviation equal to 1. This is how data is standardized and is important when comparing data sets that were recorded using different units. For example, perhaps we wanted to compare daily temperatures for the USA that were recorded in Fahrenheit with daily temperatures in Australia that were recorded in Celsius. Transforming each data set using the previously described method allows for better comparison between the data sets. "
   ]
  },
  {
   "cell_type": "code",
   "execution_count": null,
   "metadata": {},
   "outputs": [],
   "source": []
  }
 ],
 "metadata": {
  "kernelspec": {
   "display_name": "Python 3",
   "language": "python",
   "name": "python3"
  },
  "language_info": {
   "codemirror_mode": {
    "name": "ipython",
    "version": 3
   },
   "file_extension": ".py",
   "mimetype": "text/x-python",
   "name": "python",
   "nbconvert_exporter": "python",
   "pygments_lexer": "ipython3",
   "version": "3.7.1"
  }
 },
 "nbformat": 4,
 "nbformat_minor": 2
}
