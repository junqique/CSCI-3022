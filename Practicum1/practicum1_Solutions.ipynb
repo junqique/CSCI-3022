{
 "cells": [
  {
   "cell_type": "markdown",
   "metadata": {},
   "source": [
    "<a id='top'></a>\n",
    "\n",
    "# CSCI 3022: Intro to Data Science - Spring 2020 Practicum 1\n",
    "***\n",
    "\n",
    "This practicum is due on Canvas by **11:59 PM on Monday March 2**. Your solutions to theoretical questions should be done in Markdown/MathJax directly below the associated question.  Your solutions to computational questions should include any specified Python code and results as well as written commentary on your conclusions.  \n",
    "\n",
    "**Here are the rules:** \n",
    "\n",
    "1. All work, code and analysis, must be your own. \n",
    "1. You may use your course notes, posted lecture slides, textbooks, in-class notebooks, and homework solutions as resources.  You may also search online for answers to general knowledge questions like the form of a probability distribution function or how to perform a particular operation in Python/Pandas. \n",
    "1. This is meant to be like a coding portion of your midterm exam. So, the instructional team will be much less helpful than we typically are with homework. For example, we will not check answers, help debug your code, and so on.\n",
    "1. If something is left open-ended, it is because we want to see how you approach the kinds of problems you will encounter in the wild, where it will not always be clear what sort of tests/methods should be applied. Feel free to ask clarifying questions though.\n",
    "2. You may **NOT** post to message boards or other online resources asking for help.\n",
    "3. You may **NOT** copy-paste solutions *from anywhere*.\n",
    "4. You may **NOT** collaborate with classmates or anyone else.\n",
    "5. In short, **your work must be your own**. It really is that simple.\n",
    "\n",
    "Violation of the above rules will result in an immediate academic sanction (*at the very least*, you will receive a 0 on this practicum or an F in the course, depending on severity), and a trip to the Honor Code Council.\n",
    "\n",
    "**By submitting this assignment, you agree to abide by the rules given above.**\n",
    "\n",
    "***\n",
    "\n",
    "**Name**:  Solutions\n",
    "\n",
    "***\n",
    "\n",
    "\n",
    "**NOTES**: \n",
    "\n",
    "- You may not use late days on the practicums nor can you drop your practicum grades. \n",
    "- If you have a question for us, post it as a **PRIVATE** message on Piazza.  If we decide that the question is appropriate for the entire class, then we will add it to a Practicum clarifications thread. \n",
    "- Do **NOT** load or use any Python packages that are not available in Anaconda 3.6. \n",
    "- Some problems with code may be autograded.  If we provide a function API **do not** change it.  If we do not provide a function API then you're free to structure your code however you like. \n",
    "- Submit only this Jupyter notebook to Canvas.  Do not compress it using tar, rar, zip, etc. \n",
    "- This should go without saying, but... For any question that asks you to calculate something, you **must show all work to receive credit**. Sparse or nonexistent work will receive sparse or nonexistent credit.\n",
    "\n",
    "---\n"
   ]
  },
  {
   "cell_type": "code",
   "execution_count": 1,
   "metadata": {},
   "outputs": [],
   "source": [
    "from scipy import stats\n",
    "import numpy as np \n",
    "import pandas as pd\n",
    "import matplotlib.pyplot as plt\n",
    "%matplotlib inline"
   ]
  },
  {
   "cell_type": "markdown",
   "metadata": {},
   "source": [
    "<br>\n",
    "\n",
    "\n",
    "\n",
    "### [30 points] Problem 1: Gambling With A Peg Legged Pirate:"
   ]
  },
  {
   "cell_type": "markdown",
   "metadata": {},
   "source": [
    "You're a time traveling data scientist, and have traveled way back to the year 1654. Immediately upon arriving you're picked up by a bunch of pirates, and made to join a pirate crew. When the pirates realize that you're immensely knowledgable about probabilities and statistics, they promote you to be their captain! You rename the ship to be the \"Certain Probability of Death\", and set out upon the high seas. After a few days of sailing you come upon another band of buccaneers in their ship. Their captain, Peg Leg Pascal Fermat, challanges you to a gambling game, but you're not sure if you should play it. The rules for the game are below:\n",
    "\n",
    "* You and Peg Leg Pascal Fermat will take turns repeatedly rolling a 20 sided die. The die has values 1 - 20 on it.\n",
    "\n",
    "\n",
    "* **On your turn, the rules are as follows:**\n",
    "1. If you roll the same value as what Peg Leg Pascal Fermat rolled on his last turn, you have to give him 5 dubloons. Do not perform any additional actions from the below list of rules if you rolled the same value as what Peg Leg Pascal Fermat rolled on his last turn. Otherwise:\n",
    "2. If you roll an 8, Peg Leg Pascal Fermat will give you two gold dubloons.\n",
    "3. If you roll a 7, Peg Leg Pascal Fermat will give you four gold dubloon.\n",
    "4. If you roll a 15, you have to give Peg Leg Pascal Fermat one dubloon. \n",
    "5. If you roll a 1, the game ends.\n",
    "6. If you roll any other value, nothing happens. \n",
    "\n",
    "\n",
    "* **On Peg Leg Pascal Fermat's turn the rules are as follows:**\n",
    "1. If Peg Leg Pascal Fermat rolls the same number as you did on your last turn, he then rolls a different 19 sided die. When he rolls again, if he rolls a 19, **you must pay him** 100 dubloons. If he rolls anything other than a 19, **he must pay you** the same number of dubloons as the value of the roll. E.g. If he rolls a 10, he gives you 10 dubloons, but if he rolls a 19 you give him 100 dubloons. When he rolls again, he does not perform any other rules from the below list.\n",
    "2. If Peg Leg Pascal Fermat rolls a 2, he must give you one gold dubloon.\n",
    "3. If Peg Leg Pascal Fermat rolls a 14, you must give him two dubloons.\n",
    "4. If Peg leg Pascal Fermat rolls a 17, you must give him three dubloons.\n",
    "5. If Peg Leg Pascal Fermat rolls a 1, the game ends.\n",
    "\n",
    "6. If Peg Leg Pascal Fermat rolls a 3, he takes off his peg leg, and gives you the leg. Who knows... Maybe it will be usefull if you lose your leg? \n",
    "7. If Peg Leg Pascal Fermat rolls a 3 and he has already given you his peg leg, he must give you 3 dubloons. \n",
    "8. If he rolls any other values, nothing happens.\n",
    "<img src=\"data:image/jpeg;base64,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\" style=\"width: 150px;\"/>"
   ]
  },
  {
   "cell_type": "markdown",
   "metadata": {},
   "source": [
    "**Part A:** Without doing any extensive math or simulations, predict whether this game will result in your making or loosing money. Would you play it? Any logical non-empty answer will get credit here, so don't worry about if your prediction is actually right."
   ]
  },
  {
   "cell_type": "markdown",
   "metadata": {},
   "source": []
  },
  {
   "cell_type": "markdown",
   "metadata": {},
   "source": [
    "**Part B:** Luckily, when you time traveled back to 1750, you brought your laptop with you! Use Python to simulate 10,000 games following the above rules. Record your winnings or losings for each game in an array. Record the games in which you lost money with a negative value (amount you lost), and games in which you won money with a positive value (amount you won). Assume you always go first. You may write multiple functions or use multiple jupyter notebook cells to write your code, how you structure it is up to you. You may use any Numpy or Pandas functions you find useful, but may not import any additional libraries. Calculate the median amount you win or lose, and report it in markdown below. Based on the median value, would you play the game?"
   ]
  },
  {
   "cell_type": "code",
   "execution_count": 2,
   "metadata": {},
   "outputs": [],
   "source": [
    "# Solution\n",
    "def your_turn(roll, peg_leg_last_roll):\n",
    "    \n",
    "    result = 0\n",
    "    is_game_still_going = True\n",
    "    \n",
    "    if roll == peg_leg_last_roll:\n",
    "        result = -5\n",
    "    elif roll == 8:\n",
    "        result = 2\n",
    "    elif roll == 7:\n",
    "        result = 4\n",
    "    elif roll == 15:\n",
    "        result = -1\n",
    "    elif roll == 1:\n",
    "        is_game_still_going = False\n",
    "    \n",
    "    return (is_game_still_going, result, roll)\n",
    "\n",
    "def peg_leg_turn(roll, your_last_roll, still_has_peg_leg, probs_for_19_die=[1.0/19 for __ in range(19)]):\n",
    "    \n",
    "    result = 0\n",
    "    is_game_still_going = True\n",
    "    \n",
    "    if roll == your_last_roll:\n",
    "        result = np.random.choice(list(range(1, 20)), p=probs_for_19_die)\n",
    "        if result == 19:\n",
    "            result = -100\n",
    "    elif roll == 2:\n",
    "        result = 1\n",
    "    elif roll == 3:\n",
    "        result = 3 * int(not still_has_peg_leg)\n",
    "        still_has_peg_leg = False\n",
    "    elif roll == 14:\n",
    "        result = -2\n",
    "    elif roll == 17:\n",
    "        result = -3\n",
    "    elif roll == 1:\n",
    "        is_game_still_going = False\n",
    "    \n",
    "    return (is_game_still_going, result, roll, still_has_peg_leg)\n",
    "\n",
    "def play_turn(which_player, still_has_peg_leg, last_roll, probs_for_19_die, probs_for_20_die = [1.0/20 for __ in range(20)]):\n",
    "    roll = np.random.choice(list(range(1, 21)), p=probs_for_20_die)\n",
    "    \n",
    "    if which_player == \"You\":\n",
    "        turn_results = your_turn(roll, last_roll) + (still_has_peg_leg, \"PLG\")\n",
    "    elif which_player == \"PLG\":\n",
    "        turn_results = peg_leg_turn(roll, last_roll, still_has_peg_leg, probs_for_19_die) + (\"You\",)\n",
    "        \n",
    "    return turn_results\n",
    "\n",
    "def play_one_game(is_peg_leg_cheating=False):\n",
    "    is_game_still_going = True\n",
    "    still_has_peg_leg = True\n",
    "    player = \"You\"\n",
    "    your_winnings = 0\n",
    "    last_roll = None\n",
    "    probs_for_20_die = probs_for_19_die = None\n",
    "    \n",
    "    if is_peg_leg_cheating:\n",
    "        probs_for_19_die = [0.02, 0.02, 0.02, 0.02, 0.01, 0.04, 0.05, 0.05, 0.05,\n",
    "     0.05, 0.05, 0.05, 0.05, 0.05, 0.08, 0.08, 0.08, 0.08, 0.15] \n",
    "        probs_for_20_die = [0.02, 0.02, 0.02, 0.02, 0.05, 0.05, 0.05, 0.05, 0.05, 0.05,\n",
    "     0.05, 0.05, 0.05, 0.05, 0.05, 0.05, 0.08, 0.08, 0.08, 0.08]\n",
    "        \n",
    "    while is_game_still_going:\n",
    "        is_game_still_going, turn_winnings, last_roll, still_has_peg_leg, player = \\\n",
    "            play_turn(player, still_has_peg_leg, last_roll, probs_for_19_die, probs_for_20_die)\n",
    "        your_winnings += turn_winnings\n",
    "    \n",
    "    return your_winnings\n",
    "\n",
    "def simulate_n_games(n, is_cheating=False):\n",
    "    return [play_one_game(is_cheating) for __ in range(n)]"
   ]
  },
  {
   "cell_type": "code",
   "execution_count": 7,
   "metadata": {},
   "outputs": [
    {
     "data": {
      "text/plain": [
       "0.0"
      ]
     },
     "execution_count": 7,
     "metadata": {},
     "output_type": "execute_result"
    }
   ],
   "source": [
    "simulated_games = pd.Series(simulate_n_games(1000))\n",
    "np.median(simulated_games)\n"
   ]
  },
  {
   "cell_type": "markdown",
   "metadata": {},
   "source": [
    "Based on the median value alone we only know that the 50th percentile value is 0. From this, we'd expect to not lose or gain any money over the long run, however the median can be misleading as we'll see below."
   ]
  },
  {
   "cell_type": "markdown",
   "metadata": {},
   "source": [
    "**Part C:** Calculate a Tukey 5 Number Summary and the mean value for your array of simulated winnings/losings. Based on this information would you play the game? Are any of these metrics more useful than others? Which metrics would be important if we were deciding to play a single game? Which would be more important if we were deciding to play a very large number of games? "
   ]
  },
  {
   "cell_type": "code",
   "execution_count": 8,
   "metadata": {},
   "outputs": [
    {
     "data": {
      "text/plain": [
       "count    1000.000000\n",
       "mean        0.750000\n",
       "std        16.214018\n",
       "min      -111.000000\n",
       "25%        -2.000000\n",
       "50%         0.000000\n",
       "75%         5.000000\n",
       "max        78.000000\n",
       "dtype: float64"
      ]
     },
     "execution_count": 8,
     "metadata": {},
     "output_type": "execute_result"
    }
   ],
   "source": [
    "simulated_games.describe()"
   ]
  },
  {
   "cell_type": "markdown",
   "metadata": {},
   "source": [
    "Based on the mean and the Tukey 5 number summary, we can see that you should probably play this game if we can play it over a large number of games. If we're playing one game, it's really hard to say if it wil make us money or not! In general, if I was gambling I'd be concerned with the maximum we could lose (represented here by the minimum value). If we don't have enough money to cover the maximum loss possible, then it's pretty dangerous to play. I'd also be concerned with mean value, because in this instance it will more accurately (than the median) represent the amount of money we will make or loose over a very large number of games. If we were only playing a very small number of games, I'd worry about the interquartile region, as this represents where we can expect most games to payout, and we probably won't hit any extreme values in a small number of games. **Note:** this is not an endorsement of statistically informed gambling."
   ]
  },
  {
   "cell_type": "markdown",
   "metadata": {},
   "source": [
    "**Part D:** After seeing the numbers in **Part C**, we decide to play a few games with Peg Leg Pascal Fermat (You might want to double check you simulation in **Part B** if the mean value doesn't come out slightly positive in **Part C**). You play 10 rounds and it seems like he might be cheating. You just can't win, and you're losing a ton of money! Maybe Peg Leg Pascal Fermat has a loaded die. However, you've found a .csv file buried in the sand. It has the winnings and losings of another player who was playing the same game against Peg Leg Pascal Fermat. We'll use this information to figure out if he is cheating. Read in the file`Pascal_Fermat_Games.csv`. Each row contains the results of a game that another player played against Peg Leg Pascal Fermat. It's a little bit dirty (after all this .csv was buried in the sand). Perform the following cleaning tasks:\n",
    "1. Read in the .csv. If you have any trouble reading in the file, open it in a text editor and take a look at it. You might find the pandas documentation for the `read_csv` function and some of the optional arguments useful. \n",
    "2. Look at the two columns. One of them is useless. Drop the useless one.\n",
    "3. Drop any strings of non-integer data.\n",
    "3. Check to see if any of our values are floating point values. If there are any, drop them. \n",
    "5. Drop any values that are over 1000 or under -1000. \n",
    "6. Print the number of rows remaining.\n",
    "\n",
    "After doing all that, you should have 9661 rows of data left."
   ]
  },
  {
   "cell_type": "code",
   "execution_count": 10,
   "metadata": {},
   "outputs": [
    {
     "name": "stdout",
     "output_type": "stream",
     "text": [
      "9661\n"
     ]
    }
   ],
   "source": [
    "#Solution\n",
    "df = pd.read_csv('Pascal_Fermat_Games.csv', sep=';')\n",
    "series = df['Winnings']\n",
    "actual_data_games = pd.to_numeric(series, errors='coerce')\n",
    "actual_data_games = actual_data_games.dropna()\n",
    "actual_data_games = actual_data_games.apply(lambda x: x if x % 1 == 0 else np.NaN).dropna()\n",
    "actual_data_games = actual_data_games.loc[(actual_data_games < 1000) & (actual_data_games > -1000) ]\n",
    "print(len(actual_data_games))"
   ]
  },
  {
   "cell_type": "markdown",
   "metadata": {},
   "source": [
    "**Part E:** Create a density histogram with both our siumulated data and our data from the `Pascal_Fermat_Games.csv` file overlayed on the same set of axes. Ensure your plot is legible and contains all of the common labels/titles/etc. Make sure you use enough bins to make the data easly visible. To make the graph easy to read, it's fine to limit the x range to avoid showing large areas with very few occurances of data. This problem will largely be graded based on how nice and easy to interpret your plot is, so do your best.\n",
    "\n",
    "One Annoying thing about matplotlib is how small the font on the titles/axis labels/etc. Do some googling and figure out how to change the matplotlib font sizes. ***CITE YOUR SOURCES IF YOU USE ANYTHING OTHER THAN THE MATPLOTLIB DOCUMENTATION PAGES.***. Change the axes label font to be 14pt, the x-tick and y-tick font to be 8pt, the title font to be 16pt, and the legend font to be 12pt. Isn't that nicer? "
   ]
  },
  {
   "cell_type": "code",
   "execution_count": 11,
   "metadata": {},
   "outputs": [
    {
     "data": {
      "image/png": "[encoded data removed]",
      "text/plain": [
       "<Figure size 1080x504 with 1 Axes>"
      ]
     },
     "metadata": {
      "needs_background": "light"
     },
     "output_type": "display_data"
    }
   ],
   "source": [
    "#Font Sizes\n",
    "#https://stackoverflow.com/questions/3899980/how-to-change-the-font-size-on-a-matplotlib-plot\n",
    "\n",
    "plt.rc('figure', titlesize=16)  # fontsize of the figure title\n",
    "plt.rc('axes', labelsize=14)    #fontsize of the axes labesl\n",
    "plt.rc('xtick', labelsize=8)    # fontsize of the tick labels\n",
    "plt.rc('ytick', labelsize=8)    # fontsize of the tick labels\n",
    "plt.rc('legend', fontsize=12)    # fontsize of the legend \n",
    "\n",
    "fig, ax = plt.subplots(figsize=(15, 7))\n",
    "\n",
    "ax.hist(actual_data_games, bins=150, density=True, color='red', alpha= 0.5, label=\"Real Data\")\n",
    "ax.hist(simulated_games, bins=150, density=True, color='blue', alpha= 0.5, label=\"Simulated Data\")\n",
    "\n",
    "ax.set_xlim(-250, 100)\n",
    "ax.legend()\n",
    "ax.set_title('Density of Real Data Versus Simulated Data for Peg Leg Pascal Fermat\\'s Game')\n",
    "ax.set_ylabel('Density of Game Winnings')\n",
    "ax.set_xlabel('Amount Won (Dubloons)')\n",
    "\n",
    "plt.show()"
   ]
  },
  {
   "cell_type": "markdown",
   "metadata": {},
   "source": [
    "**Part F:** Print out the Tukey 5 number summary of the data from the .csv file. Based on this and the histogram above, make an argument as to whether Peg Leg Pascal Fermat is cheating or not."
   ]
  },
  {
   "cell_type": "code",
   "execution_count": 12,
   "metadata": {},
   "outputs": [
    {
     "data": {
      "text/plain": [
       "count    9661.000000\n",
       "mean      -15.747956\n",
       "std        52.943518\n",
       "min      -476.000000\n",
       "25%       -11.000000\n",
       "50%         0.000000\n",
       "75%         9.000000\n",
       "max       162.000000\n",
       "Name: Winnings, dtype: float64"
      ]
     },
     "execution_count": 12,
     "metadata": {},
     "output_type": "execute_result"
    }
   ],
   "source": [
    "actual_data_games.describe()"
   ]
  },
  {
   "cell_type": "markdown",
   "metadata": {},
   "source": [
    "The mean, 25th percentile data, the 75th percentile, and min and max are all lower then they should be. Additionally the histogram shows alot of data distributed in lower values than we'd expect from our simulation. So yeah, he's probably cheating. "
   ]
  },
  {
   "cell_type": "markdown",
   "metadata": {},
   "source": [
    "**Part G:** In this problem you were transported back to the year 1654. Find out why the year 1654 is important in the fields of mathematics and data science. "
   ]
  },
  {
   "cell_type": "markdown",
   "metadata": {},
   "source": [
    "In 1654, Blaise Pascal and Pierre de Fermat began to formalize the theory of probability. Some sources claim this was largely due to an intrest in a gambling game involving dice."
   ]
  },
  {
   "cell_type": "markdown",
   "metadata": {},
   "source": [
    "<br>\n",
    "\n",
    "---\n",
    "[Back to top](#top)\n",
    "<a id='p2'></a>\n",
    "\n",
    "### [30 points] Problem 2: Sonic or Tails?"
   ]
  },
  {
   "cell_type": "markdown",
   "metadata": {},
   "source": [
    "<img src=\"http://www.cs.colorado.edu/~tonyewong/home/resources/hedgehog_coin.jpg\" style=\"width: 500px;\"/>"
   ]
  },
  {
   "cell_type": "markdown",
   "metadata": {},
   "source": [
    "In the file `flipadelphia.csv` you will find the results of an experiment that was conducted by Amy, the famous hedgehog data scientist, as she was flipping a coin one sunny day in a meadow. This is no ordinary coin, however: this coin has on one side Sonic, and on the other side Tails! The two sides of this coin are above, and at [this link](http://www.cs.colorado.edu/~tonyewong/home/resources/hedgehog_coin.jpg).\n",
    "\n",
    "In Amy's experiment she repeatedly flipped the coin until it came up Sonic. After each trial, she recorded her observed value for $X=$ the number of flips required to see the first Sonic. The results are stored in `flipadelphia.csv`.\n",
    "\n",
    "Amy has a lot of coins for performing cool data science experiments, and these coins have different biases (not all unique). Amy is a forgetful hedgehog, so she isn't sure which coin she was flipping. Her coins have biases of $p_S=.2, .3, .4, .5, .6, .7$ and $.8$, where $p_S$ is the probability of any given flip coming up Sonic."
   ]
  },
  {
   "cell_type": "markdown",
   "metadata": {},
   "source": [
    "**Part A:** Read in the data set and make a frequency histogram of the data. Be sure to label your axes appropriately, and center your bins above the integer numbers of flips (0, 1, 2, etc...). What is the name of the distribution for the random variable that Amy observed and recorded in her data table?"
   ]
  },
  {
   "cell_type": "code",
   "execution_count": 14,
   "metadata": {},
   "outputs": [
    {
     "data": {
      "image/png": "[encoded data removed]",
      "text/plain": [
       "<Figure size 504x360 with 1 Axes>"
      ]
     },
     "metadata": {
      "needs_background": "light"
     },
     "output_type": "display_data"
    }
   ],
   "source": [
    "# SOLUTION:\n",
    "\n",
    "dfFlips = pd.read_csv(\"flipadelphia.csv\", header=None)\n",
    "\n",
    "my_bins = np.arange(-0.5,7.5,1)\n",
    "fig, ax = plt.subplots(nrows=1, ncols=1, figsize=(7,5))\n",
    "dfFlips.hist(ax=ax, bins=my_bins, edgecolor='white')\n",
    "ax.set_axisbelow(True)\n",
    "ax.set_xlabel('number of flips before first heads')\n",
    "ax.set_ylabel('frequency')\n",
    "ax.set_title('');"
   ]
  },
  {
   "cell_type": "markdown",
   "metadata": {},
   "source": [
    "Amy recorded the number of trials needed to observe the *first* success, so that is a **geometric distribution**.  Saying *negative binomial* would also be acceptable."
   ]
  },
  {
   "cell_type": "markdown",
   "metadata": {},
   "source": [
    "**Part B:** Use the distribution that you identified in Part A to determine $P(X=n \\mid p_S=0.5)$, the probability that Amy would observe the first Sonic flip on the $n$-th flip, assuming that the coin is fair ($p_S=0.5$), for each of the $n$ from her 10 trials in her data set. Then, combine these to find the overall *likelihood* that she would observe her entire data set, assuming that the coin was fair. That is, estimate $P(\\text{data} \\mid p_S=0.5)$. Be sure to note any assumptions you make about how the outcome of one trial relates to the outcomes of the others.\n",
    "\n",
    "If it helps to have some mathematical notation, consider that Amy's data set consists of the results of all 10 of her trials: $$\\text{data} = (X_1 = n_1) \\cap (X_2 = n_2) \\cap \\ldots (X_{10} = n_{10})$$"
   ]
  },
  {
   "cell_type": "code",
   "execution_count": 15,
   "metadata": {},
   "outputs": [
    {
     "name": "stdout",
     "output_type": "stream",
     "text": [
      "The probability of observing each data point \n",
      " (n_i, left), assuming the coin is fair is...\n",
      "1 0.5\n",
      "5 0.03125\n",
      "1 0.5\n",
      "5 0.03125\n",
      "2 0.25\n",
      "2 0.25\n",
      "3 0.125\n",
      "2 0.25\n",
      "1 0.5\n",
      "1 0.5\n"
     ]
    }
   ],
   "source": [
    "# SOLUTION:\n",
    "\n",
    "print(\"The probability of observing each data point \\n (n_i, left), assuming the coin is fair is...\")\n",
    "for data_point in dfFlips[0]:\n",
    "    print(data_point, stats.geom.pmf(data_point, p=0.5))"
   ]
  },
  {
   "cell_type": "markdown",
   "metadata": {},
   "source": [
    "Each trial is **conditionally independent** of the others, given the bias of the coin, so we can multiply together the individual likelihood probabilities:"
   ]
  },
  {
   "cell_type": "code",
   "execution_count": 16,
   "metadata": {},
   "outputs": [
    {
     "name": "stdout",
     "output_type": "stream",
     "text": [
      "The overall likelihood is... 1.1920928955078125e-07\n"
     ]
    }
   ],
   "source": [
    "lhood = np.prod(stats.geom.pmf(dfFlips, p=0.5))\n",
    "print(\"The overall likelihood is... {}\".format(lhood))"
   ]
  },
  {
   "cell_type": "markdown",
   "metadata": {},
   "source": [
    "**Part C:** Suppose before we observed Amy's data set, we believe that each of the seven possible coin biases occur with equal probability, $P(p_S)$. This is called the _prior distribution_ for the coin bias, $p_S$, because we have not yet taken into account Amy's data set.\n",
    "* Now, estimate the probability of each possible bias, given the data: $P(p_S \\mid \\text{data})$.  This is called the _posterior distribution_ for the coin bias, because it is our assessment of the coin's bias _after_ we have accounted for Amy's data.\n",
    "* Make a line plot of the bias along x-axis versus the posterior probability of that bias along the y-axis, and be sure to label your axes. \n",
    "* Comment on your plot. What appears to be the most probable value for the bias, $p_S$? This is called the _maximum a posteriori_ estimate, because it maximizes the posterior distribution and sounds very, *very* fancy."
   ]
  },
  {
   "cell_type": "code",
   "execution_count": 17,
   "metadata": {},
   "outputs": [
    {
     "data": {
      "image/png": "[encoded data removed]",
      "text/plain": [
       "<Figure size 432x288 with 1 Axes>"
      ]
     },
     "metadata": {
      "needs_background": "light"
     },
     "output_type": "display_data"
    }
   ],
   "source": [
    "# SOLUTION:\n",
    "\n",
    "def likelihood(n_flips, p):\n",
    "    return p*((1-p)**(n_flips-1))\n",
    "\n",
    "def prior(pS):\n",
    "    return 1/len(pS)\n",
    "\n",
    "pS = np.arange(.2,.9,.1)\n",
    "likes = np.zeros(len(pS))\n",
    "priors = np.zeros(len(pS))\n",
    "posts = np.zeros(len(pS))\n",
    "for k in range(len(pS)):\n",
    "    priors[k] = prior(pS)\n",
    "    likes[k] = np.prod(likelihood(dfFlips, pS[k]))\n",
    "    posts[k] = likes[k]*priors[k]\n",
    "    \n",
    "# need to normalize posts\n",
    "posts = posts/np.sum(posts)\n",
    "\n",
    "plt.plot(pS,posts)\n",
    "plt.xlabel('Coin bias')\n",
    "plt.ylabel('Density');"
   ]
  },
  {
   "cell_type": "markdown",
   "metadata": {},
   "source": [
    "**Solution:**  Most probable value for bias appears to be 0.4"
   ]
  },
  {
   "cell_type": "markdown",
   "metadata": {},
   "source": [
    "**Part D:** Now suppose the prior probability distribution of the coins is not uniform. Namely, suppose these probabilities follow a ***triangular distribution***, centered at $p_S=0.5$:\n",
    "$$P(p_S = p) = \\begin{cases} mp & p \\leq 0.5 \\\\ m(1-p) & p > 0.5 \\end{cases}$$\n",
    "\n",
    "Determine what value the constant $m$ should have in order to make $P(p_S = p)$ is a valid probability mass function. Remember, $p_S \\in \\{.2, .3, \\ldots , .7, .8\\}$ and is discrete."
   ]
  },
  {
   "cell_type": "markdown",
   "metadata": {},
   "source": [
    "**Solution:**\n",
    "\n",
    "To be a valid pmf, all probabilities must be nonnegative (they are as long as $m$ and $p$ are both nonnegative) and sum to 1:\n",
    "\n",
    "$\\begin{align*}\n",
    "  1 &\\stackrel{\\heartsuit}{=} \\sum_{p} P(p_S=p) \\\\\n",
    "    &= P(p_S = 0.2) + P(p_S = 0.3) + P(p_S = 0.4) + P(p_S = 0.5) + P(p_S = 0.6) + P(p_S = 0.7) + P(p_S = 0.8) \\\\\n",
    "    &= 0.2m + 0.3m + 0.4m + 0.5m + 0.4m + 0.3m + 0.2m \\\\\n",
    "    &= 2.3m \\\\\n",
    "    & \\fbox{$m = 1/2.3 \\approx 0.43478$}\n",
    " \\end{align*}$"
   ]
  },
  {
   "cell_type": "markdown",
   "metadata": {},
   "source": [
    "**Part E:** Compare, using words, the triangular prior distribution (this part) and the uniform prior distribution (from Part C).  What does each represent in terms of our _prior_ knowledge of the coin bias?"
   ]
  },
  {
   "cell_type": "markdown",
   "metadata": {},
   "source": [
    "**Solution:**\n",
    "\n",
    "The triangular distribution puts more probability mass towards the center (fair coin) and less toward more severe coin biases, whereas the uniform distribution assumes all coin biases are equally likely. So, the triangular distribution conveys a state of greater knowledge about the coin biases, or at least more confidence in our prior knowledge, than a uniform distribution."
   ]
  },
  {
   "cell_type": "markdown",
   "metadata": {},
   "source": [
    "**Part F:** Modify your calculation of the posterior distribution from Part C to use the new triangular prior distribution from Part D. Make a plot of the results that includes both posterior distribution using the uniform prior (from Part C) and the posterior distribution using the triangular prior (from Part D) in the same figure panel. Be sure to label your axes and include a legend."
   ]
  },
  {
   "cell_type": "code",
   "execution_count": 158,
   "metadata": {},
   "outputs": [
    {
     "data": {
      "image/png": "[encoded data removed]",
      "text/plain": [
       "<Figure size 432x288 with 1 Axes>"
      ]
     },
     "metadata": {},
     "output_type": "display_data"
    }
   ],
   "source": [
    "# SOLUTION:\n",
    "\n",
    "def triangular_prior(p):\n",
    "    if 0 <= p <= 0.5:\n",
    "        return p/2.3\n",
    "    elif 0.5 < p <= 1:\n",
    "        return (1-p)/2.3\n",
    "    else:\n",
    "        return 0\n",
    "\n",
    "pS = np.arange(.2,.9,.1)\n",
    "likes = np.zeros(len(pS))\n",
    "priors = np.zeros(len(pS))\n",
    "triangular_posts = np.zeros(len(pS))\n",
    "for k in range(len(pS)):\n",
    "    priors[k] = triangular_prior(pS[k])\n",
    "    likes[k] = np.prod(likelihood(dfFlips, pS[k]))\n",
    "    triangular_posts[k] = likes[k]*priors[k]\n",
    "    \n",
    "# need to normalize posts\n",
    "triangular_posts = triangular_posts/np.sum(triangular_posts)\n",
    "\n",
    "plt.plot(pS,triangular_posts, label='triangular prior')\n",
    "plt.plot(pS,posts, label='uniform prior')\n",
    "plt.xlabel('Coin bias, p_S')\n",
    "plt.ylabel('Probability density')\n",
    "plt.legend();"
   ]
  },
  {
   "cell_type": "markdown",
   "metadata": {},
   "source": [
    "**Part G:** Comment on the effect of your choice of different prior distribution on your posterior inference for the most probable coin bias."
   ]
  },
  {
   "cell_type": "markdown",
   "metadata": {},
   "source": [
    "**Solution:**\n",
    "\n",
    "The prior distribution that is triangular gives more weight to biases towards the middle of the pack, around $0.5$ (a fair coin). The maximum a posteriori estimate for the coin bias under that assumption of prior knowledge is a fair coin, with $p_S = 0.5$. But, with a less informative prior (the uniform one), we find a maximum a posteriori estimate of $p_S = 0.4$.\n",
    "\n",
    "So which one is correct? Maybe one of them, but also maybe _neither_ of them are correct! This could certainly also have been an anomalous result using a coin with bias $p_S = 0.7$ (or something like that). Just like in real life, you might never know..."
   ]
  }
 ],
 "metadata": {
  "kernelspec": {
   "display_name": "Python 3",
   "language": "python",
   "name": "python3"
  },
  "language_info": {
   "codemirror_mode": {
    "name": "ipython",
    "version": 3
   },
   "file_extension": ".py",
   "mimetype": "text/x-python",
   "name": "python",
   "nbconvert_exporter": "python",
   "pygments_lexer": "ipython3",
   "version": "3.7.1"
  }
 },
 "nbformat": 4,
 "nbformat_minor": 2
}
